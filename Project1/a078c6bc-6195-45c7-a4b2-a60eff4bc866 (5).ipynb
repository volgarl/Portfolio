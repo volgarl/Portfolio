{
 "cells": [
  {
   "cell_type": "markdown",
   "id": "386f2ae7",
   "metadata": {
    "deletable": false,
    "editable": false,
    "id": "386f2ae7"
   },
   "source": [
    "# Исследование надежности заемщиков\n"
   ]
  },
  {
   "cell_type": "markdown",
   "id": "484662b2",
   "metadata": {},
   "source": [
    "**Описание проекта**\n",
    "\n",
    "Заказчик — кредитный отдел банка. Нужно разобраться, влияет ли семейное положение и количество детей клиента на факт погашения \n",
    "кредита в срок. Входные данные от банка — статистика о платёжеспособности клиентов.\n",
    "Результаты исследования будут учтены при построении модели кредитного скоринга — специальной системы, которая оценивает\n",
    "способность потенциального заёмщика вернуть кредит банку."
   ]
  },
  {
   "cell_type": "markdown",
   "id": "fc2f4652",
   "metadata": {},
   "source": [
    "**Описание данных**\n",
    "\n",
    "- **children**— количество детей в семье\n",
    "- **days_employed** — общий трудовой стаж в днях\n",
    "- **dob_years** — возраст клиента в годах\n",
    "- **education** — уровень образования клиента\n",
    "- **education_id** — идентификатор уровня образования\n",
    "- **family_status** — семейное положение\n",
    "- **family_status_id** — идентификатор семейного положения\n",
    "- **gender** — пол клиента\n",
    "- **income_type** — тип занятости\n",
    "- **debt** — имел ли задолженность по возврату кредитов\n",
    "- **total_income** — ежемесячный доход\n",
    "- **purpose** — цель получения кредита"
   ]
  },
  {
   "cell_type": "markdown",
   "id": "57e18ca3",
   "metadata": {},
   "source": [
    "**План работ**\n",
    "\n",
    "1. Изучить общую информацию о данных\n",
    "2. Выполнить предобработку данных:\n",
    "    - найти и обработать пропуски в данных,\n",
    "    - найти и обработать аномальные значения,\n",
    "    - найти дубликаты и удалить их,\n",
    "    - проверить типы данных\n",
    "3. Категоризировать данные\n",
    "4. Исследовать данные и зависимости между ними\n",
    "5. Оформить результаты, сделать общий вывод\n",
    "\n",
    "\n",
    "    "
   ]
  },
  {
   "cell_type": "markdown",
   "id": "ffe86f65",
   "metadata": {
    "deletable": false,
    "editable": false,
    "id": "ffe86f65"
   },
   "source": [
    "Во второй части проекта вы выполните шаги 3 и 4. Их вручную проверит ревьюер.\n",
    "Чтобы вам не пришлось писать код заново для шагов 1 и 2, мы добавили авторские решения в ячейки с кодом. \n",
    "\n"
   ]
  },
  {
   "cell_type": "markdown",
   "id": "26613308",
   "metadata": {
    "deletable": false,
    "editable": false,
    "id": "26613308"
   },
   "source": [
    "## Откройте таблицу и изучите общую информацию о данных"
   ]
  },
  {
   "cell_type": "markdown",
   "id": "3c9f838e",
   "metadata": {
    "deletable": false,
    "editable": false,
    "id": "3c9f838e"
   },
   "source": [
    "**Задание 1. Импортируйте библиотеку pandas. Считайте данные из csv-файла в датафрейм и сохраните в переменную `data`. Путь к файлу:**\n",
    "\n",
    "`/datasets/data.csv`"
   ]
  },
  {
   "cell_type": "code",
   "execution_count": 111,
   "id": "eaccf759",
   "metadata": {},
   "outputs": [],
   "source": [
    "#загрузка библиотек Pandas\n",
    "import pandas as pd"
   ]
  },
  {
   "cell_type": "code",
   "execution_count": 112,
   "id": "77a68a90",
   "metadata": {
    "deletable": false,
    "id": "77a68a90"
   },
   "outputs": [],
   "source": [
    "try:\n",
    "    data = pd.read_csv('/datasets/data.csv')\n",
    "except:\n",
    "    data = pd.read_csv('https://code.s3.yandex.net/datasets/data.csv')"
   ]
  },
  {
   "cell_type": "markdown",
   "id": "45365635",
   "metadata": {
    "deletable": false,
    "editable": false,
    "id": "45365635"
   },
   "source": [
    "**Задание 2. Выведите первые 20 строчек датафрейма `data` на экран.**"
   ]
  },
  {
   "cell_type": "code",
   "execution_count": 113,
   "id": "b0451a9a",
   "metadata": {
    "deletable": false,
    "id": "b0451a9a",
    "outputId": "1a8f3ef2-d323-4ec2-ddf7-89670b5944c4"
   },
   "outputs": [
    {
     "data": {
      "text/html": [
       "<div>\n",
       "<style scoped>\n",
       "    .dataframe tbody tr th:only-of-type {\n",
       "        vertical-align: middle;\n",
       "    }\n",
       "\n",
       "    .dataframe tbody tr th {\n",
       "        vertical-align: top;\n",
       "    }\n",
       "\n",
       "    .dataframe thead th {\n",
       "        text-align: right;\n",
       "    }\n",
       "</style>\n",
       "<table border=\"1\" class=\"dataframe\">\n",
       "  <thead>\n",
       "    <tr style=\"text-align: right;\">\n",
       "      <th></th>\n",
       "      <th>children</th>\n",
       "      <th>days_employed</th>\n",
       "      <th>dob_years</th>\n",
       "      <th>education</th>\n",
       "      <th>education_id</th>\n",
       "      <th>family_status</th>\n",
       "      <th>family_status_id</th>\n",
       "      <th>gender</th>\n",
       "      <th>income_type</th>\n",
       "      <th>debt</th>\n",
       "      <th>total_income</th>\n",
       "      <th>purpose</th>\n",
       "    </tr>\n",
       "  </thead>\n",
       "  <tbody>\n",
       "    <tr>\n",
       "      <th>0</th>\n",
       "      <td>1</td>\n",
       "      <td>-8437.673028</td>\n",
       "      <td>42</td>\n",
       "      <td>высшее</td>\n",
       "      <td>0</td>\n",
       "      <td>женат / замужем</td>\n",
       "      <td>0</td>\n",
       "      <td>F</td>\n",
       "      <td>сотрудник</td>\n",
       "      <td>0</td>\n",
       "      <td>253875.639453</td>\n",
       "      <td>покупка жилья</td>\n",
       "    </tr>\n",
       "    <tr>\n",
       "      <th>1</th>\n",
       "      <td>1</td>\n",
       "      <td>-4024.803754</td>\n",
       "      <td>36</td>\n",
       "      <td>среднее</td>\n",
       "      <td>1</td>\n",
       "      <td>женат / замужем</td>\n",
       "      <td>0</td>\n",
       "      <td>F</td>\n",
       "      <td>сотрудник</td>\n",
       "      <td>0</td>\n",
       "      <td>112080.014102</td>\n",
       "      <td>приобретение автомобиля</td>\n",
       "    </tr>\n",
       "    <tr>\n",
       "      <th>2</th>\n",
       "      <td>0</td>\n",
       "      <td>-5623.422610</td>\n",
       "      <td>33</td>\n",
       "      <td>Среднее</td>\n",
       "      <td>1</td>\n",
       "      <td>женат / замужем</td>\n",
       "      <td>0</td>\n",
       "      <td>M</td>\n",
       "      <td>сотрудник</td>\n",
       "      <td>0</td>\n",
       "      <td>145885.952297</td>\n",
       "      <td>покупка жилья</td>\n",
       "    </tr>\n",
       "    <tr>\n",
       "      <th>3</th>\n",
       "      <td>3</td>\n",
       "      <td>-4124.747207</td>\n",
       "      <td>32</td>\n",
       "      <td>среднее</td>\n",
       "      <td>1</td>\n",
       "      <td>женат / замужем</td>\n",
       "      <td>0</td>\n",
       "      <td>M</td>\n",
       "      <td>сотрудник</td>\n",
       "      <td>0</td>\n",
       "      <td>267628.550329</td>\n",
       "      <td>дополнительное образование</td>\n",
       "    </tr>\n",
       "    <tr>\n",
       "      <th>4</th>\n",
       "      <td>0</td>\n",
       "      <td>340266.072047</td>\n",
       "      <td>53</td>\n",
       "      <td>среднее</td>\n",
       "      <td>1</td>\n",
       "      <td>гражданский брак</td>\n",
       "      <td>1</td>\n",
       "      <td>F</td>\n",
       "      <td>пенсионер</td>\n",
       "      <td>0</td>\n",
       "      <td>158616.077870</td>\n",
       "      <td>сыграть свадьбу</td>\n",
       "    </tr>\n",
       "    <tr>\n",
       "      <th>5</th>\n",
       "      <td>0</td>\n",
       "      <td>-926.185831</td>\n",
       "      <td>27</td>\n",
       "      <td>высшее</td>\n",
       "      <td>0</td>\n",
       "      <td>гражданский брак</td>\n",
       "      <td>1</td>\n",
       "      <td>M</td>\n",
       "      <td>компаньон</td>\n",
       "      <td>0</td>\n",
       "      <td>255763.565419</td>\n",
       "      <td>покупка жилья</td>\n",
       "    </tr>\n",
       "    <tr>\n",
       "      <th>6</th>\n",
       "      <td>0</td>\n",
       "      <td>-2879.202052</td>\n",
       "      <td>43</td>\n",
       "      <td>высшее</td>\n",
       "      <td>0</td>\n",
       "      <td>женат / замужем</td>\n",
       "      <td>0</td>\n",
       "      <td>F</td>\n",
       "      <td>компаньон</td>\n",
       "      <td>0</td>\n",
       "      <td>240525.971920</td>\n",
       "      <td>операции с жильем</td>\n",
       "    </tr>\n",
       "    <tr>\n",
       "      <th>7</th>\n",
       "      <td>0</td>\n",
       "      <td>-152.779569</td>\n",
       "      <td>50</td>\n",
       "      <td>СРЕДНЕЕ</td>\n",
       "      <td>1</td>\n",
       "      <td>женат / замужем</td>\n",
       "      <td>0</td>\n",
       "      <td>M</td>\n",
       "      <td>сотрудник</td>\n",
       "      <td>0</td>\n",
       "      <td>135823.934197</td>\n",
       "      <td>образование</td>\n",
       "    </tr>\n",
       "    <tr>\n",
       "      <th>8</th>\n",
       "      <td>2</td>\n",
       "      <td>-6929.865299</td>\n",
       "      <td>35</td>\n",
       "      <td>ВЫСШЕЕ</td>\n",
       "      <td>0</td>\n",
       "      <td>гражданский брак</td>\n",
       "      <td>1</td>\n",
       "      <td>F</td>\n",
       "      <td>сотрудник</td>\n",
       "      <td>0</td>\n",
       "      <td>95856.832424</td>\n",
       "      <td>на проведение свадьбы</td>\n",
       "    </tr>\n",
       "    <tr>\n",
       "      <th>9</th>\n",
       "      <td>0</td>\n",
       "      <td>-2188.756445</td>\n",
       "      <td>41</td>\n",
       "      <td>среднее</td>\n",
       "      <td>1</td>\n",
       "      <td>женат / замужем</td>\n",
       "      <td>0</td>\n",
       "      <td>M</td>\n",
       "      <td>сотрудник</td>\n",
       "      <td>0</td>\n",
       "      <td>144425.938277</td>\n",
       "      <td>покупка жилья для семьи</td>\n",
       "    </tr>\n",
       "    <tr>\n",
       "      <th>10</th>\n",
       "      <td>2</td>\n",
       "      <td>-4171.483647</td>\n",
       "      <td>36</td>\n",
       "      <td>высшее</td>\n",
       "      <td>0</td>\n",
       "      <td>женат / замужем</td>\n",
       "      <td>0</td>\n",
       "      <td>M</td>\n",
       "      <td>компаньон</td>\n",
       "      <td>0</td>\n",
       "      <td>113943.491460</td>\n",
       "      <td>покупка недвижимости</td>\n",
       "    </tr>\n",
       "    <tr>\n",
       "      <th>11</th>\n",
       "      <td>0</td>\n",
       "      <td>-792.701887</td>\n",
       "      <td>40</td>\n",
       "      <td>среднее</td>\n",
       "      <td>1</td>\n",
       "      <td>женат / замужем</td>\n",
       "      <td>0</td>\n",
       "      <td>F</td>\n",
       "      <td>сотрудник</td>\n",
       "      <td>0</td>\n",
       "      <td>77069.234271</td>\n",
       "      <td>покупка коммерческой недвижимости</td>\n",
       "    </tr>\n",
       "    <tr>\n",
       "      <th>12</th>\n",
       "      <td>0</td>\n",
       "      <td>NaN</td>\n",
       "      <td>65</td>\n",
       "      <td>среднее</td>\n",
       "      <td>1</td>\n",
       "      <td>гражданский брак</td>\n",
       "      <td>1</td>\n",
       "      <td>M</td>\n",
       "      <td>пенсионер</td>\n",
       "      <td>0</td>\n",
       "      <td>NaN</td>\n",
       "      <td>сыграть свадьбу</td>\n",
       "    </tr>\n",
       "    <tr>\n",
       "      <th>13</th>\n",
       "      <td>0</td>\n",
       "      <td>-1846.641941</td>\n",
       "      <td>54</td>\n",
       "      <td>неоконченное высшее</td>\n",
       "      <td>2</td>\n",
       "      <td>женат / замужем</td>\n",
       "      <td>0</td>\n",
       "      <td>F</td>\n",
       "      <td>сотрудник</td>\n",
       "      <td>0</td>\n",
       "      <td>130458.228857</td>\n",
       "      <td>приобретение автомобиля</td>\n",
       "    </tr>\n",
       "    <tr>\n",
       "      <th>14</th>\n",
       "      <td>0</td>\n",
       "      <td>-1844.956182</td>\n",
       "      <td>56</td>\n",
       "      <td>высшее</td>\n",
       "      <td>0</td>\n",
       "      <td>гражданский брак</td>\n",
       "      <td>1</td>\n",
       "      <td>F</td>\n",
       "      <td>компаньон</td>\n",
       "      <td>1</td>\n",
       "      <td>165127.911772</td>\n",
       "      <td>покупка жилой недвижимости</td>\n",
       "    </tr>\n",
       "    <tr>\n",
       "      <th>15</th>\n",
       "      <td>1</td>\n",
       "      <td>-972.364419</td>\n",
       "      <td>26</td>\n",
       "      <td>среднее</td>\n",
       "      <td>1</td>\n",
       "      <td>женат / замужем</td>\n",
       "      <td>0</td>\n",
       "      <td>F</td>\n",
       "      <td>сотрудник</td>\n",
       "      <td>0</td>\n",
       "      <td>116820.904450</td>\n",
       "      <td>строительство собственной недвижимости</td>\n",
       "    </tr>\n",
       "    <tr>\n",
       "      <th>16</th>\n",
       "      <td>0</td>\n",
       "      <td>-1719.934226</td>\n",
       "      <td>35</td>\n",
       "      <td>среднее</td>\n",
       "      <td>1</td>\n",
       "      <td>женат / замужем</td>\n",
       "      <td>0</td>\n",
       "      <td>F</td>\n",
       "      <td>сотрудник</td>\n",
       "      <td>0</td>\n",
       "      <td>289202.704229</td>\n",
       "      <td>недвижимость</td>\n",
       "    </tr>\n",
       "    <tr>\n",
       "      <th>17</th>\n",
       "      <td>0</td>\n",
       "      <td>-2369.999720</td>\n",
       "      <td>33</td>\n",
       "      <td>высшее</td>\n",
       "      <td>0</td>\n",
       "      <td>гражданский брак</td>\n",
       "      <td>1</td>\n",
       "      <td>M</td>\n",
       "      <td>сотрудник</td>\n",
       "      <td>0</td>\n",
       "      <td>90410.586745</td>\n",
       "      <td>строительство недвижимости</td>\n",
       "    </tr>\n",
       "    <tr>\n",
       "      <th>18</th>\n",
       "      <td>0</td>\n",
       "      <td>400281.136913</td>\n",
       "      <td>53</td>\n",
       "      <td>среднее</td>\n",
       "      <td>1</td>\n",
       "      <td>вдовец / вдова</td>\n",
       "      <td>2</td>\n",
       "      <td>F</td>\n",
       "      <td>пенсионер</td>\n",
       "      <td>0</td>\n",
       "      <td>56823.777243</td>\n",
       "      <td>на покупку подержанного автомобиля</td>\n",
       "    </tr>\n",
       "    <tr>\n",
       "      <th>19</th>\n",
       "      <td>0</td>\n",
       "      <td>-10038.818549</td>\n",
       "      <td>48</td>\n",
       "      <td>СРЕДНЕЕ</td>\n",
       "      <td>1</td>\n",
       "      <td>в разводе</td>\n",
       "      <td>3</td>\n",
       "      <td>F</td>\n",
       "      <td>сотрудник</td>\n",
       "      <td>0</td>\n",
       "      <td>242831.107982</td>\n",
       "      <td>на покупку своего автомобиля</td>\n",
       "    </tr>\n",
       "  </tbody>\n",
       "</table>\n",
       "</div>"
      ],
      "text/plain": [
       "    children  days_employed  dob_years            education  education_id  \\\n",
       "0          1   -8437.673028         42               высшее             0   \n",
       "1          1   -4024.803754         36              среднее             1   \n",
       "2          0   -5623.422610         33              Среднее             1   \n",
       "3          3   -4124.747207         32              среднее             1   \n",
       "4          0  340266.072047         53              среднее             1   \n",
       "5          0    -926.185831         27               высшее             0   \n",
       "6          0   -2879.202052         43               высшее             0   \n",
       "7          0    -152.779569         50              СРЕДНЕЕ             1   \n",
       "8          2   -6929.865299         35               ВЫСШЕЕ             0   \n",
       "9          0   -2188.756445         41              среднее             1   \n",
       "10         2   -4171.483647         36               высшее             0   \n",
       "11         0    -792.701887         40              среднее             1   \n",
       "12         0            NaN         65              среднее             1   \n",
       "13         0   -1846.641941         54  неоконченное высшее             2   \n",
       "14         0   -1844.956182         56               высшее             0   \n",
       "15         1    -972.364419         26              среднее             1   \n",
       "16         0   -1719.934226         35              среднее             1   \n",
       "17         0   -2369.999720         33               высшее             0   \n",
       "18         0  400281.136913         53              среднее             1   \n",
       "19         0  -10038.818549         48              СРЕДНЕЕ             1   \n",
       "\n",
       "       family_status  family_status_id gender income_type  debt  \\\n",
       "0    женат / замужем                 0      F   сотрудник     0   \n",
       "1    женат / замужем                 0      F   сотрудник     0   \n",
       "2    женат / замужем                 0      M   сотрудник     0   \n",
       "3    женат / замужем                 0      M   сотрудник     0   \n",
       "4   гражданский брак                 1      F   пенсионер     0   \n",
       "5   гражданский брак                 1      M   компаньон     0   \n",
       "6    женат / замужем                 0      F   компаньон     0   \n",
       "7    женат / замужем                 0      M   сотрудник     0   \n",
       "8   гражданский брак                 1      F   сотрудник     0   \n",
       "9    женат / замужем                 0      M   сотрудник     0   \n",
       "10   женат / замужем                 0      M   компаньон     0   \n",
       "11   женат / замужем                 0      F   сотрудник     0   \n",
       "12  гражданский брак                 1      M   пенсионер     0   \n",
       "13   женат / замужем                 0      F   сотрудник     0   \n",
       "14  гражданский брак                 1      F   компаньон     1   \n",
       "15   женат / замужем                 0      F   сотрудник     0   \n",
       "16   женат / замужем                 0      F   сотрудник     0   \n",
       "17  гражданский брак                 1      M   сотрудник     0   \n",
       "18    вдовец / вдова                 2      F   пенсионер     0   \n",
       "19         в разводе                 3      F   сотрудник     0   \n",
       "\n",
       "     total_income                                 purpose  \n",
       "0   253875.639453                           покупка жилья  \n",
       "1   112080.014102                 приобретение автомобиля  \n",
       "2   145885.952297                           покупка жилья  \n",
       "3   267628.550329              дополнительное образование  \n",
       "4   158616.077870                         сыграть свадьбу  \n",
       "5   255763.565419                           покупка жилья  \n",
       "6   240525.971920                       операции с жильем  \n",
       "7   135823.934197                             образование  \n",
       "8    95856.832424                   на проведение свадьбы  \n",
       "9   144425.938277                 покупка жилья для семьи  \n",
       "10  113943.491460                    покупка недвижимости  \n",
       "11   77069.234271       покупка коммерческой недвижимости  \n",
       "12            NaN                         сыграть свадьбу  \n",
       "13  130458.228857                 приобретение автомобиля  \n",
       "14  165127.911772              покупка жилой недвижимости  \n",
       "15  116820.904450  строительство собственной недвижимости  \n",
       "16  289202.704229                            недвижимость  \n",
       "17   90410.586745              строительство недвижимости  \n",
       "18   56823.777243      на покупку подержанного автомобиля  \n",
       "19  242831.107982            на покупку своего автомобиля  "
      ]
     },
     "execution_count": 113,
     "metadata": {},
     "output_type": "execute_result"
    }
   ],
   "source": [
    "data.head(20)"
   ]
  },
  {
   "cell_type": "markdown",
   "id": "0ed8f27f",
   "metadata": {
    "deletable": false,
    "editable": false,
    "id": "0ed8f27f"
   },
   "source": [
    "**Задание 3. Выведите основную информацию о датафрейме с помощью метода `info()`.**"
   ]
  },
  {
   "cell_type": "code",
   "execution_count": 114,
   "id": "ab3f863b",
   "metadata": {
    "deletable": false,
    "id": "ab3f863b",
    "outputId": "15376089-8dad-46c9-b520-c05248d43158"
   },
   "outputs": [
    {
     "name": "stdout",
     "output_type": "stream",
     "text": [
      "<class 'pandas.core.frame.DataFrame'>\n",
      "RangeIndex: 21525 entries, 0 to 21524\n",
      "Data columns (total 12 columns):\n",
      " #   Column            Non-Null Count  Dtype  \n",
      "---  ------            --------------  -----  \n",
      " 0   children          21525 non-null  int64  \n",
      " 1   days_employed     19351 non-null  float64\n",
      " 2   dob_years         21525 non-null  int64  \n",
      " 3   education         21525 non-null  object \n",
      " 4   education_id      21525 non-null  int64  \n",
      " 5   family_status     21525 non-null  object \n",
      " 6   family_status_id  21525 non-null  int64  \n",
      " 7   gender            21525 non-null  object \n",
      " 8   income_type       21525 non-null  object \n",
      " 9   debt              21525 non-null  int64  \n",
      " 10  total_income      19351 non-null  float64\n",
      " 11  purpose           21525 non-null  object \n",
      "dtypes: float64(2), int64(5), object(5)\n",
      "memory usage: 2.0+ MB\n"
     ]
    }
   ],
   "source": [
    "data.info()"
   ]
  },
  {
   "cell_type": "markdown",
   "id": "60e3e22d",
   "metadata": {
    "deletable": false,
    "editable": false,
    "id": "60e3e22d"
   },
   "source": [
    "## Предобработка данных"
   ]
  },
  {
   "cell_type": "markdown",
   "id": "03dc170c",
   "metadata": {
    "deletable": false,
    "editable": false,
    "id": "03dc170c"
   },
   "source": [
    "### Удаление пропусков"
   ]
  },
  {
   "cell_type": "markdown",
   "id": "a4f54eef",
   "metadata": {
    "deletable": false,
    "editable": false,
    "id": "a4f54eef"
   },
   "source": [
    "**Задание 4. Выведите количество пропущенных значений для каждого столбца. Используйте комбинацию двух методов.**"
   ]
  },
  {
   "cell_type": "code",
   "execution_count": 115,
   "id": "2dc372b2",
   "metadata": {
    "deletable": false,
    "id": "2dc372b2",
    "outputId": "81f4d817-781c-465c-ed15-91ce4446810d"
   },
   "outputs": [
    {
     "data": {
      "text/plain": [
       "children               0\n",
       "days_employed       2174\n",
       "dob_years              0\n",
       "education              0\n",
       "education_id           0\n",
       "family_status          0\n",
       "family_status_id       0\n",
       "gender                 0\n",
       "income_type            0\n",
       "debt                   0\n",
       "total_income        2174\n",
       "purpose                0\n",
       "dtype: int64"
      ]
     },
     "execution_count": 115,
     "metadata": {},
     "output_type": "execute_result"
    }
   ],
   "source": [
    "data.isna().sum()"
   ]
  },
  {
   "cell_type": "markdown",
   "id": "14f011b1",
   "metadata": {
    "deletable": false,
    "editable": false,
    "id": "14f011b1"
   },
   "source": [
    "**Задание 5. В двух столбцах есть пропущенные значения. Один из них — `days_employed`. Пропуски в этом столбце вы обработаете на следующем этапе. Другой столбец с пропущенными значениями — `total_income` — хранит данные о доходах. На сумму дохода сильнее всего влияет тип занятости, поэтому заполнить пропуски в этом столбце нужно медианным значением по каждому типу из столбца `income_type`. Например, у человека с типом занятости `сотрудник` пропуск в столбце `total_income` должен быть заполнен медианным доходом среди всех записей с тем же типом.**"
   ]
  },
  {
   "cell_type": "code",
   "execution_count": 116,
   "id": "bdabfb6e",
   "metadata": {
    "deletable": false,
    "id": "bdabfb6e"
   },
   "outputs": [],
   "source": [
    "for t in data['income_type'].unique():\n",
    "    data.loc[(data['income_type'] == t) & (data['total_income'].isna()), 'total_income'] = \\\n",
    "    data.loc[(data['income_type'] == t), 'total_income'].median()"
   ]
  },
  {
   "cell_type": "markdown",
   "id": "5be34059",
   "metadata": {
    "deletable": false,
    "editable": false,
    "id": "5be34059"
   },
   "source": [
    "### Обработка аномальных значений"
   ]
  },
  {
   "cell_type": "markdown",
   "id": "a87606cb",
   "metadata": {
    "deletable": false,
    "editable": false,
    "id": "a87606cb"
   },
   "source": [
    "**Задание 6. В данных могут встречаться артефакты (аномалии) — значения, которые не отражают действительность и появились по какой-то ошибке. таким артефактом будет отрицательное количество дней трудового стажа в столбце `days_employed`. Для реальных данных это нормально. Обработайте значения в этом столбце: замените все отрицательные значения положительными с помощью метода `abs()`.**"
   ]
  },
  {
   "cell_type": "code",
   "execution_count": 117,
   "id": "020c46cc",
   "metadata": {
    "deletable": false,
    "id": "020c46cc"
   },
   "outputs": [],
   "source": [
    "data['days_employed'] = data['days_employed'].abs()"
   ]
  },
  {
   "cell_type": "markdown",
   "id": "45538a3a",
   "metadata": {
    "deletable": false,
    "editable": false,
    "id": "45538a3a"
   },
   "source": [
    "**Задание 7. Для каждого типа занятости выведите медианное значение трудового стажа `days_employed` в днях.**"
   ]
  },
  {
   "cell_type": "code",
   "execution_count": 118,
   "id": "cd3e6328",
   "metadata": {
    "deletable": false,
    "id": "cd3e6328",
    "outputId": "801ef80e-522b-4668-f34e-565af7432bcf"
   },
   "outputs": [
    {
     "data": {
      "text/plain": [
       "income_type\n",
       "безработный        366413.652744\n",
       "в декрете            3296.759962\n",
       "госслужащий          2689.368353\n",
       "компаньон            1547.382223\n",
       "пенсионер          365213.306266\n",
       "предприниматель       520.848083\n",
       "сотрудник            1574.202821\n",
       "студент               578.751554\n",
       "Name: days_employed, dtype: float64"
      ]
     },
     "execution_count": 118,
     "metadata": {},
     "output_type": "execute_result"
    }
   ],
   "source": [
    "data.groupby('income_type')['days_employed'].agg('median')"
   ]
  },
  {
   "cell_type": "markdown",
   "id": "90c5f058",
   "metadata": {
    "deletable": false,
    "editable": false,
    "id": "90c5f058"
   },
   "source": [
    "У двух типов (безработные и пенсионеры) получатся аномально большие значения. Исправить такие значения сложно, поэтому оставьте их как есть."
   ]
  },
  {
   "cell_type": "markdown",
   "id": "9652e50d",
   "metadata": {
    "deletable": false,
    "editable": false,
    "id": "9652e50d"
   },
   "source": [
    "**Задание 8. Выведите перечень уникальных значений столбца `children`.**"
   ]
  },
  {
   "cell_type": "code",
   "execution_count": 119,
   "id": "dbb37b8e",
   "metadata": {
    "deletable": false,
    "id": "dbb37b8e",
    "outputId": "6975b15c-7f95-4697-d16d-a0c79b657b03"
   },
   "outputs": [
    {
     "data": {
      "text/plain": [
       "array([ 1,  0,  3,  2, -1,  4, 20,  5])"
      ]
     },
     "execution_count": 119,
     "metadata": {},
     "output_type": "execute_result"
    }
   ],
   "source": [
    "data['children'].unique()"
   ]
  },
  {
   "cell_type": "markdown",
   "id": "2b8b0715",
   "metadata": {
    "deletable": false,
    "editable": false,
    "id": "2b8b0715"
   },
   "source": [
    "**Задание 9. В столбце `children` есть два аномальных значения. Удалите строки, в которых встречаются такие аномальные значения из датафрейма `data`.**"
   ]
  },
  {
   "cell_type": "code",
   "execution_count": 120,
   "id": "20009df8",
   "metadata": {
    "deletable": false,
    "id": "20009df8"
   },
   "outputs": [],
   "source": [
    "data = data[(data['children'] != -1) & (data['children'] != 20)]"
   ]
  },
  {
   "cell_type": "markdown",
   "id": "8c6ac9f1",
   "metadata": {
    "deletable": false,
    "editable": false,
    "id": "8c6ac9f1"
   },
   "source": [
    "**Задание 10. Ещё раз выведите перечень уникальных значений столбца `children`, чтобы убедиться, что артефакты удалены.**"
   ]
  },
  {
   "cell_type": "code",
   "execution_count": 121,
   "id": "07337b81",
   "metadata": {
    "deletable": false,
    "id": "07337b81",
    "outputId": "b2097101-d49d-44d9-901b-32a65c9463d1"
   },
   "outputs": [
    {
     "data": {
      "text/plain": [
       "array([1, 0, 3, 2, 4, 5])"
      ]
     },
     "execution_count": 121,
     "metadata": {},
     "output_type": "execute_result"
    }
   ],
   "source": [
    "data['children'].unique()"
   ]
  },
  {
   "cell_type": "markdown",
   "id": "ee3f52d4",
   "metadata": {
    "deletable": false,
    "editable": false,
    "id": "ee3f52d4"
   },
   "source": [
    "### Удаление пропусков (продолжение)"
   ]
  },
  {
   "cell_type": "markdown",
   "id": "a700b0e4",
   "metadata": {
    "deletable": false,
    "editable": false,
    "id": "a700b0e4"
   },
   "source": [
    "**Задание 11. Заполните пропуски в столбце `days_employed` медианными значениями по каждого типа занятости `income_type`.**"
   ]
  },
  {
   "cell_type": "code",
   "execution_count": 122,
   "id": "61946b83",
   "metadata": {
    "deletable": false,
    "id": "61946b83"
   },
   "outputs": [],
   "source": [
    "for t in data['income_type'].unique():\n",
    "    data.loc[(data['income_type'] == t) & (data['days_employed'].isna()), 'days_employed'] = \\\n",
    "    data.loc[(data['income_type'] == t), 'days_employed'].median()"
   ]
  },
  {
   "cell_type": "markdown",
   "id": "550dcd9b",
   "metadata": {
    "deletable": false,
    "editable": false,
    "id": "550dcd9b"
   },
   "source": [
    "**Задание 12. Убедитесь, что все пропуски заполнены. Проверьте себя и ещё раз выведите количество пропущенных значений для каждого столбца с помощью двух методов.**"
   ]
  },
  {
   "cell_type": "code",
   "execution_count": 123,
   "id": "937c7014",
   "metadata": {
    "deletable": false,
    "id": "937c7014",
    "outputId": "8da1e4e1-358e-4e87-98c9-f261bce0a7b2"
   },
   "outputs": [
    {
     "data": {
      "text/plain": [
       "children            0\n",
       "days_employed       0\n",
       "dob_years           0\n",
       "education           0\n",
       "education_id        0\n",
       "family_status       0\n",
       "family_status_id    0\n",
       "gender              0\n",
       "income_type         0\n",
       "debt                0\n",
       "total_income        0\n",
       "purpose             0\n",
       "dtype: int64"
      ]
     },
     "execution_count": 123,
     "metadata": {},
     "output_type": "execute_result"
    }
   ],
   "source": [
    "data.isna().sum()"
   ]
  },
  {
   "cell_type": "markdown",
   "id": "d522e295",
   "metadata": {
    "deletable": false,
    "editable": false,
    "id": "d522e295"
   },
   "source": [
    "### Изменение типов данных"
   ]
  },
  {
   "cell_type": "markdown",
   "id": "c229c581",
   "metadata": {
    "deletable": false,
    "editable": false,
    "id": "c229c581"
   },
   "source": [
    "**Задание 13. Замените вещественный тип данных в столбце `total_income` на целочисленный с помощью метода `astype()`.**"
   ]
  },
  {
   "cell_type": "code",
   "execution_count": 124,
   "id": "31036462",
   "metadata": {
    "deletable": false,
    "id": "31036462"
   },
   "outputs": [],
   "source": [
    "data['total_income'] = data['total_income'].astype(int)"
   ]
  },
  {
   "cell_type": "markdown",
   "id": "b8e3d1d9",
   "metadata": {
    "deletable": false,
    "editable": false,
    "id": "b8e3d1d9"
   },
   "source": [
    "### Обработка дубликатов"
   ]
  },
  {
   "cell_type": "markdown",
   "id": "9be53c49",
   "metadata": {
    "deletable": false,
    "editable": false,
    "id": "9be53c49"
   },
   "source": [
    "**Задание 14. Обработайте неявные дубликаты в столбце `education`. В этом столбце есть одни и те же значения, но записанные по-разному: с использованием заглавных и строчных букв. Приведите их к нижнему регистру.**"
   ]
  },
  {
   "cell_type": "code",
   "execution_count": 125,
   "id": "d89e73e1",
   "metadata": {
    "deletable": false,
    "id": "d89e73e1"
   },
   "outputs": [],
   "source": [
    "data['education'] = data['education'].str.lower()"
   ]
  },
  {
   "cell_type": "markdown",
   "id": "01d4500e",
   "metadata": {
    "deletable": false,
    "editable": false,
    "id": "01d4500e"
   },
   "source": [
    "**Задание 15. Выведите на экран количество строк-дубликатов в данных. Если такие строки присутствуют, удалите их.**"
   ]
  },
  {
   "cell_type": "code",
   "execution_count": 126,
   "id": "e10efb23",
   "metadata": {
    "deletable": false,
    "id": "e10efb23",
    "outputId": "9684deba-1934-42d1-99e1-cda61740f822"
   },
   "outputs": [
    {
     "data": {
      "text/plain": [
       "71"
      ]
     },
     "execution_count": 126,
     "metadata": {},
     "output_type": "execute_result"
    }
   ],
   "source": [
    "data.duplicated().sum()"
   ]
  },
  {
   "cell_type": "code",
   "execution_count": 127,
   "id": "df853f20",
   "metadata": {
    "deletable": false,
    "id": "df853f20"
   },
   "outputs": [],
   "source": [
    "data = data.drop_duplicates()"
   ]
  },
  {
   "cell_type": "markdown",
   "id": "627be38f",
   "metadata": {
    "deletable": false,
    "editable": false,
    "id": "627be38f"
   },
   "source": [
    "### Категоризация данных"
   ]
  },
  {
   "cell_type": "markdown",
   "id": "4684c3e0",
   "metadata": {
    "deletable": false,
    "editable": false,
    "id": "4684c3e0"
   },
   "source": [
    "**Задание 16. На основании диапазонов, указанных ниже, создайте в датафрейме `data` столбец `total_income_category` с категориями:**\n",
    "\n",
    "- 0–30000 — `'E'`;\n",
    "- 30001–50000 — `'D'`;\n",
    "- 50001–200000 — `'C'`;\n",
    "- 200001–1000000 — `'B'`;\n",
    "- 1000001 и выше — `'A'`.\n",
    "\n",
    "\n",
    "**Например, кредитополучателю с доходом 25000 нужно назначить категорию `'E'`, а клиенту, получающему 235000, — `'B'`. Используйте собственную функцию с именем `categorize_income()` и метод `apply()`.**"
   ]
  },
  {
   "cell_type": "code",
   "execution_count": 128,
   "id": "78965238",
   "metadata": {
    "deletable": false,
    "id": "78965238"
   },
   "outputs": [],
   "source": [
    "def categorize_income(income):\n",
    "    try:\n",
    "        if 0 <= income <= 30000:\n",
    "            return 'E'\n",
    "        elif 30001 <= income <= 50000:\n",
    "            return 'D'\n",
    "        elif 50001 <= income <= 200000:\n",
    "            return 'C'\n",
    "        elif 200001 <= income <= 1000000:\n",
    "            return 'B'\n",
    "        elif income >= 1000001:\n",
    "            return 'A'\n",
    "    except:\n",
    "        pass"
   ]
  },
  {
   "cell_type": "code",
   "execution_count": 129,
   "id": "0980ada1",
   "metadata": {
    "deletable": false,
    "id": "0980ada1"
   },
   "outputs": [],
   "source": [
    "data['total_income_category'] = data['total_income'].apply(categorize_income)"
   ]
  },
  {
   "cell_type": "markdown",
   "id": "9917bba0",
   "metadata": {
    "deletable": false,
    "editable": false,
    "id": "9917bba0"
   },
   "source": [
    "**Задание 17. Выведите на экран перечень уникальных целей взятия кредита из столбца `purpose`.**"
   ]
  },
  {
   "cell_type": "code",
   "execution_count": 130,
   "id": "ee07b65e",
   "metadata": {
    "deletable": false,
    "id": "ee07b65e",
    "outputId": "673c12d9-7d7e-4ae0-9812-c622c89dd244"
   },
   "outputs": [
    {
     "data": {
      "text/plain": [
       "array(['покупка жилья', 'приобретение автомобиля',\n",
       "       'дополнительное образование', 'сыграть свадьбу',\n",
       "       'операции с жильем', 'образование', 'на проведение свадьбы',\n",
       "       'покупка жилья для семьи', 'покупка недвижимости',\n",
       "       'покупка коммерческой недвижимости', 'покупка жилой недвижимости',\n",
       "       'строительство собственной недвижимости', 'недвижимость',\n",
       "       'строительство недвижимости', 'на покупку подержанного автомобиля',\n",
       "       'на покупку своего автомобиля',\n",
       "       'операции с коммерческой недвижимостью',\n",
       "       'строительство жилой недвижимости', 'жилье',\n",
       "       'операции со своей недвижимостью', 'автомобили',\n",
       "       'заняться образованием', 'сделка с подержанным автомобилем',\n",
       "       'получение образования', 'автомобиль', 'свадьба',\n",
       "       'получение дополнительного образования', 'покупка своего жилья',\n",
       "       'операции с недвижимостью', 'получение высшего образования',\n",
       "       'свой автомобиль', 'сделка с автомобилем',\n",
       "       'профильное образование', 'высшее образование',\n",
       "       'покупка жилья для сдачи', 'на покупку автомобиля', 'ремонт жилью',\n",
       "       'заняться высшим образованием'], dtype=object)"
      ]
     },
     "execution_count": 130,
     "metadata": {},
     "output_type": "execute_result"
    }
   ],
   "source": [
    "data['purpose'].unique()"
   ]
  },
  {
   "cell_type": "markdown",
   "id": "52b79d56",
   "metadata": {
    "deletable": false,
    "editable": false,
    "id": "52b79d56"
   },
   "source": [
    "**Задание 18. Создайте функцию, которая на основании данных из столбца `purpose` сформирует новый столбец `purpose_category`, в который войдут следующие категории:**\n",
    "\n",
    "- `'операции с автомобилем'`,\n",
    "- `'операции с недвижимостью'`,\n",
    "- `'проведение свадьбы'`,\n",
    "- `'получение образования'`.\n",
    "\n",
    "**Например, если в столбце `purpose` находится подстрока `'на покупку автомобиля'`, то в столбце `purpose_category` должна появиться строка `'операции с автомобилем'`.**\n",
    "\n",
    "**Используйте собственную функцию с именем `categorize_purpose()` и метод `apply()`. Изучите данные в столбце `purpose` и определите, какие подстроки помогут вам правильно определить категорию.**"
   ]
  },
  {
   "cell_type": "code",
   "execution_count": 131,
   "id": "be41da5d",
   "metadata": {
    "deletable": false,
    "id": "be41da5d"
   },
   "outputs": [],
   "source": [
    "def categorize_purpose(row):\n",
    "    try:\n",
    "        if 'автом' in row:\n",
    "            return 'операции с автомобилем'\n",
    "        elif 'жил' in row or 'недвиж' in row:\n",
    "            return 'операции с недвижимостью'\n",
    "        elif 'свад' in row:\n",
    "            return 'проведение свадьбы'\n",
    "        elif 'образов' in row:\n",
    "            return 'получение образования'\n",
    "    except:\n",
    "        return 'нет категории'"
   ]
  },
  {
   "cell_type": "code",
   "execution_count": 132,
   "id": "94c4a19a",
   "metadata": {
    "deletable": false,
    "id": "94c4a19a"
   },
   "outputs": [],
   "source": [
    "data['purpose_category'] = data['purpose'].apply(categorize_purpose)"
   ]
  },
  {
   "cell_type": "markdown",
   "id": "3d596c34",
   "metadata": {
    "deletable": false,
    "editable": false,
    "id": "3d596c34"
   },
   "source": [
    "### Шаг 3. Исследуйте данные и ответьте на вопросы"
   ]
  },
  {
   "cell_type": "markdown",
   "id": "648db036",
   "metadata": {
    "deletable": false,
    "editable": false,
    "id": "648db036"
   },
   "source": [
    "#### 3.1 Есть ли зависимость между количеством детей и возвратом кредита в срок?"
   ]
  },
  {
   "cell_type": "code",
   "execution_count": 133,
   "id": "7fcff25e",
   "metadata": {
    "deletable": false,
    "id": "7fcff25e"
   },
   "outputs": [
    {
     "name": "stdout",
     "output_type": "stream",
     "text": [
      "children\n",
      "0    1063\n",
      "1     444\n",
      "2     194\n",
      "3      27\n",
      "4       4\n",
      "5       0\n",
      "Name: debt, dtype: int64\n",
      "children\n",
      "0    14091\n",
      "1     4808\n",
      "2     2052\n",
      "3      330\n",
      "4       41\n",
      "5        9\n",
      "Name: gender, dtype: int64\n"
     ]
    },
    {
     "data": {
      "text/plain": [
       "children\n",
       "0    7.543822\n",
       "1    9.234609\n",
       "2    9.454191\n",
       "3    8.181818\n",
       "4    9.756098\n",
       "5    0.000000\n",
       "dtype: float64"
      ]
     },
     "execution_count": 133,
     "metadata": {},
     "output_type": "execute_result"
    }
   ],
   "source": [
    "dolg = data.groupby('children')['debt'].sum() #считаем число должников по каждой группе в зависимости от числа детей\n",
    "kol = data.groupby('children')['gender'].count()#считаем общее кол-во клиентов в каждой группе в зависимости от числа детей\n",
    "print(dolg)\n",
    "print(kol)\n",
    "for i in data['children'].unique():\n",
    "    convers = (dolg/kol)*100   #считаем конверсию \n",
    "convers\n",
    "   \n",
    "\n"
   ]
  },
  {
   "cell_type": "code",
   "execution_count": 134,
   "id": "fc9cbcb4",
   "metadata": {
    "scrolled": true
   },
   "outputs": [
    {
     "data": {
      "text/html": [
       "<div>\n",
       "<style scoped>\n",
       "    .dataframe tbody tr th:only-of-type {\n",
       "        vertical-align: middle;\n",
       "    }\n",
       "\n",
       "    .dataframe tbody tr th {\n",
       "        vertical-align: top;\n",
       "    }\n",
       "\n",
       "    .dataframe thead th {\n",
       "        text-align: right;\n",
       "    }\n",
       "</style>\n",
       "<table border=\"1\" class=\"dataframe\">\n",
       "  <thead>\n",
       "    <tr style=\"text-align: right;\">\n",
       "      <th></th>\n",
       "      <th>gender</th>\n",
       "      <th>debt</th>\n",
       "      <th>dolg</th>\n",
       "    </tr>\n",
       "    <tr>\n",
       "      <th>children</th>\n",
       "      <th></th>\n",
       "      <th></th>\n",
       "      <th></th>\n",
       "    </tr>\n",
       "  </thead>\n",
       "  <tbody>\n",
       "    <tr>\n",
       "      <th>0</th>\n",
       "      <td>14091</td>\n",
       "      <td>1063</td>\n",
       "      <td>7.543822</td>\n",
       "    </tr>\n",
       "    <tr>\n",
       "      <th>1</th>\n",
       "      <td>4808</td>\n",
       "      <td>444</td>\n",
       "      <td>9.234609</td>\n",
       "    </tr>\n",
       "    <tr>\n",
       "      <th>2</th>\n",
       "      <td>2052</td>\n",
       "      <td>194</td>\n",
       "      <td>9.454191</td>\n",
       "    </tr>\n",
       "    <tr>\n",
       "      <th>3</th>\n",
       "      <td>330</td>\n",
       "      <td>27</td>\n",
       "      <td>8.181818</td>\n",
       "    </tr>\n",
       "    <tr>\n",
       "      <th>4</th>\n",
       "      <td>41</td>\n",
       "      <td>4</td>\n",
       "      <td>9.756098</td>\n",
       "    </tr>\n",
       "    <tr>\n",
       "      <th>5</th>\n",
       "      <td>9</td>\n",
       "      <td>0</td>\n",
       "      <td>0.000000</td>\n",
       "    </tr>\n",
       "  </tbody>\n",
       "</table>\n",
       "</div>"
      ],
      "text/plain": [
       "          gender  debt      dolg\n",
       "children                        \n",
       "0          14091  1063  7.543822\n",
       "1           4808   444  9.234609\n",
       "2           2052   194  9.454191\n",
       "3            330    27  8.181818\n",
       "4             41     4  9.756098\n",
       "5              9     0  0.000000"
      ]
     },
     "execution_count": 134,
     "metadata": {},
     "output_type": "execute_result"
    }
   ],
   "source": [
    "data_grouped = data.groupby(['children']).agg({'gender':'count','debt':'sum'})\n",
    "data_grouped['dolg'] = data_grouped['debt'] / data_grouped['gender'] *100\n",
    "data_grouped"
   ]
  },
  {
   "cell_type": "code",
   "execution_count": 135,
   "id": "9d83f3ab",
   "metadata": {},
   "outputs": [
    {
     "data": {
      "text/html": [
       "<div>\n",
       "<style scoped>\n",
       "    .dataframe tbody tr th:only-of-type {\n",
       "        vertical-align: middle;\n",
       "    }\n",
       "\n",
       "    .dataframe tbody tr th {\n",
       "        vertical-align: top;\n",
       "    }\n",
       "\n",
       "    .dataframe thead th {\n",
       "        text-align: right;\n",
       "    }\n",
       "</style>\n",
       "<table border=\"1\" class=\"dataframe\">\n",
       "  <thead>\n",
       "    <tr style=\"text-align: right;\">\n",
       "      <th></th>\n",
       "      <th>count</th>\n",
       "      <th>sum</th>\n",
       "      <th>dolg</th>\n",
       "    </tr>\n",
       "    <tr>\n",
       "      <th>children</th>\n",
       "      <th></th>\n",
       "      <th></th>\n",
       "      <th></th>\n",
       "    </tr>\n",
       "  </thead>\n",
       "  <tbody>\n",
       "    <tr>\n",
       "      <th>0</th>\n",
       "      <td>14091</td>\n",
       "      <td>1063</td>\n",
       "      <td>7.543822</td>\n",
       "    </tr>\n",
       "    <tr>\n",
       "      <th>1</th>\n",
       "      <td>4808</td>\n",
       "      <td>444</td>\n",
       "      <td>9.234609</td>\n",
       "    </tr>\n",
       "    <tr>\n",
       "      <th>2</th>\n",
       "      <td>2052</td>\n",
       "      <td>194</td>\n",
       "      <td>9.454191</td>\n",
       "    </tr>\n",
       "    <tr>\n",
       "      <th>3</th>\n",
       "      <td>330</td>\n",
       "      <td>27</td>\n",
       "      <td>8.181818</td>\n",
       "    </tr>\n",
       "    <tr>\n",
       "      <th>4</th>\n",
       "      <td>41</td>\n",
       "      <td>4</td>\n",
       "      <td>9.756098</td>\n",
       "    </tr>\n",
       "    <tr>\n",
       "      <th>5</th>\n",
       "      <td>9</td>\n",
       "      <td>0</td>\n",
       "      <td>0.000000</td>\n",
       "    </tr>\n",
       "  </tbody>\n",
       "</table>\n",
       "</div>"
      ],
      "text/plain": [
       "          count   sum      dolg\n",
       "children                       \n",
       "0         14091  1063  7.543822\n",
       "1          4808   444  9.234609\n",
       "2          2052   194  9.454191\n",
       "3           330    27  8.181818\n",
       "4            41     4  9.756098\n",
       "5             9     0  0.000000"
      ]
     },
     "execution_count": 135,
     "metadata": {},
     "output_type": "execute_result"
    }
   ],
   "source": [
    "data_pivot = data.pivot_table(index=['children'], values=('debt'), aggfunc=('count','sum'))\n",
    "data_pivot['dolg']=data_pivot['sum']/data_pivot['count']*100\n",
    "data_pivot"
   ]
  },
  {
   "cell_type": "markdown",
   "id": "2eb9088e",
   "metadata": {
    "deletable": false,
    "id": "2eb9088e"
   },
   "source": [
    "**Вывод:** Посчитаем конверсию, т.е. отношение числа должников с определенным количеством детей к общему числу клиентов с таким же количеством детей. Из полученных результатов можно сделать вывод, что больше всего задолженностей у тех клиентов, кто имеет 1,2 или 4 детей. По полученным результатм видно, что нет задолженностей среди клиентов, у которых 5 детей, но здесь статистика по данной группе является не очень показательной, так как слишком мала,поэтому данный вывод не является корректным. Исходя из всего можно сделать вывод, что наименьшее кол-во задолженностей среди клиентов без детей.   "
   ]
  },
  {
   "cell_type": "markdown",
   "id": "74c9b3a7",
   "metadata": {
    "deletable": false,
    "editable": false,
    "id": "74c9b3a7"
   },
   "source": [
    "#### 3.2 Есть ли зависимость между семейным положением и возвратом кредита в срок?"
   ]
  },
  {
   "cell_type": "code",
   "execution_count": 136,
   "id": "8098ab3b",
   "metadata": {
    "deletable": false,
    "id": "8098ab3b"
   },
   "outputs": [
    {
     "name": "stdout",
     "output_type": "stream",
     "text": [
      "family_status\n",
      "Не женат / не замужем    273\n",
      "в разводе                 84\n",
      "вдовец / вдова            63\n",
      "гражданский брак         385\n",
      "женат / замужем          927\n",
      "Name: debt, dtype: int64\n",
      "family_status\n",
      "Не женат / не замужем     2796\n",
      "в разводе                 1189\n",
      "вдовец / вдова             951\n",
      "гражданский брак          4134\n",
      "женат / замужем          12261\n",
      "Name: gender, dtype: int64\n"
     ]
    },
    {
     "data": {
      "text/plain": [
       "family_status\n",
       "Не женат / не замужем    9.763948\n",
       "в разводе                7.064760\n",
       "вдовец / вдова           6.624606\n",
       "гражданский брак         9.313014\n",
       "женат / замужем          7.560558\n",
       "dtype: float64"
      ]
     },
     "execution_count": 136,
     "metadata": {},
     "output_type": "execute_result"
    }
   ],
   "source": [
    "dol_s = data.groupby('family_status')['debt'].sum() #считаем кол-во должников в зависимости от семейного положения\n",
    "kol_s = data.groupby('family_status')['gender'].count() #считаем общее кол-во клиентов в зависимости от СП\n",
    "print(dol_s)\n",
    "print(kol_s)\n",
    "for i in data['family_status'].unique():\n",
    "    convers_s = (dol_s/kol_s)*100   #считаем конверсию \n",
    "convers_s"
   ]
  },
  {
   "cell_type": "code",
   "execution_count": 137,
   "id": "9b8984cc",
   "metadata": {
    "scrolled": true
   },
   "outputs": [
    {
     "data": {
      "text/html": [
       "<div>\n",
       "<style scoped>\n",
       "    .dataframe tbody tr th:only-of-type {\n",
       "        vertical-align: middle;\n",
       "    }\n",
       "\n",
       "    .dataframe tbody tr th {\n",
       "        vertical-align: top;\n",
       "    }\n",
       "\n",
       "    .dataframe thead th {\n",
       "        text-align: right;\n",
       "    }\n",
       "</style>\n",
       "<table border=\"1\" class=\"dataframe\">\n",
       "  <thead>\n",
       "    <tr style=\"text-align: right;\">\n",
       "      <th></th>\n",
       "      <th>gender</th>\n",
       "      <th>debt</th>\n",
       "      <th>dolg_s</th>\n",
       "    </tr>\n",
       "    <tr>\n",
       "      <th>family_status</th>\n",
       "      <th></th>\n",
       "      <th></th>\n",
       "      <th></th>\n",
       "    </tr>\n",
       "  </thead>\n",
       "  <tbody>\n",
       "    <tr>\n",
       "      <th>Не женат / не замужем</th>\n",
       "      <td>2796</td>\n",
       "      <td>273</td>\n",
       "      <td>9.763948</td>\n",
       "    </tr>\n",
       "    <tr>\n",
       "      <th>в разводе</th>\n",
       "      <td>1189</td>\n",
       "      <td>84</td>\n",
       "      <td>7.064760</td>\n",
       "    </tr>\n",
       "    <tr>\n",
       "      <th>вдовец / вдова</th>\n",
       "      <td>951</td>\n",
       "      <td>63</td>\n",
       "      <td>6.624606</td>\n",
       "    </tr>\n",
       "    <tr>\n",
       "      <th>гражданский брак</th>\n",
       "      <td>4134</td>\n",
       "      <td>385</td>\n",
       "      <td>9.313014</td>\n",
       "    </tr>\n",
       "    <tr>\n",
       "      <th>женат / замужем</th>\n",
       "      <td>12261</td>\n",
       "      <td>927</td>\n",
       "      <td>7.560558</td>\n",
       "    </tr>\n",
       "  </tbody>\n",
       "</table>\n",
       "</div>"
      ],
      "text/plain": [
       "                       gender  debt    dolg_s\n",
       "family_status                                \n",
       "Не женат / не замужем    2796   273  9.763948\n",
       "в разводе                1189    84  7.064760\n",
       "вдовец / вдова            951    63  6.624606\n",
       "гражданский брак         4134   385  9.313014\n",
       "женат / замужем         12261   927  7.560558"
      ]
     },
     "execution_count": 137,
     "metadata": {},
     "output_type": "execute_result"
    }
   ],
   "source": [
    "data_grouped_s = data.groupby(['family_status']).agg({'gender':'count','debt':'sum'})\n",
    "data_grouped_s['dolg_s'] = data_grouped_s['debt'] / data_grouped_s['gender'] *100\n",
    "data_grouped_s"
   ]
  },
  {
   "cell_type": "code",
   "execution_count": 138,
   "id": "3d63b3cf",
   "metadata": {},
   "outputs": [
    {
     "data": {
      "text/html": [
       "<div>\n",
       "<style scoped>\n",
       "    .dataframe tbody tr th:only-of-type {\n",
       "        vertical-align: middle;\n",
       "    }\n",
       "\n",
       "    .dataframe tbody tr th {\n",
       "        vertical-align: top;\n",
       "    }\n",
       "\n",
       "    .dataframe thead th {\n",
       "        text-align: right;\n",
       "    }\n",
       "</style>\n",
       "<table border=\"1\" class=\"dataframe\">\n",
       "  <thead>\n",
       "    <tr style=\"text-align: right;\">\n",
       "      <th></th>\n",
       "      <th>count</th>\n",
       "      <th>sum</th>\n",
       "      <th>dolg_s</th>\n",
       "    </tr>\n",
       "    <tr>\n",
       "      <th>family_status</th>\n",
       "      <th></th>\n",
       "      <th></th>\n",
       "      <th></th>\n",
       "    </tr>\n",
       "  </thead>\n",
       "  <tbody>\n",
       "    <tr>\n",
       "      <th>Не женат / не замужем</th>\n",
       "      <td>2796</td>\n",
       "      <td>273</td>\n",
       "      <td>9.763948</td>\n",
       "    </tr>\n",
       "    <tr>\n",
       "      <th>в разводе</th>\n",
       "      <td>1189</td>\n",
       "      <td>84</td>\n",
       "      <td>7.064760</td>\n",
       "    </tr>\n",
       "    <tr>\n",
       "      <th>вдовец / вдова</th>\n",
       "      <td>951</td>\n",
       "      <td>63</td>\n",
       "      <td>6.624606</td>\n",
       "    </tr>\n",
       "    <tr>\n",
       "      <th>гражданский брак</th>\n",
       "      <td>4134</td>\n",
       "      <td>385</td>\n",
       "      <td>9.313014</td>\n",
       "    </tr>\n",
       "    <tr>\n",
       "      <th>женат / замужем</th>\n",
       "      <td>12261</td>\n",
       "      <td>927</td>\n",
       "      <td>7.560558</td>\n",
       "    </tr>\n",
       "  </tbody>\n",
       "</table>\n",
       "</div>"
      ],
      "text/plain": [
       "                       count  sum    dolg_s\n",
       "family_status                              \n",
       "Не женат / не замужем   2796  273  9.763948\n",
       "в разводе               1189   84  7.064760\n",
       "вдовец / вдова           951   63  6.624606\n",
       "гражданский брак        4134  385  9.313014\n",
       "женат / замужем        12261  927  7.560558"
      ]
     },
     "execution_count": 138,
     "metadata": {},
     "output_type": "execute_result"
    }
   ],
   "source": [
    "data_pivot_s = data.pivot_table(index=['family_status'], values=('debt'), aggfunc=('count','sum'))\n",
    "data_pivot_s['dolg_s']=data_pivot_s['sum']/data_pivot_s['count']*100\n",
    "data_pivot_s"
   ]
  },
  {
   "cell_type": "markdown",
   "id": "c389ca63",
   "metadata": {
    "deletable": false,
    "id": "c389ca63"
   },
   "source": [
    "**Вывод:** По полученным результатам можно сделать вывод, что больше всего задолженностей среди тех клиентов, кто \"не женат/не замужем\", чуть меньше среди тех, кто состоит в \"гражданском браке\". Меньше всего задолженностейм у тех клиентов, кто \"вдовец/вдова\". Кол-во задолженностей у тех клиентов кто, \"женат/замужем\" и тех кто \"в разводе\" различаются на 0,5%"
   ]
  },
  {
   "cell_type": "markdown",
   "id": "9529de68",
   "metadata": {
    "deletable": false,
    "editable": false,
    "id": "9529de68"
   },
   "source": [
    "#### 3.3 Есть ли зависимость между уровнем дохода и возвратом кредита в срок?"
   ]
  },
  {
   "cell_type": "code",
   "execution_count": 139,
   "id": "8787f44a",
   "metadata": {
    "deletable": false,
    "id": "8787f44a"
   },
   "outputs": [
    {
     "name": "stdout",
     "output_type": "stream",
     "text": [
      "total_income_category\n",
      "A       2\n",
      "B     354\n",
      "C    1353\n",
      "D      21\n",
      "E       2\n",
      "Name: debt, dtype: int64\n",
      "total_income_category\n",
      "A       25\n",
      "B     5014\n",
      "C    15921\n",
      "D      349\n",
      "E       22\n",
      "Name: gender, dtype: int64\n"
     ]
    },
    {
     "data": {
      "text/plain": [
       "total_income_category\n",
       "A    8.000000\n",
       "B    7.060231\n",
       "C    8.498210\n",
       "D    6.017192\n",
       "E    9.090909\n",
       "dtype: float64"
      ]
     },
     "execution_count": 139,
     "metadata": {},
     "output_type": "execute_result"
    }
   ],
   "source": [
    "dol_d = data.groupby('total_income_category')['debt'].sum() #считаем кол-во должников в каждой категории доходов\n",
    "kol_d = data.groupby('total_income_category')['gender'].count() #считаем общее кол-во клиентов в каждой категории доходов\n",
    "print(dol_d)\n",
    "print(kol_d)\n",
    "for i in data['total_income_category'].unique():\n",
    "    convers_d = (dol_d/kol_d)*100   #считаем конверсию \n",
    "convers_d"
   ]
  },
  {
   "cell_type": "code",
   "execution_count": 140,
   "id": "096a0770",
   "metadata": {},
   "outputs": [
    {
     "data": {
      "text/html": [
       "<div>\n",
       "<style scoped>\n",
       "    .dataframe tbody tr th:only-of-type {\n",
       "        vertical-align: middle;\n",
       "    }\n",
       "\n",
       "    .dataframe tbody tr th {\n",
       "        vertical-align: top;\n",
       "    }\n",
       "\n",
       "    .dataframe thead th {\n",
       "        text-align: right;\n",
       "    }\n",
       "</style>\n",
       "<table border=\"1\" class=\"dataframe\">\n",
       "  <thead>\n",
       "    <tr style=\"text-align: right;\">\n",
       "      <th></th>\n",
       "      <th>gender</th>\n",
       "      <th>debt</th>\n",
       "      <th>dolg_d</th>\n",
       "    </tr>\n",
       "    <tr>\n",
       "      <th>total_income_category</th>\n",
       "      <th></th>\n",
       "      <th></th>\n",
       "      <th></th>\n",
       "    </tr>\n",
       "  </thead>\n",
       "  <tbody>\n",
       "    <tr>\n",
       "      <th>A</th>\n",
       "      <td>25</td>\n",
       "      <td>2</td>\n",
       "      <td>8.000000</td>\n",
       "    </tr>\n",
       "    <tr>\n",
       "      <th>B</th>\n",
       "      <td>5014</td>\n",
       "      <td>354</td>\n",
       "      <td>7.060231</td>\n",
       "    </tr>\n",
       "    <tr>\n",
       "      <th>C</th>\n",
       "      <td>15921</td>\n",
       "      <td>1353</td>\n",
       "      <td>8.498210</td>\n",
       "    </tr>\n",
       "    <tr>\n",
       "      <th>D</th>\n",
       "      <td>349</td>\n",
       "      <td>21</td>\n",
       "      <td>6.017192</td>\n",
       "    </tr>\n",
       "    <tr>\n",
       "      <th>E</th>\n",
       "      <td>22</td>\n",
       "      <td>2</td>\n",
       "      <td>9.090909</td>\n",
       "    </tr>\n",
       "  </tbody>\n",
       "</table>\n",
       "</div>"
      ],
      "text/plain": [
       "                       gender  debt    dolg_d\n",
       "total_income_category                        \n",
       "A                          25     2  8.000000\n",
       "B                        5014   354  7.060231\n",
       "C                       15921  1353  8.498210\n",
       "D                         349    21  6.017192\n",
       "E                          22     2  9.090909"
      ]
     },
     "execution_count": 140,
     "metadata": {},
     "output_type": "execute_result"
    }
   ],
   "source": [
    "data_grouped_d = data.groupby(['total_income_category']).agg({'gender':'count','debt':'sum'})\n",
    "data_grouped_d['dolg_d'] = data_grouped_d['debt'] / data_grouped_d['gender'] *100\n",
    "data_grouped_d"
   ]
  },
  {
   "cell_type": "code",
   "execution_count": 141,
   "id": "eb5b2d8d",
   "metadata": {},
   "outputs": [
    {
     "data": {
      "text/html": [
       "<div>\n",
       "<style scoped>\n",
       "    .dataframe tbody tr th:only-of-type {\n",
       "        vertical-align: middle;\n",
       "    }\n",
       "\n",
       "    .dataframe tbody tr th {\n",
       "        vertical-align: top;\n",
       "    }\n",
       "\n",
       "    .dataframe thead th {\n",
       "        text-align: right;\n",
       "    }\n",
       "</style>\n",
       "<table border=\"1\" class=\"dataframe\">\n",
       "  <thead>\n",
       "    <tr style=\"text-align: right;\">\n",
       "      <th></th>\n",
       "      <th>count</th>\n",
       "      <th>sum</th>\n",
       "      <th>dolg_d</th>\n",
       "    </tr>\n",
       "    <tr>\n",
       "      <th>total_income_category</th>\n",
       "      <th></th>\n",
       "      <th></th>\n",
       "      <th></th>\n",
       "    </tr>\n",
       "  </thead>\n",
       "  <tbody>\n",
       "    <tr>\n",
       "      <th>A</th>\n",
       "      <td>25</td>\n",
       "      <td>2</td>\n",
       "      <td>8.000000</td>\n",
       "    </tr>\n",
       "    <tr>\n",
       "      <th>B</th>\n",
       "      <td>5014</td>\n",
       "      <td>354</td>\n",
       "      <td>7.060231</td>\n",
       "    </tr>\n",
       "    <tr>\n",
       "      <th>C</th>\n",
       "      <td>15921</td>\n",
       "      <td>1353</td>\n",
       "      <td>8.498210</td>\n",
       "    </tr>\n",
       "    <tr>\n",
       "      <th>D</th>\n",
       "      <td>349</td>\n",
       "      <td>21</td>\n",
       "      <td>6.017192</td>\n",
       "    </tr>\n",
       "    <tr>\n",
       "      <th>E</th>\n",
       "      <td>22</td>\n",
       "      <td>2</td>\n",
       "      <td>9.090909</td>\n",
       "    </tr>\n",
       "  </tbody>\n",
       "</table>\n",
       "</div>"
      ],
      "text/plain": [
       "                       count   sum    dolg_d\n",
       "total_income_category                       \n",
       "A                         25     2  8.000000\n",
       "B                       5014   354  7.060231\n",
       "C                      15921  1353  8.498210\n",
       "D                        349    21  6.017192\n",
       "E                         22     2  9.090909"
      ]
     },
     "execution_count": 141,
     "metadata": {},
     "output_type": "execute_result"
    }
   ],
   "source": [
    "data_pivot_d = data.pivot_table(index=['total_income_category'], values=('debt'), aggfunc=('count','sum'))\n",
    "data_pivot_d['dolg_d']=data_pivot_d['sum']/data_pivot_d['count']*100\n",
    "data_pivot_d"
   ]
  },
  {
   "cell_type": "markdown",
   "id": "6dd14b57",
   "metadata": {
    "deletable": false,
    "id": "6dd14b57"
   },
   "source": [
    "**Вывод:** Из полученных данных можно сделать вывод, что кол-во клиентов с зарплатой меньше 30000 (категория E) и больше 1000001\n",
    "(категория A) очень мало, поэтому выборка будет не показательна. По остальным данным можно сделать вывод, что больше всего задолженностей у клиентов с доходом от 50000 до 200000 (категория C),а меньше всего у клиентов с доходом от 30001 до 50000(категория D)."
   ]
  },
  {
   "cell_type": "markdown",
   "id": "1dcc9b12",
   "metadata": {
    "deletable": false,
    "editable": false,
    "id": "1dcc9b12"
   },
   "source": [
    "#### 3.4 Как разные цели кредита влияют на его возврат в срок?"
   ]
  },
  {
   "cell_type": "code",
   "execution_count": 142,
   "id": "c602bc8b",
   "metadata": {
    "deletable": false,
    "id": "c602bc8b"
   },
   "outputs": [
    {
     "name": "stdout",
     "output_type": "stream",
     "text": [
      "purpose_category\n",
      "операции с автомобилем      400\n",
      "операции с недвижимостью    780\n",
      "получение образования       369\n",
      "проведение свадьбы          183\n",
      "Name: debt, dtype: int64\n",
      "purpose_category\n",
      "операции с автомобилем       4279\n",
      "операции с недвижимостью    10751\n",
      "получение образования        3988\n",
      "проведение свадьбы           2313\n",
      "Name: gender, dtype: int64\n"
     ]
    },
    {
     "data": {
      "text/plain": [
       "purpose_category\n",
       "операции с автомобилем      9.347978\n",
       "операции с недвижимостью    7.255139\n",
       "получение образования       9.252758\n",
       "проведение свадьбы          7.911803\n",
       "dtype: float64"
      ]
     },
     "execution_count": 142,
     "metadata": {},
     "output_type": "execute_result"
    }
   ],
   "source": [
    "dol_p = data.groupby('purpose_category')['debt'].sum() #считаем кол-во должников в каждой категории целей\n",
    "kol_p = data.groupby('purpose_category')['gender'].count() #считаем общее кол-во клиентов в каждой категории целей\n",
    "print(dol_p)\n",
    "print(kol_p)\n",
    "for i in data['purpose_category'].unique():\n",
    "    convers_p = (dol_p/kol_p)*100   #считаем конверсию \n",
    "convers_p"
   ]
  },
  {
   "cell_type": "code",
   "execution_count": 150,
   "id": "de449767",
   "metadata": {},
   "outputs": [
    {
     "data": {
      "text/html": [
       "<div>\n",
       "<style scoped>\n",
       "    .dataframe tbody tr th:only-of-type {\n",
       "        vertical-align: middle;\n",
       "    }\n",
       "\n",
       "    .dataframe tbody tr th {\n",
       "        vertical-align: top;\n",
       "    }\n",
       "\n",
       "    .dataframe thead th {\n",
       "        text-align: right;\n",
       "    }\n",
       "</style>\n",
       "<table border=\"1\" class=\"dataframe\">\n",
       "  <thead>\n",
       "    <tr style=\"text-align: right;\">\n",
       "      <th></th>\n",
       "      <th>gender</th>\n",
       "      <th>debt</th>\n",
       "      <th>dolg_p</th>\n",
       "    </tr>\n",
       "    <tr>\n",
       "      <th>purpose_category</th>\n",
       "      <th></th>\n",
       "      <th></th>\n",
       "      <th></th>\n",
       "    </tr>\n",
       "  </thead>\n",
       "  <tbody>\n",
       "    <tr>\n",
       "      <th>операции с автомобилем</th>\n",
       "      <td>4279</td>\n",
       "      <td>400</td>\n",
       "      <td>9.347978</td>\n",
       "    </tr>\n",
       "    <tr>\n",
       "      <th>операции с недвижимостью</th>\n",
       "      <td>10751</td>\n",
       "      <td>780</td>\n",
       "      <td>7.255139</td>\n",
       "    </tr>\n",
       "    <tr>\n",
       "      <th>получение образования</th>\n",
       "      <td>3988</td>\n",
       "      <td>369</td>\n",
       "      <td>9.252758</td>\n",
       "    </tr>\n",
       "    <tr>\n",
       "      <th>проведение свадьбы</th>\n",
       "      <td>2313</td>\n",
       "      <td>183</td>\n",
       "      <td>7.911803</td>\n",
       "    </tr>\n",
       "  </tbody>\n",
       "</table>\n",
       "</div>"
      ],
      "text/plain": [
       "                          gender  debt    dolg_p\n",
       "purpose_category                                \n",
       "операции с автомобилем      4279   400  9.347978\n",
       "операции с недвижимостью   10751   780  7.255139\n",
       "получение образования       3988   369  9.252758\n",
       "проведение свадьбы          2313   183  7.911803"
      ]
     },
     "execution_count": 150,
     "metadata": {},
     "output_type": "execute_result"
    }
   ],
   "source": [
    "data_grouped_p = data.groupby(['purpose_category']).agg({'gender':'count','debt':'sum'})\n",
    "data_grouped_p['dolg_p'] = data_grouped_p['debt'] / data_grouped_p['gender'] *100\n",
    "data_grouped_p"
   ]
  },
  {
   "cell_type": "code",
   "execution_count": 147,
   "id": "076be7ad",
   "metadata": {},
   "outputs": [
    {
     "data": {
      "text/html": [
       "<div>\n",
       "<style scoped>\n",
       "    .dataframe tbody tr th:only-of-type {\n",
       "        vertical-align: middle;\n",
       "    }\n",
       "\n",
       "    .dataframe tbody tr th {\n",
       "        vertical-align: top;\n",
       "    }\n",
       "\n",
       "    .dataframe thead th {\n",
       "        text-align: right;\n",
       "    }\n",
       "</style>\n",
       "<table border=\"1\" class=\"dataframe\">\n",
       "  <thead>\n",
       "    <tr style=\"text-align: right;\">\n",
       "      <th></th>\n",
       "      <th>count</th>\n",
       "      <th>sum</th>\n",
       "      <th>dolg_p</th>\n",
       "    </tr>\n",
       "    <tr>\n",
       "      <th>purpose_category</th>\n",
       "      <th></th>\n",
       "      <th></th>\n",
       "      <th></th>\n",
       "    </tr>\n",
       "  </thead>\n",
       "  <tbody>\n",
       "    <tr>\n",
       "      <th>операции с автомобилем</th>\n",
       "      <td>4279</td>\n",
       "      <td>400</td>\n",
       "      <td>9.347978</td>\n",
       "    </tr>\n",
       "    <tr>\n",
       "      <th>операции с недвижимостью</th>\n",
       "      <td>10751</td>\n",
       "      <td>780</td>\n",
       "      <td>7.255139</td>\n",
       "    </tr>\n",
       "    <tr>\n",
       "      <th>получение образования</th>\n",
       "      <td>3988</td>\n",
       "      <td>369</td>\n",
       "      <td>9.252758</td>\n",
       "    </tr>\n",
       "    <tr>\n",
       "      <th>проведение свадьбы</th>\n",
       "      <td>2313</td>\n",
       "      <td>183</td>\n",
       "      <td>7.911803</td>\n",
       "    </tr>\n",
       "  </tbody>\n",
       "</table>\n",
       "</div>"
      ],
      "text/plain": [
       "                          count  sum    dolg_p\n",
       "purpose_category                              \n",
       "операции с автомобилем     4279  400  9.347978\n",
       "операции с недвижимостью  10751  780  7.255139\n",
       "получение образования      3988  369  9.252758\n",
       "проведение свадьбы         2313  183  7.911803"
      ]
     },
     "execution_count": 147,
     "metadata": {},
     "output_type": "execute_result"
    }
   ],
   "source": [
    "data_pivot_p = data.pivot_table(index=['purpose_category'], values=('debt'), aggfunc=('count','sum'))\n",
    "data_pivot_p['dolg_p']=data_pivot_p['sum']/data_pivot_p['count']*100\n",
    "data_pivot_p\n",
    "\n"
   ]
  },
  {
   "cell_type": "code",
   "execution_count": null,
   "id": "4cc92912",
   "metadata": {},
   "outputs": [],
   "source": []
  },
  {
   "cell_type": "markdown",
   "id": "cf05ed63",
   "metadata": {
    "deletable": false,
    "id": "cf05ed63"
   },
   "source": [
    "**Вывод:** Больше задолженностей у тех клиентов, кто брал кредит в категории \"операции с автомобилем\", а также на \"получение образования\". Меньше всего задолженностей у клиентов, кто брал кредит на \"операции с недвижимостью\" и на \"проведение свадьбы\". "
   ]
  },
  {
   "cell_type": "markdown",
   "id": "7fd04002",
   "metadata": {},
   "source": [
    "<div class=\"alert alert-success\">\n",
    "<h3> Комментарий ревьюера ✔️<a class=\"tocSkip\"> </h3>\n",
    "\n",
    "С выводом согласен. Как думаешь, почему кредиты на недвижимость и свадьбы в среднем лучше выплачиваются?\n",
    "</div>"
   ]
  },
  {
   "cell_type": "markdown",
   "id": "c1bfbc89",
   "metadata": {},
   "source": [
    "<div class=\"alert alert-block alert-info\">\n",
    "    \n",
    "Кредиты на недвижимость и свадьбы в среднем лучше выплачиваются, потому что чаще всего их берет пара(или семья), где как правило два источника дохода, если работают оба супруга.\n",
    "\n",
    "    \n",
    "</div>"
   ]
  },
  {
   "cell_type": "markdown",
   "id": "4e77a998",
   "metadata": {},
   "source": [
    "<div class=\"alert alert-success\">\n",
    "<h3> Комментарий ревьюера v2 ✔️<a class=\"tocSkip\"> </h3>\n",
    "\n",
    " Согласен с тобой. В связи с этим снижаются риски невыплат.\n",
    "</div>"
   ]
  },
  {
   "cell_type": "markdown",
   "id": "46c1f10b",
   "metadata": {
    "deletable": false,
    "editable": false,
    "id": "46c1f10b"
   },
   "source": [
    "#### 3.5 Приведите возможные причины появления пропусков в исходных данных."
   ]
  },
  {
   "cell_type": "markdown",
   "id": "3697d2a9",
   "metadata": {
    "deletable": false,
    "id": "3697d2a9"
   },
   "source": [
    "*Ответ:* Данные были пропущены в столбцах days_employed (общий трудовой стаж в днях) и total_income (ежемесячный доход), все это числовые значения. Возможно, причиной пропуска в данных мог быть человеческий фактор, когда человек вводил данные и просто пропустил (умышленно или нет) данные поля для ввода, если они были обозначены как необязательные.  Или могла произойти технологическая ошибка при копировании, считывании, записи или смене формата данных.   "
   ]
  },
  {
   "cell_type": "markdown",
   "id": "9895597d",
   "metadata": {},
   "source": [
    "<div class=\"alert alert-success\">\n",
    "<h3> Комментарий ревьюера ✔️<a class=\"tocSkip\"> </h3>\n",
    "\n",
    "Абсолютно верно. Основные причины пропусков - это технические проблемы и человеческий фактор.\n",
    "</div>"
   ]
  },
  {
   "cell_type": "markdown",
   "id": "3137d257",
   "metadata": {
    "deletable": false,
    "editable": false,
    "id": "3137d257"
   },
   "source": [
    "#### 3.6 Объясните, почему заполнить пропуски медианным значением — лучшее решение для количественных переменных."
   ]
  },
  {
   "cell_type": "markdown",
   "id": "cf40012a",
   "metadata": {
    "deletable": false,
    "id": "cf40012a"
   },
   "source": [
    "*Ответ:* Для заполнения пропусков в столбцах days_employed (общий трудовой стаж в днях) и total_income (ежемесячный доход) лучше использовать медиану, чем среднее арифметическое, потому что в таких данных могут быть выдающиеся значения, которые сместят среднее и результат окажется не таким как ожидался. "
   ]
  },
  {
   "cell_type": "markdown",
   "id": "0755ea54",
   "metadata": {},
   "source": [
    "<div class=\"alert alert-success\">\n",
    "<h3> Комментарий ревьюера ✔️<a class=\"tocSkip\"> </h3>\n",
    "\n",
    "Да, верно, такие сильно выделяющиеся значения ещё называют выбросами.\n",
    "</div>"
   ]
  },
  {
   "cell_type": "markdown",
   "id": "57bc304e",
   "metadata": {
    "deletable": false,
    "editable": false,
    "id": "57bc304e"
   },
   "source": [
    "### Шаг 4: общий вывод."
   ]
  },
  {
   "cell_type": "markdown",
   "id": "1ab75d1c",
   "metadata": {
    "deletable": false,
    "id": "1ab75d1c"
   },
   "source": [
    "Из проведенного анализа и полученных результатов можно сделать вывод, что на факт погашения кредита влияет и семейное положение и количество детей клиента. Больше всего берут кредит клиенты без детей при этом, у них самый низкий процент задолженностей 7,5%. Меньше всего берут кредит клиенты, кто остался \"вдовцом/вдовой\", и у них также самый низкий процкент задолженностей 6,6% . \n",
    "Чаще всего кредит берут клиенты с доходом от 50000 до 200000 (категория C), при этом процент задолженностей среди них 8,5%.\n",
    "Самая распространенная категория взятия кредита \"операции с недвижимостью\", при этом процент задолженностей в этой категории клиентов самый маленький 7,3%.\n"
   ]
  },
  {
   "cell_type": "markdown",
   "id": "6c440f10",
   "metadata": {},
   "source": [
    "\n",
    "<div class=\"alert alert-block alert-info\">\n",
    "    \n",
    "ФИНАЛЬНЫЙ ВЫВОД\n",
    "\n",
    "    \n",
    "</div>"
   ]
  },
  {
   "cell_type": "markdown",
   "id": "c38ca2a7",
   "metadata": {},
   "source": [
    "Передо мной была поставлена задача от кредитного отдела банка. Требовалось выяснить,**влияет ли семейное положение и количество детей клиента на факт погашения кредита в срок**. Входные данные, полученные от банка — статистика о платёжеспособности клиентов. Результаты исследования будут учтены при построении модели кредитного скоринга — специальной системы, которая оценивает способность потенциального заёмщика вернуть кредит банку.\n",
    "\n",
    "Решение данной задачи состояло из нескольких этапов. \n",
    "\n",
    "На первом этапе была изучена общая информация о данных и выполнена их предобработка. \n",
    "Изучив данные, были обнаружены некоторые проблемы, в частности  были обнаружены пропуски в столбцах days_employed (общий трудовой стаж в днях) и total_income (ежемесячный доход), все это числовые значения. Возможно, причиной пропуска в данных мог быть человеческий фактор, или технологическая ошибка. Для заполнения пропусков в этих столбцах использовали медиану, чтобы имеющиеся выбросы не оказали влияния на общую картину.\n",
    "\n",
    "Также были устранены артефакты в данных об общем трудовом стаже в днях, имелись отрицательные значения. И удалены аномальные значения в столбце о кол-ве детей клиента. Проверены типы данных.\n",
    "\n",
    "Также в столбце об образовании встречались дубликаты, написанные разным регистром, данные дубликаты были устранены.\n",
    "Для удобства анализа данные о доходах клиента были разбиты на 4-ре категории:\n",
    "\n",
    "- 0–30000 — 'E';\n",
    "- 30001–50000 — 'D';\n",
    "- 50001–200000 — 'C';\n",
    "- 200001–1000000 — 'B';\n",
    "- 1000001 и выше — 'A'.\n",
    "\n",
    "Также были выделены 4-ре категории в зависимости от целей взятия кредита:\n",
    "\n",
    "- 'операции с автомобилем',\n",
    "- 'операции с недвижимостью',\n",
    "- 'проведение свадьбы',\n",
    "- 'получение образования'.\n",
    "\n",
    "Для того чтобы ответить на поставленные в задаче вопросы на этапе анализа данных были рассмотрены несколько зависимостей между данными.\n",
    "\n",
    "Для рассчета использовали конверсию, отношение числа должников в определенной категории к общему числу клиентов в этой же категории.\n",
    "\n",
    "Сначала рассмотрели ***зависимость между количеством детей и возвратом кредита в срок**:\n",
    "\n",
    "Из полученных результатов видно, что больше всего задолженностей у тех клиентов, кто имеет **1-го (9,23%)**, **2 -х(9,45%)** или **4 -х (9,76%)** детей. Клиенты с 5-ю детьми в расчете не учитываем, так как статистика по данной группе слишком мала. **Наименьшее кол-во задолженностей среди клиентов без детей (7,54%)**. Процент должников среди клиентов с **3-мя детьми (8,18%)**.\n",
    "\n",
    "Также была рассмотрена ***зависимость между семейным положением и возвратом кредита в срок***:\n",
    "\n",
    "По полученным результатам можно сделать вывод, что больше всего задолженностей среди тех клиентов, кто **\"не женат/не замужем\" (9,76%)**, чуть меньше среди тех, кто состоит в **\"гражданском браке\" (9,31%)**. Меньше всего задолженностейм у тех клиентов, кто **\"вдовец/вдова\" (6,62%)**. Кол-во задолженностей у тех клиентов кто, **\"женат/замужем\" (7,56%)** и тех кто **\"в разводе\"(7,06%)** различаются на 0,5%.\n",
    "\n",
    "\n",
    "Проанализировали ***зависимость между уровнем дохода и возвратом кредита в срок***:\n",
    "\n",
    "В полученных результатах видно, что кол-во клиентов с зарплатой меньше 30000 (категория E), больше 1000001 (категория A) и с доходом от 30001 до 50000(категория D) очень мало, поэтому выборка будет не показательна и не учитывается в данных расчетах.\n",
    "По оставшимся данным можно сделать вывод, что больше всего задолженностей у клиентов с доходом **от 50000 до 200000 (категория C) (8,5%)**, а меньше всего у клиентов с доходом **200001–1000000 (категория B)(7.06%)**\n",
    "\n",
    "В конце определили ***как цели кредита влияют на его возврат в срок***:\n",
    "\n",
    "\n",
    "Выявили, что больше задолженностей у тех клиентов, кто брал кредит в категории **\"операции с автомобилем\" (9,35%)**, а также на **\"получение образования\" (9,25%)**. Меньше всего задолженностей у клиентов, кто брал кредит на **\"операции с недвижимостью\"(7,26%)** и на **\"проведение свадьбы\" (7,9%)**.\n",
    "\n",
    "Из проделанной работы можно сделать вывод, что на факт погашения кредита в срок влияют семейное положение клиента, кол-во детей у клиента, его доход и цели взятия кредита. \n",
    "Клиент с минимальными рисками для банка будет выглядеть следующим образом: это клиент без детей, являющийся вдовцом/вдовой, с доходом от 200001–1000000 и взявший кредит на операции с недвижимостью. \n",
    "Наиболее рискованный клиент для банка : клиент с 4-мя детьми, который не женат/не замужем, с доходом от 50000 до 200000 и взявший кредит на операции с автомобилем.\n",
    "\n",
    "\n",
    "\n",
    "\n",
    "\n"
   ]
  },
  {
   "cell_type": "markdown",
   "id": "9bbc3d3c",
   "metadata": {},
   "source": [
    "Надеюсь в этот раз отправится полная версия моей работы))"
   ]
  },
  {
   "cell_type": "markdown",
   "id": "6f7c4e26",
   "metadata": {},
   "source": [
    "<div class=\"alert alert-danger\">\n",
    "    <h3> Комментарий ревьюера ❌<a class=\"tocSkip\"> </h3>\n",
    "    \n",
    "Верно, что затрагиваешь все вопросы исследовательской части. Но описать только лучшего клиента недостаточно.\n",
    "        \n",
    "Стоит учитывать, что твой потенциальный руководитель, в первую очередь, обратит внимание на общий вывод. Поэтому важно отразить в нём все основные результаты из всех шагов проекта.\n",
    "        \n",
    "Стоит опираться на цели, которые были сформулированы в начале проекта, и ответить на все вопросы. Все ответы стоит подкреплять числами. А также важно описать все промежуточные выводы, которые не описаны в целях, иначе они рискуют остаться незамеченными.\n",
    "        \n",
    "Также важно отразить, с какими данными работали, какие проблемы нашли на этапе предобработки и как с ними справились.\n",
    "        \n",
    "Рекомендую опираться на такую структуру финального вывода во всех проектах:\n",
    "* предобработка данных с описанием найденных проблем и путей их решения\n",
    "* ответы на цели проекта\n",
    "* промежуточные выводы, которые считаешь важными\n",
    "\n",
    "Если захочешь поработать на оформлением, советую изучить [краткое руководство по Маркдауну](https://paulradzkov.com/2014/markdown_cheatsheet/).\n",
    " \n",
    "</div>"
   ]
  },
  {
   "cell_type": "markdown",
   "id": "2a0bb0a4",
   "metadata": {},
   "source": [
    "<div class=\"alert alert-block alert-danger\">\n",
    "<h3> Комментарий ревьюера v2 ❌<a class=\"tocSkip\"></h3>\n",
    "\n",
    "Как я писал выше, рассмотрения только хорошего клиента недостаточно. \n",
    "    \n",
    "Важно также показать, как группы по каждому вопросу отличаются друг от друга. Одна группа не задаёт контекста, поэтому цельная картина не может сложиться. И не хватает информации о предобработке.\n",
    "    \n",
    "Доработай, пожалуйста, финальный вывод.\n",
    "</div>"
   ]
  },
  {
   "cell_type": "markdown",
   "id": "b378a7f0",
   "metadata": {},
   "source": [
    "<div class=\"alert alert-success\">\n",
    "<h3> Комментарий ревьюера v3 ✔️<a class=\"tocSkip\"> </h3>\n",
    "\n",
    "Теперь получился очень хороший структурированный вывод. Все этапы проекта рассмотрены, а категории клиентов учтены. И даже даны рекомендации для заказчика по хорошему и плохому клиентам. Очень круто, молодец!\n",
    "\n",
    "</div>"
   ]
  }
 ],
 "metadata": {
  "ExecuteTimeLog": [
   {
    "duration": 49,
    "start_time": "2023-07-30T12:13:07.504Z"
   },
   {
    "duration": 577,
    "start_time": "2023-07-30T12:13:27.702Z"
   },
   {
    "duration": 27,
    "start_time": "2023-07-30T12:13:28.281Z"
   },
   {
    "duration": 16,
    "start_time": "2023-07-30T12:13:28.310Z"
   },
   {
    "duration": 14,
    "start_time": "2023-07-30T12:13:28.328Z"
   },
   {
    "duration": 64,
    "start_time": "2023-07-30T12:13:28.345Z"
   },
   {
    "duration": 4,
    "start_time": "2023-07-30T12:13:28.411Z"
   },
   {
    "duration": 10,
    "start_time": "2023-07-30T12:13:28.417Z"
   },
   {
    "duration": 5,
    "start_time": "2023-07-30T12:13:28.428Z"
   },
   {
    "duration": 11,
    "start_time": "2023-07-30T12:13:28.434Z"
   },
   {
    "duration": 4,
    "start_time": "2023-07-30T12:13:28.447Z"
   },
   {
    "duration": 65,
    "start_time": "2023-07-30T12:13:28.452Z"
   },
   {
    "duration": 9,
    "start_time": "2023-07-30T12:13:28.518Z"
   },
   {
    "duration": 12,
    "start_time": "2023-07-30T12:13:28.528Z"
   },
   {
    "duration": 18,
    "start_time": "2023-07-30T12:13:28.542Z"
   },
   {
    "duration": 27,
    "start_time": "2023-07-30T12:13:28.573Z"
   },
   {
    "duration": 16,
    "start_time": "2023-07-30T12:13:28.602Z"
   },
   {
    "duration": 3,
    "start_time": "2023-07-30T12:13:28.619Z"
   },
   {
    "duration": 13,
    "start_time": "2023-07-30T12:13:28.624Z"
   },
   {
    "duration": 5,
    "start_time": "2023-07-30T12:13:28.638Z"
   },
   {
    "duration": 34,
    "start_time": "2023-07-30T12:13:28.644Z"
   },
   {
    "duration": 16,
    "start_time": "2023-07-30T12:13:28.681Z"
   },
   {
    "duration": 17,
    "start_time": "2023-07-30T12:13:31.505Z"
   },
   {
    "duration": 18,
    "start_time": "2023-07-30T12:16:46.268Z"
   },
   {
    "duration": 10,
    "start_time": "2023-07-30T12:18:20.244Z"
   },
   {
    "duration": 12,
    "start_time": "2023-07-30T12:18:50.390Z"
   },
   {
    "duration": 4,
    "start_time": "2023-07-30T12:20:33.247Z"
   },
   {
    "duration": 971,
    "start_time": "2023-07-30T12:20:52.963Z"
   },
   {
    "duration": 895,
    "start_time": "2023-07-30T12:21:07.343Z"
   },
   {
    "duration": 915,
    "start_time": "2023-07-30T12:21:17.011Z"
   },
   {
    "duration": 951,
    "start_time": "2023-07-30T12:23:28.164Z"
   },
   {
    "duration": 117,
    "start_time": "2023-07-30T12:23:37.418Z"
   },
   {
    "duration": 10,
    "start_time": "2023-07-30T12:23:53.821Z"
   },
   {
    "duration": 1762,
    "start_time": "2023-07-30T12:23:57.606Z"
   },
   {
    "duration": 1775,
    "start_time": "2023-07-30T12:24:07.547Z"
   },
   {
    "duration": 1873,
    "start_time": "2023-07-30T12:24:20.355Z"
   },
   {
    "duration": 1862,
    "start_time": "2023-07-30T12:25:34.977Z"
   },
   {
    "duration": 80,
    "start_time": "2023-07-30T12:25:42.854Z"
   },
   {
    "duration": 17,
    "start_time": "2023-07-30T12:25:42.936Z"
   },
   {
    "duration": 35,
    "start_time": "2023-07-30T12:25:42.955Z"
   },
   {
    "duration": 18,
    "start_time": "2023-07-30T12:25:42.992Z"
   },
   {
    "duration": 41,
    "start_time": "2023-07-30T12:25:43.013Z"
   },
   {
    "duration": 4,
    "start_time": "2023-07-30T12:25:43.056Z"
   },
   {
    "duration": 33,
    "start_time": "2023-07-30T12:25:43.061Z"
   },
   {
    "duration": 8,
    "start_time": "2023-07-30T12:25:43.096Z"
   },
   {
    "duration": 30,
    "start_time": "2023-07-30T12:25:43.106Z"
   },
   {
    "duration": 15,
    "start_time": "2023-07-30T12:25:43.138Z"
   },
   {
    "duration": 60,
    "start_time": "2023-07-30T12:25:43.155Z"
   },
   {
    "duration": 10,
    "start_time": "2023-07-30T12:25:43.217Z"
   },
   {
    "duration": 29,
    "start_time": "2023-07-30T12:25:43.228Z"
   },
   {
    "duration": 38,
    "start_time": "2023-07-30T12:25:43.260Z"
   },
   {
    "duration": 34,
    "start_time": "2023-07-30T12:25:43.299Z"
   },
   {
    "duration": 17,
    "start_time": "2023-07-30T12:25:43.335Z"
   },
   {
    "duration": 12,
    "start_time": "2023-07-30T12:25:43.353Z"
   },
   {
    "duration": 26,
    "start_time": "2023-07-30T12:25:43.366Z"
   },
   {
    "duration": 10,
    "start_time": "2023-07-30T12:25:43.399Z"
   },
   {
    "duration": 9,
    "start_time": "2023-07-30T12:25:43.411Z"
   },
   {
    "duration": 40,
    "start_time": "2023-07-30T12:25:43.422Z"
   },
   {
    "duration": 27,
    "start_time": "2023-07-30T12:25:56.943Z"
   },
   {
    "duration": 9,
    "start_time": "2023-07-30T12:26:20.551Z"
   },
   {
    "duration": 9,
    "start_time": "2023-07-30T12:26:39.743Z"
   },
   {
    "duration": 5,
    "start_time": "2023-07-30T12:27:01.508Z"
   },
   {
    "duration": 8,
    "start_time": "2023-07-30T12:28:08.567Z"
   },
   {
    "duration": 78,
    "start_time": "2023-07-30T12:28:15.331Z"
   },
   {
    "duration": 15,
    "start_time": "2023-07-30T12:28:15.411Z"
   },
   {
    "duration": 35,
    "start_time": "2023-07-30T12:28:15.428Z"
   },
   {
    "duration": 22,
    "start_time": "2023-07-30T12:28:15.465Z"
   },
   {
    "duration": 39,
    "start_time": "2023-07-30T12:28:15.490Z"
   },
   {
    "duration": 3,
    "start_time": "2023-07-30T12:28:15.531Z"
   },
   {
    "duration": 12,
    "start_time": "2023-07-30T12:28:15.536Z"
   },
   {
    "duration": 4,
    "start_time": "2023-07-30T12:28:15.549Z"
   },
   {
    "duration": 31,
    "start_time": "2023-07-30T12:28:15.554Z"
   },
   {
    "duration": 7,
    "start_time": "2023-07-30T12:28:15.589Z"
   },
   {
    "duration": 37,
    "start_time": "2023-07-30T12:28:15.598Z"
   },
   {
    "duration": 10,
    "start_time": "2023-07-30T12:28:15.637Z"
   },
   {
    "duration": 6,
    "start_time": "2023-07-30T12:28:15.648Z"
   },
   {
    "duration": 40,
    "start_time": "2023-07-30T12:28:15.656Z"
   },
   {
    "duration": 20,
    "start_time": "2023-07-30T12:28:15.698Z"
   },
   {
    "duration": 18,
    "start_time": "2023-07-30T12:28:15.719Z"
   },
   {
    "duration": 3,
    "start_time": "2023-07-30T12:28:15.739Z"
   },
   {
    "duration": 51,
    "start_time": "2023-07-30T12:28:15.743Z"
   },
   {
    "duration": 7,
    "start_time": "2023-07-30T12:28:15.796Z"
   },
   {
    "duration": 5,
    "start_time": "2023-07-30T12:28:15.805Z"
   },
   {
    "duration": 12,
    "start_time": "2023-07-30T12:28:15.811Z"
   },
   {
    "duration": 21,
    "start_time": "2023-07-30T12:28:17.739Z"
   },
   {
    "duration": 86,
    "start_time": "2023-07-30T12:28:36.509Z"
   },
   {
    "duration": 15,
    "start_time": "2023-07-30T12:28:36.597Z"
   },
   {
    "duration": 32,
    "start_time": "2023-07-30T12:28:36.614Z"
   },
   {
    "duration": 13,
    "start_time": "2023-07-30T12:28:36.647Z"
   },
   {
    "duration": 43,
    "start_time": "2023-07-30T12:28:36.662Z"
   },
   {
    "duration": 4,
    "start_time": "2023-07-30T12:28:36.706Z"
   },
   {
    "duration": 15,
    "start_time": "2023-07-30T12:28:36.711Z"
   },
   {
    "duration": 4,
    "start_time": "2023-07-30T12:28:36.728Z"
   },
   {
    "duration": 13,
    "start_time": "2023-07-30T12:28:36.733Z"
   },
   {
    "duration": 6,
    "start_time": "2023-07-30T12:28:36.747Z"
   },
   {
    "duration": 59,
    "start_time": "2023-07-30T12:28:36.754Z"
   },
   {
    "duration": 11,
    "start_time": "2023-07-30T12:28:36.815Z"
   },
   {
    "duration": 4,
    "start_time": "2023-07-30T12:28:36.828Z"
   },
   {
    "duration": 15,
    "start_time": "2023-07-30T12:28:36.836Z"
   },
   {
    "duration": 46,
    "start_time": "2023-07-30T12:28:36.853Z"
   },
   {
    "duration": 19,
    "start_time": "2023-07-30T12:28:36.901Z"
   },
   {
    "duration": 4,
    "start_time": "2023-07-30T12:28:36.922Z"
   },
   {
    "duration": 22,
    "start_time": "2023-07-30T12:28:36.928Z"
   },
   {
    "duration": 26,
    "start_time": "2023-07-30T12:28:36.952Z"
   },
   {
    "duration": 19,
    "start_time": "2023-07-30T12:28:36.983Z"
   },
   {
    "duration": 22,
    "start_time": "2023-07-30T12:28:37.003Z"
   },
   {
    "duration": 33,
    "start_time": "2023-07-30T12:28:41.675Z"
   },
   {
    "duration": 78,
    "start_time": "2023-07-30T12:28:54.769Z"
   },
   {
    "duration": 14,
    "start_time": "2023-07-30T12:28:54.849Z"
   },
   {
    "duration": 29,
    "start_time": "2023-07-30T12:28:54.865Z"
   },
   {
    "duration": 10,
    "start_time": "2023-07-30T12:28:54.896Z"
   },
   {
    "duration": 52,
    "start_time": "2023-07-30T12:28:54.908Z"
   },
   {
    "duration": 3,
    "start_time": "2023-07-30T12:28:54.962Z"
   },
   {
    "duration": 29,
    "start_time": "2023-07-30T12:28:54.967Z"
   },
   {
    "duration": 5,
    "start_time": "2023-07-30T12:28:54.998Z"
   },
   {
    "duration": 25,
    "start_time": "2023-07-30T12:28:55.005Z"
   },
   {
    "duration": 22,
    "start_time": "2023-07-30T12:28:55.032Z"
   },
   {
    "duration": 66,
    "start_time": "2023-07-30T12:28:55.056Z"
   },
   {
    "duration": 10,
    "start_time": "2023-07-30T12:28:55.123Z"
   },
   {
    "duration": 18,
    "start_time": "2023-07-30T12:28:55.135Z"
   },
   {
    "duration": 33,
    "start_time": "2023-07-30T12:28:55.156Z"
   },
   {
    "duration": 54,
    "start_time": "2023-07-30T12:28:55.192Z"
   },
   {
    "duration": 33,
    "start_time": "2023-07-30T12:28:55.248Z"
   },
   {
    "duration": 14,
    "start_time": "2023-07-30T12:28:55.288Z"
   },
   {
    "duration": 15,
    "start_time": "2023-07-30T12:28:55.304Z"
   },
   {
    "duration": 9,
    "start_time": "2023-07-30T12:28:55.320Z"
   },
   {
    "duration": 4,
    "start_time": "2023-07-30T12:28:55.331Z"
   },
   {
    "duration": 18,
    "start_time": "2023-07-30T12:28:55.336Z"
   },
   {
    "duration": 5,
    "start_time": "2023-07-30T12:28:57.989Z"
   },
   {
    "duration": 10,
    "start_time": "2023-07-30T12:29:43.070Z"
   },
   {
    "duration": 11,
    "start_time": "2023-07-30T12:30:07.676Z"
   },
   {
    "duration": 74,
    "start_time": "2023-07-30T12:30:10.971Z"
   },
   {
    "duration": 15,
    "start_time": "2023-07-30T12:30:11.047Z"
   },
   {
    "duration": 23,
    "start_time": "2023-07-30T12:30:11.063Z"
   },
   {
    "duration": 13,
    "start_time": "2023-07-30T12:30:11.091Z"
   },
   {
    "duration": 38,
    "start_time": "2023-07-30T12:30:11.106Z"
   },
   {
    "duration": 4,
    "start_time": "2023-07-30T12:30:11.145Z"
   },
   {
    "duration": 12,
    "start_time": "2023-07-30T12:30:11.150Z"
   },
   {
    "duration": 15,
    "start_time": "2023-07-30T12:30:11.163Z"
   },
   {
    "duration": 12,
    "start_time": "2023-07-30T12:30:11.182Z"
   },
   {
    "duration": 6,
    "start_time": "2023-07-30T12:30:11.196Z"
   },
   {
    "duration": 36,
    "start_time": "2023-07-30T12:30:11.204Z"
   },
   {
    "duration": 10,
    "start_time": "2023-07-30T12:30:11.242Z"
   },
   {
    "duration": 28,
    "start_time": "2023-07-30T12:30:11.253Z"
   },
   {
    "duration": 20,
    "start_time": "2023-07-30T12:30:11.284Z"
   },
   {
    "duration": 20,
    "start_time": "2023-07-30T12:30:11.305Z"
   },
   {
    "duration": 17,
    "start_time": "2023-07-30T12:30:11.327Z"
   },
   {
    "duration": 3,
    "start_time": "2023-07-30T12:30:11.346Z"
   },
   {
    "duration": 24,
    "start_time": "2023-07-30T12:30:11.350Z"
   },
   {
    "duration": 13,
    "start_time": "2023-07-30T12:30:11.380Z"
   },
   {
    "duration": 5,
    "start_time": "2023-07-30T12:30:11.395Z"
   },
   {
    "duration": 15,
    "start_time": "2023-07-30T12:30:11.401Z"
   },
   {
    "duration": 12,
    "start_time": "2023-07-30T12:30:11.418Z"
   },
   {
    "duration": 9,
    "start_time": "2023-07-30T12:30:13.001Z"
   },
   {
    "duration": 71,
    "start_time": "2023-07-30T12:30:22.903Z"
   },
   {
    "duration": 22,
    "start_time": "2023-07-30T12:30:22.983Z"
   },
   {
    "duration": 14,
    "start_time": "2023-07-30T12:30:23.007Z"
   },
   {
    "duration": 10,
    "start_time": "2023-07-30T12:30:23.023Z"
   },
   {
    "duration": 62,
    "start_time": "2023-07-30T12:30:23.035Z"
   },
   {
    "duration": 3,
    "start_time": "2023-07-30T12:30:23.099Z"
   },
   {
    "duration": 17,
    "start_time": "2023-07-30T12:30:23.104Z"
   },
   {
    "duration": 5,
    "start_time": "2023-07-30T12:30:23.123Z"
   },
   {
    "duration": 6,
    "start_time": "2023-07-30T12:30:23.129Z"
   },
   {
    "duration": 23,
    "start_time": "2023-07-30T12:30:23.137Z"
   },
   {
    "duration": 60,
    "start_time": "2023-07-30T12:30:23.161Z"
   },
   {
    "duration": 9,
    "start_time": "2023-07-30T12:30:23.223Z"
   },
   {
    "duration": 4,
    "start_time": "2023-07-30T12:30:23.234Z"
   },
   {
    "duration": 17,
    "start_time": "2023-07-30T12:30:23.241Z"
   },
   {
    "duration": 46,
    "start_time": "2023-07-30T12:30:23.260Z"
   },
   {
    "duration": 18,
    "start_time": "2023-07-30T12:30:23.308Z"
   },
   {
    "duration": 5,
    "start_time": "2023-07-30T12:30:23.327Z"
   },
   {
    "duration": 18,
    "start_time": "2023-07-30T12:30:23.333Z"
   },
   {
    "duration": 14,
    "start_time": "2023-07-30T12:30:23.353Z"
   },
   {
    "duration": 5,
    "start_time": "2023-07-30T12:30:23.369Z"
   },
   {
    "duration": 16,
    "start_time": "2023-07-30T12:30:23.378Z"
   },
   {
    "duration": 13,
    "start_time": "2023-07-30T12:30:25.667Z"
   },
   {
    "duration": 68,
    "start_time": "2023-07-30T12:31:12.702Z"
   },
   {
    "duration": 25,
    "start_time": "2023-07-30T12:31:12.772Z"
   },
   {
    "duration": 19,
    "start_time": "2023-07-30T12:31:12.798Z"
   },
   {
    "duration": 13,
    "start_time": "2023-07-30T12:31:12.819Z"
   },
   {
    "duration": 33,
    "start_time": "2023-07-30T12:31:12.834Z"
   },
   {
    "duration": 10,
    "start_time": "2023-07-30T12:31:12.869Z"
   },
   {
    "duration": 16,
    "start_time": "2023-07-30T12:31:12.882Z"
   },
   {
    "duration": 5,
    "start_time": "2023-07-30T12:31:12.900Z"
   },
   {
    "duration": 12,
    "start_time": "2023-07-30T12:31:12.906Z"
   },
   {
    "duration": 10,
    "start_time": "2023-07-30T12:31:12.919Z"
   },
   {
    "duration": 60,
    "start_time": "2023-07-30T12:31:12.931Z"
   },
   {
    "duration": 10,
    "start_time": "2023-07-30T12:31:12.994Z"
   },
   {
    "duration": 14,
    "start_time": "2023-07-30T12:31:13.006Z"
   },
   {
    "duration": 17,
    "start_time": "2023-07-30T12:31:13.024Z"
   },
   {
    "duration": 43,
    "start_time": "2023-07-30T12:31:13.043Z"
   },
   {
    "duration": 19,
    "start_time": "2023-07-30T12:31:13.091Z"
   },
   {
    "duration": 3,
    "start_time": "2023-07-30T12:31:13.112Z"
   },
   {
    "duration": 18,
    "start_time": "2023-07-30T12:31:13.116Z"
   },
   {
    "duration": 8,
    "start_time": "2023-07-30T12:31:13.136Z"
   },
   {
    "duration": 15,
    "start_time": "2023-07-30T12:31:13.145Z"
   },
   {
    "duration": 26,
    "start_time": "2023-07-30T12:31:13.161Z"
   },
   {
    "duration": 10,
    "start_time": "2023-07-30T12:31:14.982Z"
   },
   {
    "duration": 6,
    "start_time": "2023-07-30T12:31:25.767Z"
   },
   {
    "duration": 79,
    "start_time": "2023-07-30T13:47:33.915Z"
   },
   {
    "duration": 15,
    "start_time": "2023-07-30T13:47:33.996Z"
   },
   {
    "duration": 17,
    "start_time": "2023-07-30T13:47:34.012Z"
   },
   {
    "duration": 13,
    "start_time": "2023-07-30T13:47:34.030Z"
   },
   {
    "duration": 56,
    "start_time": "2023-07-30T13:47:34.046Z"
   },
   {
    "duration": 4,
    "start_time": "2023-07-30T13:47:34.104Z"
   },
   {
    "duration": 16,
    "start_time": "2023-07-30T13:47:34.109Z"
   },
   {
    "duration": 8,
    "start_time": "2023-07-30T13:47:34.127Z"
   },
   {
    "duration": 6,
    "start_time": "2023-07-30T13:47:34.136Z"
   },
   {
    "duration": 6,
    "start_time": "2023-07-30T13:47:34.143Z"
   },
   {
    "duration": 54,
    "start_time": "2023-07-30T13:47:34.150Z"
   },
   {
    "duration": 9,
    "start_time": "2023-07-30T13:47:34.206Z"
   },
   {
    "duration": 8,
    "start_time": "2023-07-30T13:47:34.217Z"
   },
   {
    "duration": 16,
    "start_time": "2023-07-30T13:47:34.227Z"
   },
   {
    "duration": 39,
    "start_time": "2023-07-30T13:47:34.244Z"
   },
   {
    "duration": 23,
    "start_time": "2023-07-30T13:47:34.285Z"
   },
   {
    "duration": 3,
    "start_time": "2023-07-30T13:47:34.310Z"
   },
   {
    "duration": 10,
    "start_time": "2023-07-30T13:47:34.315Z"
   },
   {
    "duration": 7,
    "start_time": "2023-07-30T13:47:34.326Z"
   },
   {
    "duration": 3,
    "start_time": "2023-07-30T13:47:34.335Z"
   },
   {
    "duration": 17,
    "start_time": "2023-07-30T13:47:34.340Z"
   },
   {
    "duration": 32,
    "start_time": "2023-07-30T13:47:50.559Z"
   },
   {
    "duration": 18,
    "start_time": "2023-07-30T13:48:43.699Z"
   },
   {
    "duration": 9,
    "start_time": "2023-07-30T13:49:07.190Z"
   },
   {
    "duration": 8,
    "start_time": "2023-07-30T13:49:13.789Z"
   },
   {
    "duration": 7,
    "start_time": "2023-07-30T13:49:33.364Z"
   },
   {
    "duration": 22,
    "start_time": "2023-07-30T13:50:05.585Z"
   },
   {
    "duration": 8,
    "start_time": "2023-07-30T13:52:01.356Z"
   },
   {
    "duration": 75,
    "start_time": "2023-07-30T13:55:33.249Z"
   },
   {
    "duration": 14,
    "start_time": "2023-07-30T13:55:33.326Z"
   },
   {
    "duration": 55,
    "start_time": "2023-07-30T13:55:33.341Z"
   },
   {
    "duration": 12,
    "start_time": "2023-07-30T13:55:33.397Z"
   },
   {
    "duration": 39,
    "start_time": "2023-07-30T13:55:33.413Z"
   },
   {
    "duration": 4,
    "start_time": "2023-07-30T13:55:33.453Z"
   },
   {
    "duration": 43,
    "start_time": "2023-07-30T13:55:33.458Z"
   },
   {
    "duration": 20,
    "start_time": "2023-07-30T13:55:33.502Z"
   },
   {
    "duration": 19,
    "start_time": "2023-07-30T13:55:33.524Z"
   },
   {
    "duration": 12,
    "start_time": "2023-07-30T13:55:33.544Z"
   },
   {
    "duration": 40,
    "start_time": "2023-07-30T13:55:33.558Z"
   },
   {
    "duration": 10,
    "start_time": "2023-07-30T13:55:33.600Z"
   },
   {
    "duration": 23,
    "start_time": "2023-07-30T13:55:33.612Z"
   },
   {
    "duration": 12,
    "start_time": "2023-07-30T13:55:33.638Z"
   },
   {
    "duration": 21,
    "start_time": "2023-07-30T13:55:33.652Z"
   },
   {
    "duration": 24,
    "start_time": "2023-07-30T13:55:33.677Z"
   },
   {
    "duration": 3,
    "start_time": "2023-07-30T13:55:33.703Z"
   },
   {
    "duration": 15,
    "start_time": "2023-07-30T13:55:33.707Z"
   },
   {
    "duration": 9,
    "start_time": "2023-07-30T13:55:33.723Z"
   },
   {
    "duration": 14,
    "start_time": "2023-07-30T13:55:33.733Z"
   },
   {
    "duration": 45,
    "start_time": "2023-07-30T13:55:33.748Z"
   },
   {
    "duration": 8,
    "start_time": "2023-07-30T13:55:38.005Z"
   },
   {
    "duration": 80,
    "start_time": "2023-07-30T13:55:49.517Z"
   },
   {
    "duration": 15,
    "start_time": "2023-07-30T13:55:49.599Z"
   },
   {
    "duration": 18,
    "start_time": "2023-07-30T13:55:49.615Z"
   },
   {
    "duration": 31,
    "start_time": "2023-07-30T13:55:49.634Z"
   },
   {
    "duration": 47,
    "start_time": "2023-07-30T13:55:49.667Z"
   },
   {
    "duration": 3,
    "start_time": "2023-07-30T13:55:49.716Z"
   },
   {
    "duration": 11,
    "start_time": "2023-07-30T13:55:49.720Z"
   },
   {
    "duration": 9,
    "start_time": "2023-07-30T13:55:49.732Z"
   },
   {
    "duration": 17,
    "start_time": "2023-07-30T13:55:49.742Z"
   },
   {
    "duration": 13,
    "start_time": "2023-07-30T13:55:49.760Z"
   },
   {
    "duration": 34,
    "start_time": "2023-07-30T13:55:49.787Z"
   },
   {
    "duration": 10,
    "start_time": "2023-07-30T13:55:49.822Z"
   },
   {
    "duration": 6,
    "start_time": "2023-07-30T13:55:49.833Z"
   },
   {
    "duration": 10,
    "start_time": "2023-07-30T13:55:49.841Z"
   },
   {
    "duration": 44,
    "start_time": "2023-07-30T13:55:49.853Z"
   },
   {
    "duration": 19,
    "start_time": "2023-07-30T13:55:49.898Z"
   },
   {
    "duration": 20,
    "start_time": "2023-07-30T13:55:49.919Z"
   },
   {
    "duration": 21,
    "start_time": "2023-07-30T13:55:49.940Z"
   },
   {
    "duration": 9,
    "start_time": "2023-07-30T13:55:49.962Z"
   },
   {
    "duration": 18,
    "start_time": "2023-07-30T13:55:49.972Z"
   },
   {
    "duration": 16,
    "start_time": "2023-07-30T13:55:49.992Z"
   },
   {
    "duration": 9,
    "start_time": "2023-07-30T13:55:51.887Z"
   },
   {
    "duration": 12,
    "start_time": "2023-07-30T14:04:40.957Z"
   },
   {
    "duration": 81,
    "start_time": "2023-07-30T14:04:45.809Z"
   },
   {
    "duration": 18,
    "start_time": "2023-07-30T14:04:45.892Z"
   },
   {
    "duration": 21,
    "start_time": "2023-07-30T14:04:45.911Z"
   },
   {
    "duration": 10,
    "start_time": "2023-07-30T14:04:45.933Z"
   },
   {
    "duration": 61,
    "start_time": "2023-07-30T14:04:45.945Z"
   },
   {
    "duration": 4,
    "start_time": "2023-07-30T14:04:46.008Z"
   },
   {
    "duration": 17,
    "start_time": "2023-07-30T14:04:46.014Z"
   },
   {
    "duration": 7,
    "start_time": "2023-07-30T14:04:46.033Z"
   },
   {
    "duration": 21,
    "start_time": "2023-07-30T14:04:46.041Z"
   },
   {
    "duration": 9,
    "start_time": "2023-07-30T14:04:46.064Z"
   },
   {
    "duration": 43,
    "start_time": "2023-07-30T14:04:46.077Z"
   },
   {
    "duration": 10,
    "start_time": "2023-07-30T14:04:46.122Z"
   },
   {
    "duration": 6,
    "start_time": "2023-07-30T14:04:46.134Z"
   },
   {
    "duration": 21,
    "start_time": "2023-07-30T14:04:46.143Z"
   },
   {
    "duration": 32,
    "start_time": "2023-07-30T14:04:46.166Z"
   },
   {
    "duration": 20,
    "start_time": "2023-07-30T14:04:46.199Z"
   },
   {
    "duration": 4,
    "start_time": "2023-07-30T14:04:46.220Z"
   },
   {
    "duration": 21,
    "start_time": "2023-07-30T14:04:46.226Z"
   },
   {
    "duration": 13,
    "start_time": "2023-07-30T14:04:46.249Z"
   },
   {
    "duration": 13,
    "start_time": "2023-07-30T14:04:46.263Z"
   },
   {
    "duration": 13,
    "start_time": "2023-07-30T14:04:46.278Z"
   },
   {
    "duration": 21,
    "start_time": "2023-07-30T14:04:48.566Z"
   },
   {
    "duration": 10,
    "start_time": "2023-07-30T14:05:13.482Z"
   },
   {
    "duration": 73,
    "start_time": "2023-07-30T14:05:34.577Z"
   },
   {
    "duration": 14,
    "start_time": "2023-07-30T14:05:34.652Z"
   },
   {
    "duration": 25,
    "start_time": "2023-07-30T14:05:34.667Z"
   },
   {
    "duration": 9,
    "start_time": "2023-07-30T14:05:34.694Z"
   },
   {
    "duration": 40,
    "start_time": "2023-07-30T14:05:34.705Z"
   },
   {
    "duration": 3,
    "start_time": "2023-07-30T14:05:34.747Z"
   },
   {
    "duration": 11,
    "start_time": "2023-07-30T14:05:34.751Z"
   },
   {
    "duration": 18,
    "start_time": "2023-07-30T14:05:34.764Z"
   },
   {
    "duration": 15,
    "start_time": "2023-07-30T14:05:34.786Z"
   },
   {
    "duration": 31,
    "start_time": "2023-07-30T14:05:34.803Z"
   },
   {
    "duration": 42,
    "start_time": "2023-07-30T14:05:34.836Z"
   },
   {
    "duration": 14,
    "start_time": "2023-07-30T14:05:34.883Z"
   },
   {
    "duration": 4,
    "start_time": "2023-07-30T14:05:34.899Z"
   },
   {
    "duration": 11,
    "start_time": "2023-07-30T14:05:34.905Z"
   },
   {
    "duration": 17,
    "start_time": "2023-07-30T14:05:34.917Z"
   },
   {
    "duration": 17,
    "start_time": "2023-07-30T14:05:34.936Z"
   },
   {
    "duration": 24,
    "start_time": "2023-07-30T14:05:34.954Z"
   },
   {
    "duration": 16,
    "start_time": "2023-07-30T14:05:34.981Z"
   },
   {
    "duration": 8,
    "start_time": "2023-07-30T14:05:34.999Z"
   },
   {
    "duration": 3,
    "start_time": "2023-07-30T14:05:35.009Z"
   },
   {
    "duration": 18,
    "start_time": "2023-07-30T14:05:35.013Z"
   },
   {
    "duration": 9,
    "start_time": "2023-07-30T14:05:36.587Z"
   },
   {
    "duration": 9,
    "start_time": "2023-07-30T14:05:41.606Z"
   },
   {
    "duration": 71,
    "start_time": "2023-07-30T14:06:14.688Z"
   },
   {
    "duration": 15,
    "start_time": "2023-07-30T14:06:14.761Z"
   },
   {
    "duration": 38,
    "start_time": "2023-07-30T14:06:14.778Z"
   },
   {
    "duration": 9,
    "start_time": "2023-07-30T14:06:14.818Z"
   },
   {
    "duration": 56,
    "start_time": "2023-07-30T14:06:14.830Z"
   },
   {
    "duration": 3,
    "start_time": "2023-07-30T14:06:14.888Z"
   },
   {
    "duration": 22,
    "start_time": "2023-07-30T14:06:14.893Z"
   },
   {
    "duration": 12,
    "start_time": "2023-07-30T14:06:14.916Z"
   },
   {
    "duration": 22,
    "start_time": "2023-07-30T14:06:14.930Z"
   },
   {
    "duration": 14,
    "start_time": "2023-07-30T14:06:14.953Z"
   },
   {
    "duration": 51,
    "start_time": "2023-07-30T14:06:14.969Z"
   },
   {
    "duration": 40,
    "start_time": "2023-07-30T14:06:15.021Z"
   },
   {
    "duration": 37,
    "start_time": "2023-07-30T14:06:15.062Z"
   },
   {
    "duration": 24,
    "start_time": "2023-07-30T14:06:15.102Z"
   },
   {
    "duration": 36,
    "start_time": "2023-07-30T14:06:15.128Z"
   },
   {
    "duration": 37,
    "start_time": "2023-07-30T14:06:15.166Z"
   },
   {
    "duration": 4,
    "start_time": "2023-07-30T14:06:15.204Z"
   },
   {
    "duration": 24,
    "start_time": "2023-07-30T14:06:15.210Z"
   },
   {
    "duration": 23,
    "start_time": "2023-07-30T14:06:15.236Z"
   },
   {
    "duration": 11,
    "start_time": "2023-07-30T14:06:15.260Z"
   },
   {
    "duration": 23,
    "start_time": "2023-07-30T14:06:15.272Z"
   },
   {
    "duration": 24,
    "start_time": "2023-07-30T14:06:17.062Z"
   },
   {
    "duration": 10,
    "start_time": "2023-07-30T14:11:22.987Z"
   },
   {
    "duration": 9,
    "start_time": "2023-07-30T14:11:48.390Z"
   },
   {
    "duration": 144,
    "start_time": "2023-07-30T14:12:55.487Z"
   },
   {
    "duration": 13,
    "start_time": "2023-07-30T14:13:27.786Z"
   },
   {
    "duration": 9,
    "start_time": "2023-07-30T14:13:59.597Z"
   },
   {
    "duration": 12,
    "start_time": "2023-07-30T14:14:24.366Z"
   },
   {
    "duration": 110,
    "start_time": "2023-07-30T14:14:40.684Z"
   },
   {
    "duration": 109,
    "start_time": "2023-07-30T14:14:52.462Z"
   },
   {
    "duration": 19,
    "start_time": "2023-07-30T14:16:34.979Z"
   },
   {
    "duration": 12,
    "start_time": "2023-07-30T14:16:47.283Z"
   },
   {
    "duration": 14,
    "start_time": "2023-07-30T14:16:54.180Z"
   },
   {
    "duration": 118,
    "start_time": "2023-07-30T14:17:10.188Z"
   },
   {
    "duration": 9,
    "start_time": "2023-07-30T14:17:16.190Z"
   },
   {
    "duration": 11,
    "start_time": "2023-07-30T14:17:48.307Z"
   },
   {
    "duration": 11,
    "start_time": "2023-07-30T14:19:16.092Z"
   },
   {
    "duration": 9,
    "start_time": "2023-07-30T14:19:30.292Z"
   },
   {
    "duration": 9,
    "start_time": "2023-07-30T14:19:41.900Z"
   },
   {
    "duration": 9,
    "start_time": "2023-07-30T14:20:11.088Z"
   },
   {
    "duration": 8,
    "start_time": "2023-07-30T14:20:39.305Z"
   },
   {
    "duration": 10,
    "start_time": "2023-07-30T14:20:49.398Z"
   },
   {
    "duration": 70,
    "start_time": "2023-07-30T14:20:58.390Z"
   },
   {
    "duration": 23,
    "start_time": "2023-07-30T14:20:58.462Z"
   },
   {
    "duration": 20,
    "start_time": "2023-07-30T14:20:58.487Z"
   },
   {
    "duration": 9,
    "start_time": "2023-07-30T14:20:58.508Z"
   },
   {
    "duration": 32,
    "start_time": "2023-07-30T14:20:58.519Z"
   },
   {
    "duration": 3,
    "start_time": "2023-07-30T14:20:58.552Z"
   },
   {
    "duration": 34,
    "start_time": "2023-07-30T14:20:58.556Z"
   },
   {
    "duration": 4,
    "start_time": "2023-07-30T14:20:58.591Z"
   },
   {
    "duration": 20,
    "start_time": "2023-07-30T14:20:58.597Z"
   },
   {
    "duration": 24,
    "start_time": "2023-07-30T14:20:58.619Z"
   },
   {
    "duration": 77,
    "start_time": "2023-07-30T14:20:58.644Z"
   },
   {
    "duration": 9,
    "start_time": "2023-07-30T14:20:58.723Z"
   },
   {
    "duration": 16,
    "start_time": "2023-07-30T14:20:58.733Z"
   },
   {
    "duration": 10,
    "start_time": "2023-07-30T14:20:58.751Z"
   },
   {
    "duration": 32,
    "start_time": "2023-07-30T14:20:58.762Z"
   },
   {
    "duration": 16,
    "start_time": "2023-07-30T14:20:58.796Z"
   },
   {
    "duration": 3,
    "start_time": "2023-07-30T14:20:58.814Z"
   },
   {
    "duration": 11,
    "start_time": "2023-07-30T14:20:58.818Z"
   },
   {
    "duration": 5,
    "start_time": "2023-07-30T14:20:58.831Z"
   },
   {
    "duration": 12,
    "start_time": "2023-07-30T14:20:58.837Z"
   },
   {
    "duration": 28,
    "start_time": "2023-07-30T14:20:58.850Z"
   },
   {
    "duration": 14,
    "start_time": "2023-07-30T14:20:58.879Z"
   },
   {
    "duration": 7,
    "start_time": "2023-07-30T14:21:04.408Z"
   },
   {
    "duration": 68,
    "start_time": "2023-07-30T14:21:08.888Z"
   },
   {
    "duration": 20,
    "start_time": "2023-07-30T14:21:08.958Z"
   },
   {
    "duration": 23,
    "start_time": "2023-07-30T14:21:08.980Z"
   },
   {
    "duration": 8,
    "start_time": "2023-07-30T14:21:09.005Z"
   },
   {
    "duration": 39,
    "start_time": "2023-07-30T14:21:09.015Z"
   },
   {
    "duration": 3,
    "start_time": "2023-07-30T14:21:09.056Z"
   },
   {
    "duration": 25,
    "start_time": "2023-07-30T14:21:09.060Z"
   },
   {
    "duration": 7,
    "start_time": "2023-07-30T14:21:09.087Z"
   },
   {
    "duration": 7,
    "start_time": "2023-07-30T14:21:09.095Z"
   },
   {
    "duration": 8,
    "start_time": "2023-07-30T14:21:09.103Z"
   },
   {
    "duration": 35,
    "start_time": "2023-07-30T14:21:09.112Z"
   },
   {
    "duration": 9,
    "start_time": "2023-07-30T14:21:09.148Z"
   },
   {
    "duration": 7,
    "start_time": "2023-07-30T14:21:09.174Z"
   },
   {
    "duration": 15,
    "start_time": "2023-07-30T14:21:09.186Z"
   },
   {
    "duration": 25,
    "start_time": "2023-07-30T14:21:09.203Z"
   },
   {
    "duration": 17,
    "start_time": "2023-07-30T14:21:09.230Z"
   },
   {
    "duration": 3,
    "start_time": "2023-07-30T14:21:09.249Z"
   },
   {
    "duration": 36,
    "start_time": "2023-07-30T14:21:09.254Z"
   },
   {
    "duration": 8,
    "start_time": "2023-07-30T14:21:09.292Z"
   },
   {
    "duration": 8,
    "start_time": "2023-07-30T14:21:09.302Z"
   },
   {
    "duration": 12,
    "start_time": "2023-07-30T14:21:09.311Z"
   },
   {
    "duration": 11,
    "start_time": "2023-07-30T14:21:25.486Z"
   },
   {
    "duration": 10,
    "start_time": "2023-07-30T14:25:18.462Z"
   },
   {
    "duration": 10,
    "start_time": "2023-07-30T14:25:24.727Z"
   },
   {
    "duration": 11,
    "start_time": "2023-07-30T14:26:05.183Z"
   },
   {
    "duration": 19,
    "start_time": "2023-07-30T14:26:42.076Z"
   },
   {
    "duration": 17,
    "start_time": "2023-07-30T14:29:12.274Z"
   },
   {
    "duration": 10,
    "start_time": "2023-07-30T14:29:26.692Z"
   },
   {
    "duration": 10,
    "start_time": "2023-07-30T14:29:48.811Z"
   },
   {
    "duration": 19,
    "start_time": "2023-07-30T14:30:14.582Z"
   },
   {
    "duration": 14,
    "start_time": "2023-07-30T14:30:39.477Z"
   },
   {
    "duration": 10,
    "start_time": "2023-07-30T14:30:51.510Z"
   },
   {
    "duration": 9,
    "start_time": "2023-07-30T14:31:46.566Z"
   },
   {
    "duration": 9,
    "start_time": "2023-07-30T14:32:01.719Z"
   },
   {
    "duration": 22,
    "start_time": "2023-07-30T14:32:20.770Z"
   },
   {
    "duration": 3,
    "start_time": "2023-07-30T14:32:23.203Z"
   },
   {
    "duration": 77,
    "start_time": "2023-07-30T14:32:26.373Z"
   },
   {
    "duration": 15,
    "start_time": "2023-07-30T14:32:26.453Z"
   },
   {
    "duration": 28,
    "start_time": "2023-07-30T14:32:26.470Z"
   },
   {
    "duration": 12,
    "start_time": "2023-07-30T14:32:26.500Z"
   },
   {
    "duration": 42,
    "start_time": "2023-07-30T14:32:26.513Z"
   },
   {
    "duration": 3,
    "start_time": "2023-07-30T14:32:26.557Z"
   },
   {
    "duration": 20,
    "start_time": "2023-07-30T14:32:26.561Z"
   },
   {
    "duration": 9,
    "start_time": "2023-07-30T14:32:26.583Z"
   },
   {
    "duration": 7,
    "start_time": "2023-07-30T14:32:26.594Z"
   },
   {
    "duration": 6,
    "start_time": "2023-07-30T14:32:26.604Z"
   },
   {
    "duration": 37,
    "start_time": "2023-07-30T14:32:26.611Z"
   },
   {
    "duration": 42,
    "start_time": "2023-07-30T14:32:26.650Z"
   },
   {
    "duration": 4,
    "start_time": "2023-07-30T14:32:26.695Z"
   },
   {
    "duration": 22,
    "start_time": "2023-07-30T14:32:26.700Z"
   },
   {
    "duration": 19,
    "start_time": "2023-07-30T14:32:26.724Z"
   },
   {
    "duration": 42,
    "start_time": "2023-07-30T14:32:26.745Z"
   },
   {
    "duration": 4,
    "start_time": "2023-07-30T14:32:26.789Z"
   },
   {
    "duration": 19,
    "start_time": "2023-07-30T14:32:26.795Z"
   },
   {
    "duration": 11,
    "start_time": "2023-07-30T14:32:26.816Z"
   },
   {
    "duration": 4,
    "start_time": "2023-07-30T14:32:26.828Z"
   },
   {
    "duration": 15,
    "start_time": "2023-07-30T14:32:26.833Z"
   },
   {
    "duration": 22,
    "start_time": "2023-07-30T14:32:33.865Z"
   },
   {
    "duration": 14,
    "start_time": "2023-07-30T14:33:11.767Z"
   },
   {
    "duration": 10,
    "start_time": "2023-07-30T14:36:01.150Z"
   },
   {
    "duration": 76,
    "start_time": "2023-07-30T14:36:03.859Z"
   },
   {
    "duration": 16,
    "start_time": "2023-07-30T14:36:03.937Z"
   },
   {
    "duration": 38,
    "start_time": "2023-07-30T14:36:03.954Z"
   },
   {
    "duration": 37,
    "start_time": "2023-07-30T14:36:03.993Z"
   },
   {
    "duration": 52,
    "start_time": "2023-07-30T14:36:04.033Z"
   },
   {
    "duration": 14,
    "start_time": "2023-07-30T14:36:04.089Z"
   },
   {
    "duration": 54,
    "start_time": "2023-07-30T14:36:04.105Z"
   },
   {
    "duration": 64,
    "start_time": "2023-07-30T14:36:04.161Z"
   },
   {
    "duration": 11,
    "start_time": "2023-07-30T14:36:04.226Z"
   },
   {
    "duration": 14,
    "start_time": "2023-07-30T14:36:04.239Z"
   },
   {
    "duration": 60,
    "start_time": "2023-07-30T14:36:04.255Z"
   },
   {
    "duration": 14,
    "start_time": "2023-07-30T14:36:04.316Z"
   },
   {
    "duration": 21,
    "start_time": "2023-07-30T14:36:04.331Z"
   },
   {
    "duration": 34,
    "start_time": "2023-07-30T14:36:04.355Z"
   },
   {
    "duration": 33,
    "start_time": "2023-07-30T14:36:04.391Z"
   },
   {
    "duration": 22,
    "start_time": "2023-07-30T14:36:04.426Z"
   },
   {
    "duration": 3,
    "start_time": "2023-07-30T14:36:04.450Z"
   },
   {
    "duration": 33,
    "start_time": "2023-07-30T14:36:04.454Z"
   },
   {
    "duration": 5,
    "start_time": "2023-07-30T14:36:04.490Z"
   },
   {
    "duration": 5,
    "start_time": "2023-07-30T14:36:04.496Z"
   },
   {
    "duration": 19,
    "start_time": "2023-07-30T14:36:04.502Z"
   },
   {
    "duration": 10,
    "start_time": "2023-07-30T14:36:04.736Z"
   },
   {
    "duration": 11,
    "start_time": "2023-07-30T14:36:22.399Z"
   },
   {
    "duration": 9,
    "start_time": "2023-07-30T14:36:47.287Z"
   },
   {
    "duration": 19,
    "start_time": "2023-07-30T14:39:17.920Z"
   },
   {
    "duration": 14,
    "start_time": "2023-07-30T14:39:54.086Z"
   },
   {
    "duration": 16,
    "start_time": "2023-07-30T14:40:17.271Z"
   },
   {
    "duration": 13,
    "start_time": "2023-07-30T14:41:26.164Z"
   },
   {
    "duration": 10,
    "start_time": "2023-07-30T14:41:40.721Z"
   },
   {
    "duration": 13,
    "start_time": "2023-07-30T14:41:54.095Z"
   },
   {
    "duration": 11,
    "start_time": "2023-07-30T14:42:57.056Z"
   },
   {
    "duration": 8,
    "start_time": "2023-07-30T14:44:06.158Z"
   },
   {
    "duration": 124,
    "start_time": "2023-07-30T14:44:54.166Z"
   },
   {
    "duration": 12,
    "start_time": "2023-07-30T14:45:04.161Z"
   },
   {
    "duration": 27,
    "start_time": "2023-07-30T14:45:57.171Z"
   },
   {
    "duration": 18,
    "start_time": "2023-07-30T14:49:56.422Z"
   },
   {
    "duration": 8,
    "start_time": "2023-07-30T14:50:32.461Z"
   },
   {
    "duration": 20,
    "start_time": "2023-07-30T14:51:33.607Z"
   },
   {
    "duration": 69,
    "start_time": "2023-07-30T14:51:35.562Z"
   },
   {
    "duration": 14,
    "start_time": "2023-07-30T14:51:35.633Z"
   },
   {
    "duration": 24,
    "start_time": "2023-07-30T14:51:35.649Z"
   },
   {
    "duration": 9,
    "start_time": "2023-07-30T14:51:35.675Z"
   },
   {
    "duration": 34,
    "start_time": "2023-07-30T14:51:35.687Z"
   },
   {
    "duration": 3,
    "start_time": "2023-07-30T14:51:35.723Z"
   },
   {
    "duration": 12,
    "start_time": "2023-07-30T14:51:35.728Z"
   },
   {
    "duration": 4,
    "start_time": "2023-07-30T14:51:35.742Z"
   },
   {
    "duration": 26,
    "start_time": "2023-07-30T14:51:35.748Z"
   },
   {
    "duration": 4,
    "start_time": "2023-07-30T14:51:35.775Z"
   },
   {
    "duration": 40,
    "start_time": "2023-07-30T14:51:35.780Z"
   },
   {
    "duration": 10,
    "start_time": "2023-07-30T14:51:35.822Z"
   },
   {
    "duration": 5,
    "start_time": "2023-07-30T14:51:35.834Z"
   },
   {
    "duration": 16,
    "start_time": "2023-07-30T14:51:35.842Z"
   },
   {
    "duration": 34,
    "start_time": "2023-07-30T14:51:35.860Z"
   },
   {
    "duration": 18,
    "start_time": "2023-07-30T14:51:35.896Z"
   },
   {
    "duration": 3,
    "start_time": "2023-07-30T14:51:35.916Z"
   },
   {
    "duration": 14,
    "start_time": "2023-07-30T14:51:35.921Z"
   },
   {
    "duration": 14,
    "start_time": "2023-07-30T14:51:35.937Z"
   },
   {
    "duration": 5,
    "start_time": "2023-07-30T14:51:35.953Z"
   },
   {
    "duration": 31,
    "start_time": "2023-07-30T14:51:35.960Z"
   },
   {
    "duration": 13,
    "start_time": "2023-07-30T14:51:35.992Z"
   },
   {
    "duration": 23,
    "start_time": "2023-07-30T14:51:36.006Z"
   },
   {
    "duration": 21,
    "start_time": "2023-07-30T14:51:36.557Z"
   },
   {
    "duration": 7,
    "start_time": "2023-07-30T14:52:36.070Z"
   },
   {
    "duration": 11,
    "start_time": "2023-07-30T14:53:11.084Z"
   },
   {
    "duration": 12,
    "start_time": "2023-07-30T14:53:22.412Z"
   },
   {
    "duration": 14,
    "start_time": "2023-07-30T14:54:19.565Z"
   },
   {
    "duration": 69,
    "start_time": "2023-07-30T14:56:11.689Z"
   },
   {
    "duration": 14,
    "start_time": "2023-07-30T14:56:11.760Z"
   },
   {
    "duration": 17,
    "start_time": "2023-07-30T14:56:11.775Z"
   },
   {
    "duration": 9,
    "start_time": "2023-07-30T14:56:11.794Z"
   },
   {
    "duration": 37,
    "start_time": "2023-07-30T14:56:11.805Z"
   },
   {
    "duration": 4,
    "start_time": "2023-07-30T14:56:11.843Z"
   },
   {
    "duration": 9,
    "start_time": "2023-07-30T14:56:11.848Z"
   },
   {
    "duration": 4,
    "start_time": "2023-07-30T14:56:11.874Z"
   },
   {
    "duration": 9,
    "start_time": "2023-07-30T14:56:11.879Z"
   },
   {
    "duration": 11,
    "start_time": "2023-07-30T14:56:11.890Z"
   },
   {
    "duration": 38,
    "start_time": "2023-07-30T14:56:11.902Z"
   },
   {
    "duration": 9,
    "start_time": "2023-07-30T14:56:11.942Z"
   },
   {
    "duration": 5,
    "start_time": "2023-07-30T14:56:11.953Z"
   },
   {
    "duration": 26,
    "start_time": "2023-07-30T14:56:11.959Z"
   },
   {
    "duration": 20,
    "start_time": "2023-07-30T14:56:11.987Z"
   },
   {
    "duration": 16,
    "start_time": "2023-07-30T14:56:12.009Z"
   },
   {
    "duration": 3,
    "start_time": "2023-07-30T14:56:12.026Z"
   },
   {
    "duration": 21,
    "start_time": "2023-07-30T14:56:12.030Z"
   },
   {
    "duration": 23,
    "start_time": "2023-07-30T14:56:12.053Z"
   },
   {
    "duration": 21,
    "start_time": "2023-07-30T14:56:12.077Z"
   },
   {
    "duration": 25,
    "start_time": "2023-07-30T14:56:12.100Z"
   },
   {
    "duration": 42,
    "start_time": "2023-07-30T14:56:12.127Z"
   },
   {
    "duration": 18,
    "start_time": "2023-07-30T14:56:12.171Z"
   },
   {
    "duration": 26,
    "start_time": "2023-07-30T14:56:13.863Z"
   },
   {
    "duration": 23,
    "start_time": "2023-07-30T14:56:41.990Z"
   },
   {
    "duration": 14,
    "start_time": "2023-07-30T14:57:20.000Z"
   },
   {
    "duration": 9,
    "start_time": "2023-07-30T15:07:59.759Z"
   },
   {
    "duration": 75,
    "start_time": "2023-07-30T15:08:02.920Z"
   },
   {
    "duration": 14,
    "start_time": "2023-07-30T15:08:02.997Z"
   },
   {
    "duration": 23,
    "start_time": "2023-07-30T15:08:03.013Z"
   },
   {
    "duration": 31,
    "start_time": "2023-07-30T15:08:03.038Z"
   },
   {
    "duration": 57,
    "start_time": "2023-07-30T15:08:03.071Z"
   },
   {
    "duration": 3,
    "start_time": "2023-07-30T15:08:03.130Z"
   },
   {
    "duration": 25,
    "start_time": "2023-07-30T15:08:03.134Z"
   },
   {
    "duration": 12,
    "start_time": "2023-07-30T15:08:03.160Z"
   },
   {
    "duration": 14,
    "start_time": "2023-07-30T15:08:03.178Z"
   },
   {
    "duration": 19,
    "start_time": "2023-07-30T15:08:03.194Z"
   },
   {
    "duration": 71,
    "start_time": "2023-07-30T15:08:03.215Z"
   },
   {
    "duration": 64,
    "start_time": "2023-07-30T15:08:03.290Z"
   },
   {
    "duration": 87,
    "start_time": "2023-07-30T15:08:03.356Z"
   },
   {
    "duration": 53,
    "start_time": "2023-07-30T15:08:03.446Z"
   },
   {
    "duration": 44,
    "start_time": "2023-07-30T15:08:03.501Z"
   },
   {
    "duration": 18,
    "start_time": "2023-07-30T15:08:03.547Z"
   },
   {
    "duration": 4,
    "start_time": "2023-07-30T15:08:03.567Z"
   },
   {
    "duration": 27,
    "start_time": "2023-07-30T15:08:03.572Z"
   },
   {
    "duration": 26,
    "start_time": "2023-07-30T15:08:03.600Z"
   },
   {
    "duration": 14,
    "start_time": "2023-07-30T15:08:03.628Z"
   },
   {
    "duration": 48,
    "start_time": "2023-07-30T15:08:03.643Z"
   },
   {
    "duration": 23,
    "start_time": "2023-07-30T15:08:03.693Z"
   },
   {
    "duration": 45,
    "start_time": "2023-07-30T15:08:03.718Z"
   },
   {
    "duration": 22,
    "start_time": "2023-07-30T15:08:03.765Z"
   },
   {
    "duration": 11,
    "start_time": "2023-07-30T15:08:05.987Z"
   },
   {
    "duration": 9,
    "start_time": "2023-07-30T15:08:13.457Z"
   },
   {
    "duration": 9,
    "start_time": "2023-07-30T15:08:21.458Z"
   },
   {
    "duration": 23,
    "start_time": "2023-07-30T15:08:46.367Z"
   },
   {
    "duration": 14,
    "start_time": "2023-07-30T15:09:21.153Z"
   },
   {
    "duration": 12,
    "start_time": "2023-07-30T15:17:15.602Z"
   },
   {
    "duration": 16,
    "start_time": "2023-07-30T15:17:38.910Z"
   },
   {
    "duration": 17,
    "start_time": "2023-07-30T15:17:56.852Z"
   },
   {
    "duration": 19,
    "start_time": "2023-07-30T15:18:27.279Z"
   },
   {
    "duration": 57,
    "start_time": "2023-07-31T14:12:25.712Z"
   },
   {
    "duration": 551,
    "start_time": "2023-07-31T14:12:28.259Z"
   },
   {
    "duration": 28,
    "start_time": "2023-07-31T14:12:28.812Z"
   },
   {
    "duration": 19,
    "start_time": "2023-07-31T14:12:28.842Z"
   },
   {
    "duration": 17,
    "start_time": "2023-07-31T14:12:28.865Z"
   },
   {
    "duration": 38,
    "start_time": "2023-07-31T14:12:28.884Z"
   },
   {
    "duration": 4,
    "start_time": "2023-07-31T14:12:28.927Z"
   },
   {
    "duration": 22,
    "start_time": "2023-07-31T14:12:28.933Z"
   },
   {
    "duration": 16,
    "start_time": "2023-07-31T14:12:28.959Z"
   },
   {
    "duration": 29,
    "start_time": "2023-07-31T14:12:28.977Z"
   },
   {
    "duration": 10,
    "start_time": "2023-07-31T14:12:29.008Z"
   },
   {
    "duration": 63,
    "start_time": "2023-07-31T14:12:29.019Z"
   },
   {
    "duration": 18,
    "start_time": "2023-07-31T14:12:29.084Z"
   },
   {
    "duration": 17,
    "start_time": "2023-07-31T14:12:29.103Z"
   },
   {
    "duration": 24,
    "start_time": "2023-07-31T14:12:29.123Z"
   },
   {
    "duration": 37,
    "start_time": "2023-07-31T14:12:29.150Z"
   },
   {
    "duration": 27,
    "start_time": "2023-07-31T14:12:29.189Z"
   },
   {
    "duration": 5,
    "start_time": "2023-07-31T14:12:29.218Z"
   },
   {
    "duration": 28,
    "start_time": "2023-07-31T14:12:29.225Z"
   },
   {
    "duration": 13,
    "start_time": "2023-07-31T14:12:29.255Z"
   },
   {
    "duration": 4,
    "start_time": "2023-07-31T14:12:29.270Z"
   },
   {
    "duration": 32,
    "start_time": "2023-07-31T14:12:29.276Z"
   },
   {
    "duration": 16,
    "start_time": "2023-07-31T14:12:29.311Z"
   },
   {
    "duration": 19,
    "start_time": "2023-07-31T14:12:29.775Z"
   },
   {
    "duration": 15,
    "start_time": "2023-07-31T14:14:22.454Z"
   },
   {
    "duration": 118,
    "start_time": "2023-08-01T14:37:44.267Z"
   },
   {
    "duration": 118,
    "start_time": "2023-08-02T08:08:12.655Z"
   },
   {
    "duration": 473,
    "start_time": "2023-08-02T08:17:09.847Z"
   },
   {
    "duration": 451,
    "start_time": "2023-08-02T08:42:27.996Z"
   },
   {
    "duration": 426,
    "start_time": "2023-08-02T09:23:39.683Z"
   },
   {
    "duration": 303,
    "start_time": "2023-08-02T09:23:40.111Z"
   },
   {
    "duration": 26,
    "start_time": "2023-08-02T09:23:40.415Z"
   },
   {
    "duration": 21,
    "start_time": "2023-08-02T09:23:40.443Z"
   },
   {
    "duration": 16,
    "start_time": "2023-08-02T09:23:40.467Z"
   },
   {
    "duration": 36,
    "start_time": "2023-08-02T09:23:40.485Z"
   },
   {
    "duration": 4,
    "start_time": "2023-08-02T09:23:40.523Z"
   },
   {
    "duration": 13,
    "start_time": "2023-08-02T09:23:40.528Z"
   },
   {
    "duration": 15,
    "start_time": "2023-08-02T09:23:40.542Z"
   },
   {
    "duration": 20,
    "start_time": "2023-08-02T09:23:40.558Z"
   },
   {
    "duration": 5,
    "start_time": "2023-08-02T09:23:40.579Z"
   },
   {
    "duration": 34,
    "start_time": "2023-08-02T09:23:40.585Z"
   },
   {
    "duration": 9,
    "start_time": "2023-08-02T09:23:40.620Z"
   },
   {
    "duration": 34,
    "start_time": "2023-08-02T09:23:40.632Z"
   },
   {
    "duration": 21,
    "start_time": "2023-08-02T09:23:40.668Z"
   },
   {
    "duration": 27,
    "start_time": "2023-08-02T09:23:40.691Z"
   },
   {
    "duration": 19,
    "start_time": "2023-08-02T09:23:40.720Z"
   },
   {
    "duration": 4,
    "start_time": "2023-08-02T09:23:40.741Z"
   },
   {
    "duration": 32,
    "start_time": "2023-08-02T09:23:40.746Z"
   },
   {
    "duration": 11,
    "start_time": "2023-08-02T09:23:40.781Z"
   },
   {
    "duration": 5,
    "start_time": "2023-08-02T09:23:40.794Z"
   },
   {
    "duration": 13,
    "start_time": "2023-08-02T09:23:40.801Z"
   },
   {
    "duration": 19,
    "start_time": "2023-08-02T09:23:40.816Z"
   },
   {
    "duration": 9,
    "start_time": "2023-08-02T09:23:43.626Z"
   },
   {
    "duration": 11,
    "start_time": "2023-08-02T09:27:12.596Z"
   },
   {
    "duration": 14,
    "start_time": "2023-08-02T09:27:33.204Z"
   },
   {
    "duration": 12,
    "start_time": "2023-08-02T09:27:39.732Z"
   },
   {
    "duration": 16,
    "start_time": "2023-08-02T09:27:48.386Z"
   },
   {
    "duration": 9,
    "start_time": "2023-08-02T09:32:44.548Z"
   },
   {
    "duration": 80,
    "start_time": "2023-08-02T09:32:44.564Z"
   },
   {
    "duration": 24,
    "start_time": "2023-08-02T09:32:44.646Z"
   },
   {
    "duration": 18,
    "start_time": "2023-08-02T09:32:44.672Z"
   },
   {
    "duration": 9,
    "start_time": "2023-08-02T09:32:44.693Z"
   },
   {
    "duration": 58,
    "start_time": "2023-08-02T09:32:44.704Z"
   },
   {
    "duration": 5,
    "start_time": "2023-08-02T09:32:44.764Z"
   },
   {
    "duration": 15,
    "start_time": "2023-08-02T09:32:44.772Z"
   },
   {
    "duration": 5,
    "start_time": "2023-08-02T09:32:44.790Z"
   },
   {
    "duration": 10,
    "start_time": "2023-08-02T09:32:44.796Z"
   },
   {
    "duration": 4,
    "start_time": "2023-08-02T09:32:44.808Z"
   },
   {
    "duration": 66,
    "start_time": "2023-08-02T09:32:44.814Z"
   },
   {
    "duration": 15,
    "start_time": "2023-08-02T09:32:44.884Z"
   },
   {
    "duration": 16,
    "start_time": "2023-08-02T09:32:44.900Z"
   },
   {
    "duration": 20,
    "start_time": "2023-08-02T09:32:44.919Z"
   },
   {
    "duration": 42,
    "start_time": "2023-08-02T09:32:44.941Z"
   },
   {
    "duration": 20,
    "start_time": "2023-08-02T09:32:44.985Z"
   },
   {
    "duration": 4,
    "start_time": "2023-08-02T09:32:45.007Z"
   },
   {
    "duration": 76,
    "start_time": "2023-08-02T09:32:45.013Z"
   },
   {
    "duration": 15,
    "start_time": "2023-08-02T09:32:45.091Z"
   },
   {
    "duration": 15,
    "start_time": "2023-08-02T09:32:45.108Z"
   },
   {
    "duration": 16,
    "start_time": "2023-08-02T09:32:45.126Z"
   },
   {
    "duration": 20,
    "start_time": "2023-08-02T09:32:45.145Z"
   },
   {
    "duration": 28,
    "start_time": "2023-08-02T09:32:45.167Z"
   },
   {
    "duration": 21,
    "start_time": "2023-08-02T09:32:45.197Z"
   },
   {
    "duration": 19,
    "start_time": "2023-08-02T09:32:55.400Z"
   },
   {
    "duration": 129,
    "start_time": "2023-08-02T09:34:25.175Z"
   },
   {
    "duration": 14,
    "start_time": "2023-08-02T09:35:28.696Z"
   },
   {
    "duration": 15,
    "start_time": "2023-08-02T09:36:21.403Z"
   },
   {
    "duration": 15,
    "start_time": "2023-08-02T09:37:18.007Z"
   },
   {
    "duration": 115,
    "start_time": "2023-08-02T09:38:29.680Z"
   },
   {
    "duration": 130,
    "start_time": "2023-08-02T09:40:15.535Z"
   },
   {
    "duration": 16,
    "start_time": "2023-08-02T09:41:16.271Z"
   },
   {
    "duration": 153,
    "start_time": "2023-08-02T09:46:38.365Z"
   },
   {
    "duration": 90,
    "start_time": "2023-08-02T09:46:51.787Z"
   },
   {
    "duration": 198,
    "start_time": "2023-08-02T09:47:19.934Z"
   },
   {
    "duration": 326,
    "start_time": "2023-08-02T09:47:49.104Z"
   },
   {
    "duration": 3,
    "start_time": "2023-08-02T09:47:51.964Z"
   },
   {
    "duration": 88,
    "start_time": "2023-08-02T09:47:51.969Z"
   },
   {
    "duration": 20,
    "start_time": "2023-08-02T09:47:52.059Z"
   },
   {
    "duration": 16,
    "start_time": "2023-08-02T09:47:52.080Z"
   },
   {
    "duration": 10,
    "start_time": "2023-08-02T09:47:52.098Z"
   },
   {
    "duration": 57,
    "start_time": "2023-08-02T09:47:52.110Z"
   },
   {
    "duration": 4,
    "start_time": "2023-08-02T09:47:52.169Z"
   },
   {
    "duration": 18,
    "start_time": "2023-08-02T09:47:52.174Z"
   },
   {
    "duration": 5,
    "start_time": "2023-08-02T09:47:52.194Z"
   },
   {
    "duration": 11,
    "start_time": "2023-08-02T09:47:52.200Z"
   },
   {
    "duration": 8,
    "start_time": "2023-08-02T09:47:52.214Z"
   },
   {
    "duration": 52,
    "start_time": "2023-08-02T09:47:52.224Z"
   },
   {
    "duration": 10,
    "start_time": "2023-08-02T09:47:52.278Z"
   },
   {
    "duration": 4,
    "start_time": "2023-08-02T09:47:52.289Z"
   },
   {
    "duration": 13,
    "start_time": "2023-08-02T09:47:52.295Z"
   },
   {
    "duration": 26,
    "start_time": "2023-08-02T09:47:52.309Z"
   },
   {
    "duration": 40,
    "start_time": "2023-08-02T09:47:52.337Z"
   },
   {
    "duration": 3,
    "start_time": "2023-08-02T09:47:52.379Z"
   },
   {
    "duration": 29,
    "start_time": "2023-08-02T09:47:52.384Z"
   },
   {
    "duration": 12,
    "start_time": "2023-08-02T09:47:52.415Z"
   },
   {
    "duration": 4,
    "start_time": "2023-08-02T09:47:52.429Z"
   },
   {
    "duration": 13,
    "start_time": "2023-08-02T09:47:52.435Z"
   },
   {
    "duration": 26,
    "start_time": "2023-08-02T09:47:52.449Z"
   },
   {
    "duration": 14,
    "start_time": "2023-08-02T09:47:52.478Z"
   },
   {
    "duration": 346,
    "start_time": "2023-08-02T09:47:52.494Z"
   },
   {
    "duration": 258,
    "start_time": "2023-08-02T09:47:54.508Z"
   },
   {
    "duration": 32,
    "start_time": "2023-08-02T09:48:02.876Z"
   },
   {
    "duration": 32,
    "start_time": "2023-08-02T09:48:08.107Z"
   },
   {
    "duration": 29,
    "start_time": "2023-08-02T09:48:34.763Z"
   },
   {
    "duration": 28,
    "start_time": "2023-08-02T09:48:37.298Z"
   },
   {
    "duration": 42,
    "start_time": "2023-08-02T09:48:43.647Z"
   },
   {
    "duration": 29,
    "start_time": "2023-08-02T09:49:50.346Z"
   },
   {
    "duration": 17,
    "start_time": "2023-08-02T09:50:47.377Z"
   },
   {
    "duration": 25,
    "start_time": "2023-08-02T09:50:59.264Z"
   },
   {
    "duration": 28,
    "start_time": "2023-08-02T09:51:11.142Z"
   },
   {
    "duration": 152,
    "start_time": "2023-08-02T09:52:32.743Z"
   },
   {
    "duration": 25,
    "start_time": "2023-08-02T09:58:02.476Z"
   },
   {
    "duration": 28,
    "start_time": "2023-08-02T09:58:59.263Z"
   },
   {
    "duration": 30,
    "start_time": "2023-08-02T09:59:46.550Z"
   },
   {
    "duration": 353,
    "start_time": "2023-08-02T10:01:04.483Z"
   },
   {
    "duration": 2921,
    "start_time": "2023-08-02T10:02:24.907Z"
   },
   {
    "duration": 0,
    "start_time": "2023-08-02T10:02:31.791Z"
   },
   {
    "duration": 3,
    "start_time": "2023-08-02T10:02:33.898Z"
   },
   {
    "duration": 105,
    "start_time": "2023-08-02T10:02:33.903Z"
   },
   {
    "duration": 18,
    "start_time": "2023-08-02T10:02:34.010Z"
   },
   {
    "duration": 40,
    "start_time": "2023-08-02T10:02:34.031Z"
   },
   {
    "duration": 17,
    "start_time": "2023-08-02T10:02:34.074Z"
   },
   {
    "duration": 45,
    "start_time": "2023-08-02T10:02:34.094Z"
   },
   {
    "duration": 4,
    "start_time": "2023-08-02T10:02:34.141Z"
   },
   {
    "duration": 31,
    "start_time": "2023-08-02T10:02:34.154Z"
   },
   {
    "duration": 24,
    "start_time": "2023-08-02T10:02:34.187Z"
   },
   {
    "duration": 27,
    "start_time": "2023-08-02T10:02:34.213Z"
   },
   {
    "duration": 21,
    "start_time": "2023-08-02T10:02:34.242Z"
   },
   {
    "duration": 52,
    "start_time": "2023-08-02T10:02:34.265Z"
   },
   {
    "duration": 9,
    "start_time": "2023-08-02T10:02:34.319Z"
   },
   {
    "duration": 40,
    "start_time": "2023-08-02T10:02:34.331Z"
   },
   {
    "duration": 56,
    "start_time": "2023-08-02T10:02:34.373Z"
   },
   {
    "duration": 70,
    "start_time": "2023-08-02T10:02:34.431Z"
   },
   {
    "duration": 21,
    "start_time": "2023-08-02T10:02:34.503Z"
   },
   {
    "duration": 6,
    "start_time": "2023-08-02T10:02:34.526Z"
   },
   {
    "duration": 42,
    "start_time": "2023-08-02T10:02:34.533Z"
   },
   {
    "duration": 38,
    "start_time": "2023-08-02T10:02:34.577Z"
   },
   {
    "duration": 16,
    "start_time": "2023-08-02T10:02:34.617Z"
   },
   {
    "duration": 35,
    "start_time": "2023-08-02T10:02:34.635Z"
   },
   {
    "duration": 54,
    "start_time": "2023-08-02T10:02:34.672Z"
   },
   {
    "duration": 22,
    "start_time": "2023-08-02T10:02:34.727Z"
   },
   {
    "duration": 41,
    "start_time": "2023-08-02T10:02:34.751Z"
   },
   {
    "duration": 19,
    "start_time": "2023-08-02T10:02:34.794Z"
   },
   {
    "duration": 24,
    "start_time": "2023-08-02T10:02:34.814Z"
   },
   {
    "duration": 40,
    "start_time": "2023-08-02T10:02:34.840Z"
   },
   {
    "duration": 18,
    "start_time": "2023-08-02T10:02:34.882Z"
   },
   {
    "duration": 17,
    "start_time": "2023-08-02T10:02:34.902Z"
   },
   {
    "duration": 45,
    "start_time": "2023-08-02T10:02:34.921Z"
   },
   {
    "duration": 19,
    "start_time": "2023-08-02T10:02:34.968Z"
   },
   {
    "duration": 15,
    "start_time": "2023-08-02T10:02:34.989Z"
   },
   {
    "duration": 4804,
    "start_time": "2023-08-02T10:03:50.464Z"
   },
   {
    "duration": 30,
    "start_time": "2023-08-02T10:04:11.963Z"
   },
   {
    "duration": 405,
    "start_time": "2023-08-02T10:04:29.138Z"
   },
   {
    "duration": 31,
    "start_time": "2023-08-02T10:04:39.147Z"
   },
   {
    "duration": 18,
    "start_time": "2023-08-02T12:52:34.694Z"
   },
   {
    "duration": 19,
    "start_time": "2023-08-02T12:53:22.974Z"
   },
   {
    "duration": 17,
    "start_time": "2023-08-02T12:55:58.229Z"
   },
   {
    "duration": 181,
    "start_time": "2023-08-03T14:53:18.127Z"
   },
   {
    "duration": 129,
    "start_time": "2023-08-03T15:03:50.512Z"
   },
   {
    "duration": 130,
    "start_time": "2023-08-03T15:12:00.611Z"
   }
  ],
  "colab": {
   "provenance": []
  },
  "kernelspec": {
   "display_name": "Python 3 (ipykernel)",
   "language": "python",
   "name": "python3"
  },
  "language_info": {
   "codemirror_mode": {
    "name": "ipython",
    "version": 3
   },
   "file_extension": ".py",
   "mimetype": "text/x-python",
   "name": "python",
   "nbconvert_exporter": "python",
   "pygments_lexer": "ipython3",
   "version": "3.9.5"
  },
  "toc": {
   "base_numbering": 1,
   "nav_menu": {},
   "number_sections": true,
   "sideBar": true,
   "skip_h1_title": true,
   "title_cell": "Table of Contents",
   "title_sidebar": "Contents",
   "toc_cell": false,
   "toc_position": {},
   "toc_section_display": true,
   "toc_window_display": false
  }
 },
 "nbformat": 4,
 "nbformat_minor": 5
}
