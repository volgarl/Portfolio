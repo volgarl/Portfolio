{
 "cells": [
  {
   "cell_type": "markdown",
   "id": "08e658cc-55a7-432b-9ef2-8489d561b457",
   "metadata": {},
   "source": [
    "# Проект SQL \"Анализ БД сервиса для чтения книг по подписке.\""
   ]
  },
  {
   "cell_type": "markdown",
   "id": "42f8ad45-463e-48fe-81d2-9f96684904c6",
   "metadata": {},
   "source": [
    "## Описание проекта\n",
    "Стартаперы хотят запустить новое приложение для тех, кто любит читать. Необходимо проанализировать БД крупного сервиса для чтения книг по подписке. База данных содержит информацию о книгах, издательствах, авторах, а также пользовательские обзоры книг. На основе этих данных нужно сформулировать ценностное предложение для нового продукта.\n",
    "\n",
    "**Основные задачи**: \n",
    "- Посчитайте, сколько книг вышло после 1 января 2000 года;\n",
    "- Для каждой книги посчитайте количество обзоров и среднюю оценку;\n",
    "- Определите издательство, которое выпустило наибольшее число книг толще 50 страниц — так вы исключите из анализа брошюры; \n",
    "- Определите автора с самой высокой средней оценкой книг  - учитывайте только книги с 50 и более оценками;\n",
    "- Посчитайте среднее количество обзоров от пользователей, которые поставили больше 48 оценок."
   ]
  },
  {
   "cell_type": "markdown",
   "id": "ad213e30-df82-4811-8ec9-6f663db99c4d",
   "metadata": {},
   "source": [
    "## Описание данных \n",
    "\n",
    "**Таблица books** \n",
    "\n",
    "Содержит данные о книгах \n",
    " \n",
    "**Таблица authors**\n",
    "\n",
    "Содержит данные об авторах\n",
    "  \n",
    "**Таблица publishers**\n",
    "\n",
    "Содержит данные об издательствах\n",
    "\n",
    "**Таблица ratings**\n",
    "\n",
    "Содержит данные о пользовательских оценках книг\n",
    " \n",
    "**Таблица reviews**\n",
    "\n",
    "Содержит данные о пользовательских обзорах на книги:\n"
   ]
  },
  {
   "cell_type": "markdown",
   "id": "1e43ec1e-c84a-488f-8a59-0b1211b1e18c",
   "metadata": {},
   "source": [
    "## План работ\n",
    "\n",
    "1. Установить соединение с БД.\n",
    "2. Исследовать таблицы — вывести первые строки, посчитать количество строк в каждой таблице.\n",
    "3. Написать по одному SQL-запросу для решения каждой задачи, вывести результаты.\n",
    "     - Посчитайте, сколько книг вышло после 1 января 2000 года;\n",
    "     - Для каждой книги посчитайте количество обзоров и среднюю оценку;\n",
    "     - Определите издательство, которое выпустило наибольшее число книг толще 50 страниц — так вы исключите из анализа брошюры; \n",
    "     - Определите автора с самой высокой средней оценкой книг  - учитывайте только книги с 50 и более оценками;\n",
    "     - Посчитайте среднее количество обзоров от пользователей, которые поставили больше 48 оценок.\n",
    "4. Сформулировать выводы по каждой из решённых задач."
   ]
  },
  {
   "cell_type": "markdown",
   "id": "cb93f279-c524-4811-9b83-1a06bfa0f3be",
   "metadata": {},
   "source": [
    "## 1. Установка соединения с БД"
   ]
  },
  {
   "cell_type": "code",
   "execution_count": 1,
   "id": "19df2f01-3848-4501-9d06-9f088783ef34",
   "metadata": {},
   "outputs": [],
   "source": [
    "# импортируем библиотеки\n",
    "import pandas as pd\n",
    "import sqlalchemy as sa"
   ]
  },
  {
   "cell_type": "code",
   "execution_count": 2,
   "id": "a9e72813-51ba-49c0-992c-f85367eb0bcf",
   "metadata": {},
   "outputs": [],
   "source": [
    "# устанавливаем параметры\n",
    "db_config = {\n",
    "'user': 'praktikum_student', # имя пользователя\n",
    "'pwd': '****', # пароль\n",
    "'host': '****',\n",
    "'port': **, # порт подключения\n",
    "'db': '*****' # название базы данных\n",
    "}\n",
    "connection_string = 'postgresql://{user}:{pwd}@{host}:{port}/{db}'.format(**db_config)"
   ]
  },
  {
   "cell_type": "code",
   "execution_count": 3,
   "id": "d441272f-76f1-490a-ac5f-849f9d7acc1f",
   "metadata": {},
   "outputs": [],
   "source": [
    "# сохраняем коннектор\n",
    "engine = sa.create_engine(connection_string, connect_args={'sslmode':'require'})"
   ]
  },
  {
   "cell_type": "code",
   "execution_count": 4,
   "id": "1ef3df69-d893-46f2-8431-4dfa907a11c9",
   "metadata": {},
   "outputs": [],
   "source": [
    "#функция для выполнения SQL-запроса\n",
    "def show(sql):\n",
    "    return pd.io.sql.read_sql(sql, con = engine) "
   ]
  },
  {
   "cell_type": "code",
   "execution_count": 5,
   "id": "2c32d68e-26aa-48a0-b43a-5905132b6c23",
   "metadata": {},
   "outputs": [],
   "source": [
    "# добавим настройку, чтобы текст в столбцах отражался полностью\n",
    "pd.options.display.max_colwidth = 1000"
   ]
  },
  {
   "cell_type": "markdown",
   "id": "08b72f98-8805-4fd0-b029-147146801324",
   "metadata": {},
   "source": [
    "## 2. Исследование таблиц — вывести первые строки, посчитать количество строк в каждой таблице."
   ]
  },
  {
   "cell_type": "markdown",
   "id": "c7048b6a-6f91-442b-8cdc-28124032290d",
   "metadata": {},
   "source": [
    "### Таблица books"
   ]
  },
  {
   "cell_type": "code",
   "execution_count": 6,
   "id": "1d42e8fa-22b2-4626-a3a7-51e790926327",
   "metadata": {},
   "outputs": [],
   "source": [
    "query_books = '''SELECT * FROM books LIMIT 5'''\n",
    "     \n",
    "books = show(query_books)"
   ]
  },
  {
   "cell_type": "code",
   "execution_count": 7,
   "id": "c8e7b847-f16f-441e-a518-dbdd7e2c0abb",
   "metadata": {},
   "outputs": [
    {
     "data": {
      "text/html": [
       "<div>\n",
       "<style scoped>\n",
       "    .dataframe tbody tr th:only-of-type {\n",
       "        vertical-align: middle;\n",
       "    }\n",
       "\n",
       "    .dataframe tbody tr th {\n",
       "        vertical-align: top;\n",
       "    }\n",
       "\n",
       "    .dataframe thead th {\n",
       "        text-align: right;\n",
       "    }\n",
       "</style>\n",
       "<table border=\"1\" class=\"dataframe\">\n",
       "  <thead>\n",
       "    <tr style=\"text-align: right;\">\n",
       "      <th></th>\n",
       "      <th>book_id</th>\n",
       "      <th>author_id</th>\n",
       "      <th>title</th>\n",
       "      <th>num_pages</th>\n",
       "      <th>publication_date</th>\n",
       "      <th>publisher_id</th>\n",
       "    </tr>\n",
       "  </thead>\n",
       "  <tbody>\n",
       "    <tr>\n",
       "      <th>0</th>\n",
       "      <td>1</td>\n",
       "      <td>546</td>\n",
       "      <td>'Salem's Lot</td>\n",
       "      <td>594</td>\n",
       "      <td>2005-11-01</td>\n",
       "      <td>93</td>\n",
       "    </tr>\n",
       "    <tr>\n",
       "      <th>1</th>\n",
       "      <td>2</td>\n",
       "      <td>465</td>\n",
       "      <td>1 000 Places to See Before You Die</td>\n",
       "      <td>992</td>\n",
       "      <td>2003-05-22</td>\n",
       "      <td>336</td>\n",
       "    </tr>\n",
       "    <tr>\n",
       "      <th>2</th>\n",
       "      <td>3</td>\n",
       "      <td>407</td>\n",
       "      <td>13 Little Blue Envelopes (Little Blue Envelope  #1)</td>\n",
       "      <td>322</td>\n",
       "      <td>2010-12-21</td>\n",
       "      <td>135</td>\n",
       "    </tr>\n",
       "    <tr>\n",
       "      <th>3</th>\n",
       "      <td>4</td>\n",
       "      <td>82</td>\n",
       "      <td>1491: New Revelations of the Americas Before Columbus</td>\n",
       "      <td>541</td>\n",
       "      <td>2006-10-10</td>\n",
       "      <td>309</td>\n",
       "    </tr>\n",
       "    <tr>\n",
       "      <th>4</th>\n",
       "      <td>5</td>\n",
       "      <td>125</td>\n",
       "      <td>1776</td>\n",
       "      <td>386</td>\n",
       "      <td>2006-07-04</td>\n",
       "      <td>268</td>\n",
       "    </tr>\n",
       "  </tbody>\n",
       "</table>\n",
       "</div>"
      ],
      "text/plain": [
       "   book_id  author_id                                                  title  \\\n",
       "0        1        546                                           'Salem's Lot   \n",
       "1        2        465                     1 000 Places to See Before You Die   \n",
       "2        3        407    13 Little Blue Envelopes (Little Blue Envelope  #1)   \n",
       "3        4         82  1491: New Revelations of the Americas Before Columbus   \n",
       "4        5        125                                                   1776   \n",
       "\n",
       "   num_pages publication_date  publisher_id  \n",
       "0        594       2005-11-01            93  \n",
       "1        992       2003-05-22           336  \n",
       "2        322       2010-12-21           135  \n",
       "3        541       2006-10-10           309  \n",
       "4        386       2006-07-04           268  "
      ]
     },
     "execution_count": 7,
     "metadata": {},
     "output_type": "execute_result"
    }
   ],
   "source": [
    "books"
   ]
  },
  {
   "cell_type": "code",
   "execution_count": 8,
   "id": "3f89e2e2-a16b-4989-855d-e2b338a3b764",
   "metadata": {},
   "outputs": [],
   "source": [
    "query_books = '''SELECT count(*) FROM books'''\n",
    "     \n",
    "books = show(query_books)"
   ]
  },
  {
   "cell_type": "code",
   "execution_count": 9,
   "id": "d4201529-7e3d-472c-b8d3-de444a096fc0",
   "metadata": {},
   "outputs": [
    {
     "data": {
      "text/html": [
       "<div>\n",
       "<style scoped>\n",
       "    .dataframe tbody tr th:only-of-type {\n",
       "        vertical-align: middle;\n",
       "    }\n",
       "\n",
       "    .dataframe tbody tr th {\n",
       "        vertical-align: top;\n",
       "    }\n",
       "\n",
       "    .dataframe thead th {\n",
       "        text-align: right;\n",
       "    }\n",
       "</style>\n",
       "<table border=\"1\" class=\"dataframe\">\n",
       "  <thead>\n",
       "    <tr style=\"text-align: right;\">\n",
       "      <th></th>\n",
       "      <th>count</th>\n",
       "    </tr>\n",
       "  </thead>\n",
       "  <tbody>\n",
       "    <tr>\n",
       "      <th>0</th>\n",
       "      <td>1000</td>\n",
       "    </tr>\n",
       "  </tbody>\n",
       "</table>\n",
       "</div>"
      ],
      "text/plain": [
       "   count\n",
       "0   1000"
      ]
     },
     "execution_count": 9,
     "metadata": {},
     "output_type": "execute_result"
    }
   ],
   "source": [
    "books"
   ]
  },
  {
   "cell_type": "markdown",
   "id": "39348b3c-9851-49ba-99bb-fb85740e21de",
   "metadata": {},
   "source": [
    "### Таблица authors"
   ]
  },
  {
   "cell_type": "code",
   "execution_count": 10,
   "id": "ce3cd878-a04a-4522-bca6-aad403e8f81a",
   "metadata": {},
   "outputs": [],
   "source": [
    "query_authors = '''SELECT * FROM authors LIMIT 5'''\n",
    "     \n",
    "authors = show(query_authors)"
   ]
  },
  {
   "cell_type": "code",
   "execution_count": 11,
   "id": "3c39ae8b-f828-4951-bce7-ff20e0a4b644",
   "metadata": {},
   "outputs": [
    {
     "data": {
      "text/html": [
       "<div>\n",
       "<style scoped>\n",
       "    .dataframe tbody tr th:only-of-type {\n",
       "        vertical-align: middle;\n",
       "    }\n",
       "\n",
       "    .dataframe tbody tr th {\n",
       "        vertical-align: top;\n",
       "    }\n",
       "\n",
       "    .dataframe thead th {\n",
       "        text-align: right;\n",
       "    }\n",
       "</style>\n",
       "<table border=\"1\" class=\"dataframe\">\n",
       "  <thead>\n",
       "    <tr style=\"text-align: right;\">\n",
       "      <th></th>\n",
       "      <th>author_id</th>\n",
       "      <th>author</th>\n",
       "    </tr>\n",
       "  </thead>\n",
       "  <tbody>\n",
       "    <tr>\n",
       "      <th>0</th>\n",
       "      <td>1</td>\n",
       "      <td>A.S. Byatt</td>\n",
       "    </tr>\n",
       "    <tr>\n",
       "      <th>1</th>\n",
       "      <td>2</td>\n",
       "      <td>Aesop/Laura Harris/Laura Gibbs</td>\n",
       "    </tr>\n",
       "    <tr>\n",
       "      <th>2</th>\n",
       "      <td>3</td>\n",
       "      <td>Agatha Christie</td>\n",
       "    </tr>\n",
       "    <tr>\n",
       "      <th>3</th>\n",
       "      <td>4</td>\n",
       "      <td>Alan Brennert</td>\n",
       "    </tr>\n",
       "    <tr>\n",
       "      <th>4</th>\n",
       "      <td>5</td>\n",
       "      <td>Alan Moore/David   Lloyd</td>\n",
       "    </tr>\n",
       "  </tbody>\n",
       "</table>\n",
       "</div>"
      ],
      "text/plain": [
       "   author_id                          author\n",
       "0          1                      A.S. Byatt\n",
       "1          2  Aesop/Laura Harris/Laura Gibbs\n",
       "2          3                 Agatha Christie\n",
       "3          4                   Alan Brennert\n",
       "4          5        Alan Moore/David   Lloyd"
      ]
     },
     "execution_count": 11,
     "metadata": {},
     "output_type": "execute_result"
    }
   ],
   "source": [
    "authors"
   ]
  },
  {
   "cell_type": "code",
   "execution_count": 12,
   "id": "8d87522d-d5a8-4e6a-8070-f56e454a35c8",
   "metadata": {},
   "outputs": [],
   "source": [
    "query_authors = '''SELECT count(*) FROM authors LIMIT 5'''\n",
    "     \n",
    "authors = show(query_authors)"
   ]
  },
  {
   "cell_type": "code",
   "execution_count": 13,
   "id": "0d26cca7-aa23-4aeb-a6e6-82f46f5e10cb",
   "metadata": {},
   "outputs": [
    {
     "data": {
      "text/html": [
       "<div>\n",
       "<style scoped>\n",
       "    .dataframe tbody tr th:only-of-type {\n",
       "        vertical-align: middle;\n",
       "    }\n",
       "\n",
       "    .dataframe tbody tr th {\n",
       "        vertical-align: top;\n",
       "    }\n",
       "\n",
       "    .dataframe thead th {\n",
       "        text-align: right;\n",
       "    }\n",
       "</style>\n",
       "<table border=\"1\" class=\"dataframe\">\n",
       "  <thead>\n",
       "    <tr style=\"text-align: right;\">\n",
       "      <th></th>\n",
       "      <th>count</th>\n",
       "    </tr>\n",
       "  </thead>\n",
       "  <tbody>\n",
       "    <tr>\n",
       "      <th>0</th>\n",
       "      <td>636</td>\n",
       "    </tr>\n",
       "  </tbody>\n",
       "</table>\n",
       "</div>"
      ],
      "text/plain": [
       "   count\n",
       "0    636"
      ]
     },
     "execution_count": 13,
     "metadata": {},
     "output_type": "execute_result"
    }
   ],
   "source": [
    "authors"
   ]
  },
  {
   "cell_type": "markdown",
   "id": "c46d6d33-bed5-429a-ae3a-fcbe29adaae4",
   "metadata": {},
   "source": [
    "### Таблица publishers"
   ]
  },
  {
   "cell_type": "code",
   "execution_count": 14,
   "id": "560f1434-c3fd-482f-89b0-68fc4fe181ae",
   "metadata": {},
   "outputs": [],
   "source": [
    "query_publishers = '''SELECT * FROM publishers LIMIT 5'''\n",
    "     \n",
    "publishers = show(query_publishers)"
   ]
  },
  {
   "cell_type": "code",
   "execution_count": 15,
   "id": "32316746-c05b-4a23-b35b-f8da07e70314",
   "metadata": {},
   "outputs": [
    {
     "data": {
      "text/html": [
       "<div>\n",
       "<style scoped>\n",
       "    .dataframe tbody tr th:only-of-type {\n",
       "        vertical-align: middle;\n",
       "    }\n",
       "\n",
       "    .dataframe tbody tr th {\n",
       "        vertical-align: top;\n",
       "    }\n",
       "\n",
       "    .dataframe thead th {\n",
       "        text-align: right;\n",
       "    }\n",
       "</style>\n",
       "<table border=\"1\" class=\"dataframe\">\n",
       "  <thead>\n",
       "    <tr style=\"text-align: right;\">\n",
       "      <th></th>\n",
       "      <th>publisher_id</th>\n",
       "      <th>publisher</th>\n",
       "    </tr>\n",
       "  </thead>\n",
       "  <tbody>\n",
       "    <tr>\n",
       "      <th>0</th>\n",
       "      <td>1</td>\n",
       "      <td>Ace</td>\n",
       "    </tr>\n",
       "    <tr>\n",
       "      <th>1</th>\n",
       "      <td>2</td>\n",
       "      <td>Ace Book</td>\n",
       "    </tr>\n",
       "    <tr>\n",
       "      <th>2</th>\n",
       "      <td>3</td>\n",
       "      <td>Ace Books</td>\n",
       "    </tr>\n",
       "    <tr>\n",
       "      <th>3</th>\n",
       "      <td>4</td>\n",
       "      <td>Ace Hardcover</td>\n",
       "    </tr>\n",
       "    <tr>\n",
       "      <th>4</th>\n",
       "      <td>5</td>\n",
       "      <td>Addison Wesley Publishing Company</td>\n",
       "    </tr>\n",
       "  </tbody>\n",
       "</table>\n",
       "</div>"
      ],
      "text/plain": [
       "   publisher_id                          publisher\n",
       "0             1                                Ace\n",
       "1             2                           Ace Book\n",
       "2             3                          Ace Books\n",
       "3             4                      Ace Hardcover\n",
       "4             5  Addison Wesley Publishing Company"
      ]
     },
     "execution_count": 15,
     "metadata": {},
     "output_type": "execute_result"
    }
   ],
   "source": [
    "publishers"
   ]
  },
  {
   "cell_type": "code",
   "execution_count": 16,
   "id": "2ba20a87-6a19-41a6-a581-141b519e9ffb",
   "metadata": {},
   "outputs": [],
   "source": [
    "query_publishers = '''SELECT count(*) FROM publishers LIMIT 5'''\n",
    "     \n",
    "publishers = show(query_publishers)"
   ]
  },
  {
   "cell_type": "code",
   "execution_count": 17,
   "id": "676779a1-d891-40e0-a16c-abd68f14d8ed",
   "metadata": {},
   "outputs": [
    {
     "data": {
      "text/html": [
       "<div>\n",
       "<style scoped>\n",
       "    .dataframe tbody tr th:only-of-type {\n",
       "        vertical-align: middle;\n",
       "    }\n",
       "\n",
       "    .dataframe tbody tr th {\n",
       "        vertical-align: top;\n",
       "    }\n",
       "\n",
       "    .dataframe thead th {\n",
       "        text-align: right;\n",
       "    }\n",
       "</style>\n",
       "<table border=\"1\" class=\"dataframe\">\n",
       "  <thead>\n",
       "    <tr style=\"text-align: right;\">\n",
       "      <th></th>\n",
       "      <th>count</th>\n",
       "    </tr>\n",
       "  </thead>\n",
       "  <tbody>\n",
       "    <tr>\n",
       "      <th>0</th>\n",
       "      <td>340</td>\n",
       "    </tr>\n",
       "  </tbody>\n",
       "</table>\n",
       "</div>"
      ],
      "text/plain": [
       "   count\n",
       "0    340"
      ]
     },
     "execution_count": 17,
     "metadata": {},
     "output_type": "execute_result"
    }
   ],
   "source": [
    "publishers"
   ]
  },
  {
   "cell_type": "markdown",
   "id": "2d1b2a3d-d2d9-4499-8fa0-bfe9e46f3092",
   "metadata": {},
   "source": [
    "### Таблица ratings"
   ]
  },
  {
   "cell_type": "code",
   "execution_count": 18,
   "id": "7f0673b6-39dc-449f-b58d-59fa6f579a7e",
   "metadata": {},
   "outputs": [],
   "source": [
    "query_ratings = '''SELECT * FROM ratings LIMIT 5'''\n",
    "     \n",
    "ratings = show(query_ratings)"
   ]
  },
  {
   "cell_type": "code",
   "execution_count": 19,
   "id": "b3b486d1-4c2d-47b9-9a86-89f5cd8e5673",
   "metadata": {},
   "outputs": [
    {
     "data": {
      "text/html": [
       "<div>\n",
       "<style scoped>\n",
       "    .dataframe tbody tr th:only-of-type {\n",
       "        vertical-align: middle;\n",
       "    }\n",
       "\n",
       "    .dataframe tbody tr th {\n",
       "        vertical-align: top;\n",
       "    }\n",
       "\n",
       "    .dataframe thead th {\n",
       "        text-align: right;\n",
       "    }\n",
       "</style>\n",
       "<table border=\"1\" class=\"dataframe\">\n",
       "  <thead>\n",
       "    <tr style=\"text-align: right;\">\n",
       "      <th></th>\n",
       "      <th>rating_id</th>\n",
       "      <th>book_id</th>\n",
       "      <th>username</th>\n",
       "      <th>rating</th>\n",
       "    </tr>\n",
       "  </thead>\n",
       "  <tbody>\n",
       "    <tr>\n",
       "      <th>0</th>\n",
       "      <td>1</td>\n",
       "      <td>1</td>\n",
       "      <td>ryanfranco</td>\n",
       "      <td>4</td>\n",
       "    </tr>\n",
       "    <tr>\n",
       "      <th>1</th>\n",
       "      <td>2</td>\n",
       "      <td>1</td>\n",
       "      <td>grantpatricia</td>\n",
       "      <td>2</td>\n",
       "    </tr>\n",
       "    <tr>\n",
       "      <th>2</th>\n",
       "      <td>3</td>\n",
       "      <td>1</td>\n",
       "      <td>brandtandrea</td>\n",
       "      <td>5</td>\n",
       "    </tr>\n",
       "    <tr>\n",
       "      <th>3</th>\n",
       "      <td>4</td>\n",
       "      <td>2</td>\n",
       "      <td>lorichen</td>\n",
       "      <td>3</td>\n",
       "    </tr>\n",
       "    <tr>\n",
       "      <th>4</th>\n",
       "      <td>5</td>\n",
       "      <td>2</td>\n",
       "      <td>mariokeller</td>\n",
       "      <td>2</td>\n",
       "    </tr>\n",
       "  </tbody>\n",
       "</table>\n",
       "</div>"
      ],
      "text/plain": [
       "   rating_id  book_id       username  rating\n",
       "0          1        1     ryanfranco       4\n",
       "1          2        1  grantpatricia       2\n",
       "2          3        1   brandtandrea       5\n",
       "3          4        2       lorichen       3\n",
       "4          5        2    mariokeller       2"
      ]
     },
     "execution_count": 19,
     "metadata": {},
     "output_type": "execute_result"
    }
   ],
   "source": [
    "ratings"
   ]
  },
  {
   "cell_type": "code",
   "execution_count": 20,
   "id": "b99c177e-7922-4f48-89d9-3fcfd3c0cab7",
   "metadata": {},
   "outputs": [],
   "source": [
    "query_ratings = '''SELECT count(*) FROM ratings LIMIT 5'''\n",
    "     \n",
    "ratings = show(query_ratings)"
   ]
  },
  {
   "cell_type": "code",
   "execution_count": 21,
   "id": "ab3abf47-4aa9-4778-9ec2-d1b2de3344a4",
   "metadata": {},
   "outputs": [
    {
     "data": {
      "text/html": [
       "<div>\n",
       "<style scoped>\n",
       "    .dataframe tbody tr th:only-of-type {\n",
       "        vertical-align: middle;\n",
       "    }\n",
       "\n",
       "    .dataframe tbody tr th {\n",
       "        vertical-align: top;\n",
       "    }\n",
       "\n",
       "    .dataframe thead th {\n",
       "        text-align: right;\n",
       "    }\n",
       "</style>\n",
       "<table border=\"1\" class=\"dataframe\">\n",
       "  <thead>\n",
       "    <tr style=\"text-align: right;\">\n",
       "      <th></th>\n",
       "      <th>count</th>\n",
       "    </tr>\n",
       "  </thead>\n",
       "  <tbody>\n",
       "    <tr>\n",
       "      <th>0</th>\n",
       "      <td>6456</td>\n",
       "    </tr>\n",
       "  </tbody>\n",
       "</table>\n",
       "</div>"
      ],
      "text/plain": [
       "   count\n",
       "0   6456"
      ]
     },
     "execution_count": 21,
     "metadata": {},
     "output_type": "execute_result"
    }
   ],
   "source": [
    "ratings"
   ]
  },
  {
   "cell_type": "markdown",
   "id": "a0054c8d-5a0d-41a1-b2bb-09d000163ca3",
   "metadata": {},
   "source": [
    "### Таблица  reviews"
   ]
  },
  {
   "cell_type": "code",
   "execution_count": 22,
   "id": "fa9be43f-f6e5-411d-b9b9-ee1e19c8575f",
   "metadata": {},
   "outputs": [],
   "source": [
    "query_reviews = '''SELECT * FROM reviews LIMIT 5'''\n",
    "     \n",
    "reviews = show(query_reviews)"
   ]
  },
  {
   "cell_type": "code",
   "execution_count": 23,
   "id": "fb5cedfd-e1e6-4552-928e-93813c857ed9",
   "metadata": {},
   "outputs": [
    {
     "data": {
      "text/html": [
       "<div>\n",
       "<style scoped>\n",
       "    .dataframe tbody tr th:only-of-type {\n",
       "        vertical-align: middle;\n",
       "    }\n",
       "\n",
       "    .dataframe tbody tr th {\n",
       "        vertical-align: top;\n",
       "    }\n",
       "\n",
       "    .dataframe thead th {\n",
       "        text-align: right;\n",
       "    }\n",
       "</style>\n",
       "<table border=\"1\" class=\"dataframe\">\n",
       "  <thead>\n",
       "    <tr style=\"text-align: right;\">\n",
       "      <th></th>\n",
       "      <th>review_id</th>\n",
       "      <th>book_id</th>\n",
       "      <th>username</th>\n",
       "      <th>text</th>\n",
       "    </tr>\n",
       "  </thead>\n",
       "  <tbody>\n",
       "    <tr>\n",
       "      <th>0</th>\n",
       "      <td>1</td>\n",
       "      <td>1</td>\n",
       "      <td>brandtandrea</td>\n",
       "      <td>Mention society tell send professor analysis. Over provide race technology continue these.</td>\n",
       "    </tr>\n",
       "    <tr>\n",
       "      <th>1</th>\n",
       "      <td>2</td>\n",
       "      <td>1</td>\n",
       "      <td>ryanfranco</td>\n",
       "      <td>Foot glass pretty audience hit themselves. Among admit investment argue security.</td>\n",
       "    </tr>\n",
       "    <tr>\n",
       "      <th>2</th>\n",
       "      <td>3</td>\n",
       "      <td>2</td>\n",
       "      <td>lorichen</td>\n",
       "      <td>Listen treat keep worry. Miss husband tax but person sport treatment industry. Kitchen decision deep the. Social party body the.</td>\n",
       "    </tr>\n",
       "    <tr>\n",
       "      <th>3</th>\n",
       "      <td>4</td>\n",
       "      <td>3</td>\n",
       "      <td>johnsonamanda</td>\n",
       "      <td>Finally month interesting blue could nature cultural bit. Prepare beat finish grow that smile teach. Dream me play near.</td>\n",
       "    </tr>\n",
       "    <tr>\n",
       "      <th>4</th>\n",
       "      <td>5</td>\n",
       "      <td>3</td>\n",
       "      <td>scotttamara</td>\n",
       "      <td>Nation purpose heavy give wait song will. List dinner another whole positive radio fast. Music staff many green.</td>\n",
       "    </tr>\n",
       "  </tbody>\n",
       "</table>\n",
       "</div>"
      ],
      "text/plain": [
       "   review_id  book_id       username  \\\n",
       "0          1        1   brandtandrea   \n",
       "1          2        1     ryanfranco   \n",
       "2          3        2       lorichen   \n",
       "3          4        3  johnsonamanda   \n",
       "4          5        3    scotttamara   \n",
       "\n",
       "                                                                                                                               text  \n",
       "0                                        Mention society tell send professor analysis. Over provide race technology continue these.  \n",
       "1                                                 Foot glass pretty audience hit themselves. Among admit investment argue security.  \n",
       "2  Listen treat keep worry. Miss husband tax but person sport treatment industry. Kitchen decision deep the. Social party body the.  \n",
       "3          Finally month interesting blue could nature cultural bit. Prepare beat finish grow that smile teach. Dream me play near.  \n",
       "4                  Nation purpose heavy give wait song will. List dinner another whole positive radio fast. Music staff many green.  "
      ]
     },
     "execution_count": 23,
     "metadata": {},
     "output_type": "execute_result"
    }
   ],
   "source": [
    "reviews"
   ]
  },
  {
   "cell_type": "code",
   "execution_count": 24,
   "id": "9667d744-f1c1-404d-9f11-52b244e6f62e",
   "metadata": {},
   "outputs": [],
   "source": [
    "query_reviews = '''SELECT count(*) FROM reviews LIMIT 5'''\n",
    "     \n",
    "reviews = show(query_reviews)"
   ]
  },
  {
   "cell_type": "code",
   "execution_count": 25,
   "id": "66bedc69-235f-4dda-b36c-c03ef8155ef9",
   "metadata": {},
   "outputs": [
    {
     "data": {
      "text/html": [
       "<div>\n",
       "<style scoped>\n",
       "    .dataframe tbody tr th:only-of-type {\n",
       "        vertical-align: middle;\n",
       "    }\n",
       "\n",
       "    .dataframe tbody tr th {\n",
       "        vertical-align: top;\n",
       "    }\n",
       "\n",
       "    .dataframe thead th {\n",
       "        text-align: right;\n",
       "    }\n",
       "</style>\n",
       "<table border=\"1\" class=\"dataframe\">\n",
       "  <thead>\n",
       "    <tr style=\"text-align: right;\">\n",
       "      <th></th>\n",
       "      <th>count</th>\n",
       "    </tr>\n",
       "  </thead>\n",
       "  <tbody>\n",
       "    <tr>\n",
       "      <th>0</th>\n",
       "      <td>2793</td>\n",
       "    </tr>\n",
       "  </tbody>\n",
       "</table>\n",
       "</div>"
      ],
      "text/plain": [
       "   count\n",
       "0   2793"
      ]
     },
     "execution_count": 25,
     "metadata": {},
     "output_type": "execute_result"
    }
   ],
   "source": [
    "reviews"
   ]
  },
  {
   "cell_type": "markdown",
   "id": "56c034bc-a9ef-448e-ac12-831507a313c6",
   "metadata": {},
   "source": [
    "## 3. Решение задач"
   ]
  },
  {
   "cell_type": "markdown",
   "id": "240d607a-1373-4c48-a599-ab19bc977eae",
   "metadata": {},
   "source": [
    "### 3.1 Посчитайте, сколько книг вышло после 1 января 2000 года;"
   ]
  },
  {
   "cell_type": "code",
   "execution_count": 26,
   "id": "0b26f910-4863-4df0-b9bb-cfc24ca537aa",
   "metadata": {},
   "outputs": [],
   "source": [
    "count_book = '''\n",
    "                 SELECT COUNT(book_id) AS \"Кол-во книг\"\n",
    "                 FROM books \n",
    "                 WHERE publication_date > '2000-01-01'\n",
    "             '''\n",
    "     \n",
    "count_book = show(count_book)"
   ]
  },
  {
   "cell_type": "code",
   "execution_count": 27,
   "id": "fb94fb08-88a3-4c1d-8f98-efb7caca5bb8",
   "metadata": {},
   "outputs": [
    {
     "data": {
      "text/html": [
       "<div>\n",
       "<style scoped>\n",
       "    .dataframe tbody tr th:only-of-type {\n",
       "        vertical-align: middle;\n",
       "    }\n",
       "\n",
       "    .dataframe tbody tr th {\n",
       "        vertical-align: top;\n",
       "    }\n",
       "\n",
       "    .dataframe thead th {\n",
       "        text-align: right;\n",
       "    }\n",
       "</style>\n",
       "<table border=\"1\" class=\"dataframe\">\n",
       "  <thead>\n",
       "    <tr style=\"text-align: right;\">\n",
       "      <th></th>\n",
       "      <th>Кол-во книг</th>\n",
       "    </tr>\n",
       "  </thead>\n",
       "  <tbody>\n",
       "    <tr>\n",
       "      <th>0</th>\n",
       "      <td>819</td>\n",
       "    </tr>\n",
       "  </tbody>\n",
       "</table>\n",
       "</div>"
      ],
      "text/plain": [
       "   Кол-во книг\n",
       "0          819"
      ]
     },
     "execution_count": 27,
     "metadata": {},
     "output_type": "execute_result"
    }
   ],
   "source": [
    "count_book"
   ]
  },
  {
   "cell_type": "markdown",
   "id": "7fc7d34f-4374-41bd-a2ce-10642d4615d0",
   "metadata": {},
   "source": [
    "После 1 января 2000 года вышло 819 книг."
   ]
  },
  {
   "cell_type": "markdown",
   "id": "ae10d7b0-bc2a-438c-a6f4-d5479edd0a09",
   "metadata": {},
   "source": [
    "### 3.2 Для каждой книги посчитайте количество обзоров и среднюю оценку;"
   ]
  },
  {
   "cell_type": "code",
   "execution_count": 28,
   "id": "3249179d-7993-4fbb-a16f-a3609d5bb827",
   "metadata": {},
   "outputs": [],
   "source": [
    "count_rat_rev = '''\n",
    "                 SELECT b.title AS \"Книга\",\n",
    "                        COUNT(DISTINCT rev.review_id) AS cnt_review,\n",
    "                        ROUND(AVG(r.rating),2) AS avg_rating\n",
    "                 FROM books AS b\n",
    "                 LEFT JOIN  ratings AS r ON b.book_id=r.book_id\n",
    "                 LEFT JOIN reviews AS rev ON b.book_id=rev.book_id\n",
    "                 GROUP BY b.book_id, b.title\n",
    "                 ORDER BY cnt_review DESC, avg_rating DESC\n",
    "                '''\n",
    "     \n",
    "count_rat_rev = show(count_rat_rev)"
   ]
  },
  {
   "cell_type": "code",
   "execution_count": 29,
   "id": "10ff2967-0895-4061-8cbe-6ce8909126f5",
   "metadata": {},
   "outputs": [],
   "source": [
    "#pd.set_option('display.max_rows', None)"
   ]
  },
  {
   "cell_type": "code",
   "execution_count": 37,
   "id": "028e8ac0-ff9d-41dd-a988-8f3a112c3648",
   "metadata": {},
   "outputs": [
    {
     "data": {
      "text/html": [
       "<div>\n",
       "<style scoped>\n",
       "    .dataframe tbody tr th:only-of-type {\n",
       "        vertical-align: middle;\n",
       "    }\n",
       "\n",
       "    .dataframe tbody tr th {\n",
       "        vertical-align: top;\n",
       "    }\n",
       "\n",
       "    .dataframe thead th {\n",
       "        text-align: right;\n",
       "    }\n",
       "</style>\n",
       "<table border=\"1\" class=\"dataframe\">\n",
       "  <thead>\n",
       "    <tr style=\"text-align: right;\">\n",
       "      <th></th>\n",
       "      <th>Книга</th>\n",
       "      <th>cnt_review</th>\n",
       "      <th>avg_rating</th>\n",
       "    </tr>\n",
       "  </thead>\n",
       "  <tbody>\n",
       "    <tr>\n",
       "      <th>0</th>\n",
       "      <td>Twilight (Twilight  #1)</td>\n",
       "      <td>7</td>\n",
       "      <td>3.66</td>\n",
       "    </tr>\n",
       "    <tr>\n",
       "      <th>1</th>\n",
       "      <td>Harry Potter and the Prisoner of Azkaban (Harry Potter  #3)</td>\n",
       "      <td>6</td>\n",
       "      <td>4.41</td>\n",
       "    </tr>\n",
       "    <tr>\n",
       "      <th>2</th>\n",
       "      <td>Harry Potter and the Chamber of Secrets (Harry Potter  #2)</td>\n",
       "      <td>6</td>\n",
       "      <td>4.29</td>\n",
       "    </tr>\n",
       "    <tr>\n",
       "      <th>3</th>\n",
       "      <td>The Book Thief</td>\n",
       "      <td>6</td>\n",
       "      <td>4.26</td>\n",
       "    </tr>\n",
       "    <tr>\n",
       "      <th>4</th>\n",
       "      <td>The Glass Castle</td>\n",
       "      <td>6</td>\n",
       "      <td>4.21</td>\n",
       "    </tr>\n",
       "    <tr>\n",
       "      <th>...</th>\n",
       "      <td>...</td>\n",
       "      <td>...</td>\n",
       "      <td>...</td>\n",
       "    </tr>\n",
       "    <tr>\n",
       "      <th>995</th>\n",
       "      <td>Disney's Beauty and the Beast (A Little Golden Book)</td>\n",
       "      <td>0</td>\n",
       "      <td>4.00</td>\n",
       "    </tr>\n",
       "    <tr>\n",
       "      <th>996</th>\n",
       "      <td>Leonardo's Notebooks</td>\n",
       "      <td>0</td>\n",
       "      <td>4.00</td>\n",
       "    </tr>\n",
       "    <tr>\n",
       "      <th>997</th>\n",
       "      <td>Essential Tales and Poems</td>\n",
       "      <td>0</td>\n",
       "      <td>4.00</td>\n",
       "    </tr>\n",
       "    <tr>\n",
       "      <th>998</th>\n",
       "      <td>Anne Rice's The Vampire Lestat: A Graphic Novel</td>\n",
       "      <td>0</td>\n",
       "      <td>3.67</td>\n",
       "    </tr>\n",
       "    <tr>\n",
       "      <th>999</th>\n",
       "      <td>The Natural Way to Draw</td>\n",
       "      <td>0</td>\n",
       "      <td>3.00</td>\n",
       "    </tr>\n",
       "  </tbody>\n",
       "</table>\n",
       "<p>1000 rows × 3 columns</p>\n",
       "</div>"
      ],
      "text/plain": [
       "                                                           Книга  cnt_review  \\\n",
       "0                                        Twilight (Twilight  #1)           7   \n",
       "1    Harry Potter and the Prisoner of Azkaban (Harry Potter  #3)           6   \n",
       "2     Harry Potter and the Chamber of Secrets (Harry Potter  #2)           6   \n",
       "3                                                 The Book Thief           6   \n",
       "4                                               The Glass Castle           6   \n",
       "..                                                           ...         ...   \n",
       "995         Disney's Beauty and the Beast (A Little Golden Book)           0   \n",
       "996                                         Leonardo's Notebooks           0   \n",
       "997                                    Essential Tales and Poems           0   \n",
       "998              Anne Rice's The Vampire Lestat: A Graphic Novel           0   \n",
       "999                                      The Natural Way to Draw           0   \n",
       "\n",
       "     avg_rating  \n",
       "0          3.66  \n",
       "1          4.41  \n",
       "2          4.29  \n",
       "3          4.26  \n",
       "4          4.21  \n",
       "..          ...  \n",
       "995        4.00  \n",
       "996        4.00  \n",
       "997        4.00  \n",
       "998        3.67  \n",
       "999        3.00  \n",
       "\n",
       "[1000 rows x 3 columns]"
      ]
     },
     "execution_count": 37,
     "metadata": {},
     "output_type": "execute_result"
    }
   ],
   "source": [
    "count_rat_rev"
   ]
  },
  {
   "cell_type": "markdown",
   "id": "309a00b4-493d-423e-9d3f-64d0d0e54531",
   "metadata": {},
   "source": [
    "Больше всего обзоров у книги \"Twilight\" - 7,  а ее рейтинг 3,66. Также Среди лидеров \"Harry Potter and the Prisoner of Azkaban\" и \"Harry Potter and the Chamber of Secrets\" с кол-вом обзоров - 6 и со средними оценками   4.41 и 4.29 соответственно. \"The Book Thief\"- 6 и рейтинг 4.26, \"The Glass Castle\" - 6 и рейтинг 4.21."
   ]
  },
  {
   "cell_type": "markdown",
   "id": "c0bbfa96-ff8c-4f03-bc22-f74567ec3436",
   "metadata": {},
   "source": [
    "### 3.3 Определите издательство, которое выпустило наибольшее число книг толще 50 страниц — так вы исключите из анализа брошюры;"
   ]
  },
  {
   "cell_type": "code",
   "execution_count": 31,
   "id": "dd04f224-0c54-491c-9aca-0a06d733312d",
   "metadata": {},
   "outputs": [],
   "source": [
    "book_50 = '''\n",
    "            SELECT p.publisher AS \"Издательство\",\n",
    "                   COUNT(b.book_id) AS \"Количество книг\"\n",
    "             FROM publishers AS p\n",
    "             LEFT JOIN books AS b ON p.publisher_id = b.publisher_id\n",
    "             WHERE b.num_pages > 50\n",
    "             GROUP BY p.publisher_id\n",
    "             ORDER BY COUNT(b.book_id) DESC\n",
    "             LIMIT 1\n",
    "       \n",
    "           '''     \n",
    "     \n",
    "book_50 = show(book_50)"
   ]
  },
  {
   "cell_type": "code",
   "execution_count": 32,
   "id": "e529e251-c440-45bd-90b0-dcf7df77d01e",
   "metadata": {},
   "outputs": [
    {
     "data": {
      "text/html": [
       "<div>\n",
       "<style scoped>\n",
       "    .dataframe tbody tr th:only-of-type {\n",
       "        vertical-align: middle;\n",
       "    }\n",
       "\n",
       "    .dataframe tbody tr th {\n",
       "        vertical-align: top;\n",
       "    }\n",
       "\n",
       "    .dataframe thead th {\n",
       "        text-align: right;\n",
       "    }\n",
       "</style>\n",
       "<table border=\"1\" class=\"dataframe\">\n",
       "  <thead>\n",
       "    <tr style=\"text-align: right;\">\n",
       "      <th></th>\n",
       "      <th>Издательство</th>\n",
       "      <th>Количество книг</th>\n",
       "    </tr>\n",
       "  </thead>\n",
       "  <tbody>\n",
       "    <tr>\n",
       "      <th>0</th>\n",
       "      <td>Penguin Books</td>\n",
       "      <td>42</td>\n",
       "    </tr>\n",
       "  </tbody>\n",
       "</table>\n",
       "</div>"
      ],
      "text/plain": [
       "    Издательство  Количество книг\n",
       "0  Penguin Books               42"
      ]
     },
     "execution_count": 32,
     "metadata": {},
     "output_type": "execute_result"
    }
   ],
   "source": [
    "book_50"
   ]
  },
  {
   "cell_type": "markdown",
   "id": "6cce1fe3-0bd0-4684-b282-d6a25782eb9d",
   "metadata": {},
   "source": [
    "Больше всего книг выпустило издательство Penguin Books 42 книги."
   ]
  },
  {
   "cell_type": "markdown",
   "id": "0725eec5-504c-44d0-91ab-d4e27cf1447e",
   "metadata": {},
   "source": [
    "### 3.4 Определите автора с самой высокой средней оценкой книг - учитывайте только книги с 50 и более оценками;"
   ]
  },
  {
   "cell_type": "code",
   "execution_count": 38,
   "id": "77135203-3b8a-45e1-a74f-204b94b1c12a",
   "metadata": {},
   "outputs": [],
   "source": [
    "book_high_rating = '''\n",
    "    WITH\n",
    "    t1 AS   (SELECT b.book_id,\n",
    "                   b.author_id AS author_id,\n",
    "                   b.title,\n",
    "                   AVG(r.rating) AS avg_rating\n",
    "             FROM books AS b\n",
    "             LEFT JOIN ratings AS r ON b.book_id=r.book_id\n",
    "             GROUP BY b.book_id\n",
    "             HAVING COUNT(r.rating)>=50)\n",
    "             \n",
    "   SELECT a.author AS \"Автор\",\n",
    "          AVG(t1.avg_rating) AS \"Средний рейтинг книг\"\n",
    "   FROM authors AS a\n",
    "   JOIN t1 ON a.author_id = t1.author_id\n",
    "   GROUP BY  a.author_id\n",
    "   ORDER BY AVG(t1.avg_rating) DESC\n",
    "   \n",
    "       \n",
    "           '''     \n",
    "     \n",
    "book_high_rating = show(book_high_rating)"
   ]
  },
  {
   "cell_type": "code",
   "execution_count": 39,
   "id": "951afe40-80fd-400c-a45f-96d808b839d3",
   "metadata": {},
   "outputs": [
    {
     "data": {
      "text/html": [
       "<div>\n",
       "<style scoped>\n",
       "    .dataframe tbody tr th:only-of-type {\n",
       "        vertical-align: middle;\n",
       "    }\n",
       "\n",
       "    .dataframe tbody tr th {\n",
       "        vertical-align: top;\n",
       "    }\n",
       "\n",
       "    .dataframe thead th {\n",
       "        text-align: right;\n",
       "    }\n",
       "</style>\n",
       "<table border=\"1\" class=\"dataframe\">\n",
       "  <thead>\n",
       "    <tr style=\"text-align: right;\">\n",
       "      <th></th>\n",
       "      <th>Автор</th>\n",
       "      <th>Средний рейтинг книг</th>\n",
       "    </tr>\n",
       "  </thead>\n",
       "  <tbody>\n",
       "    <tr>\n",
       "      <th>0</th>\n",
       "      <td>J.K. Rowling/Mary GrandPré</td>\n",
       "      <td>4.283844</td>\n",
       "    </tr>\n",
       "    <tr>\n",
       "      <th>1</th>\n",
       "      <td>Markus Zusak/Cao Xuân Việt Khương</td>\n",
       "      <td>4.264151</td>\n",
       "    </tr>\n",
       "    <tr>\n",
       "      <th>2</th>\n",
       "      <td>J.R.R. Tolkien</td>\n",
       "      <td>4.258446</td>\n",
       "    </tr>\n",
       "    <tr>\n",
       "      <th>3</th>\n",
       "      <td>Louisa May Alcott</td>\n",
       "      <td>4.192308</td>\n",
       "    </tr>\n",
       "    <tr>\n",
       "      <th>4</th>\n",
       "      <td>Rick Riordan</td>\n",
       "      <td>4.080645</td>\n",
       "    </tr>\n",
       "    <tr>\n",
       "      <th>5</th>\n",
       "      <td>William Golding</td>\n",
       "      <td>3.901408</td>\n",
       "    </tr>\n",
       "    <tr>\n",
       "      <th>6</th>\n",
       "      <td>J.D. Salinger</td>\n",
       "      <td>3.825581</td>\n",
       "    </tr>\n",
       "    <tr>\n",
       "      <th>7</th>\n",
       "      <td>Paulo Coelho/Alan R. Clarke/Özdemir İnce</td>\n",
       "      <td>3.789474</td>\n",
       "    </tr>\n",
       "    <tr>\n",
       "      <th>8</th>\n",
       "      <td>William Shakespeare/Paul Werstine/Barbara A. Mowat</td>\n",
       "      <td>3.787879</td>\n",
       "    </tr>\n",
       "    <tr>\n",
       "      <th>9</th>\n",
       "      <td>Dan Brown</td>\n",
       "      <td>3.754540</td>\n",
       "    </tr>\n",
       "    <tr>\n",
       "      <th>10</th>\n",
       "      <td>Lois Lowry</td>\n",
       "      <td>3.750000</td>\n",
       "    </tr>\n",
       "    <tr>\n",
       "      <th>11</th>\n",
       "      <td>George Orwell/Boris Grabnar/Peter Škerl</td>\n",
       "      <td>3.729730</td>\n",
       "    </tr>\n",
       "    <tr>\n",
       "      <th>12</th>\n",
       "      <td>Stephenie Meyer</td>\n",
       "      <td>3.662500</td>\n",
       "    </tr>\n",
       "    <tr>\n",
       "      <th>13</th>\n",
       "      <td>John Steinbeck</td>\n",
       "      <td>3.622951</td>\n",
       "    </tr>\n",
       "  </tbody>\n",
       "</table>\n",
       "</div>"
      ],
      "text/plain": [
       "                                                 Автор  Средний рейтинг книг\n",
       "0                           J.K. Rowling/Mary GrandPré              4.283844\n",
       "1                    Markus Zusak/Cao Xuân Việt Khương              4.264151\n",
       "2                                       J.R.R. Tolkien              4.258446\n",
       "3                                    Louisa May Alcott              4.192308\n",
       "4                                         Rick Riordan              4.080645\n",
       "5                                      William Golding              3.901408\n",
       "6                                        J.D. Salinger              3.825581\n",
       "7             Paulo Coelho/Alan R. Clarke/Özdemir İnce              3.789474\n",
       "8   William Shakespeare/Paul Werstine/Barbara A. Mowat              3.787879\n",
       "9                                            Dan Brown              3.754540\n",
       "10                                          Lois Lowry              3.750000\n",
       "11             George Orwell/Boris Grabnar/Peter Škerl              3.729730\n",
       "12                                     Stephenie Meyer              3.662500\n",
       "13                                      John Steinbeck              3.622951"
      ]
     },
     "execution_count": 39,
     "metadata": {},
     "output_type": "execute_result"
    }
   ],
   "source": [
    "book_high_rating"
   ]
  },
  {
   "cell_type": "markdown",
   "id": "03c4f434-2808-48a8-a336-54fcfec272c2",
   "metadata": {},
   "source": [
    "Автор с самой высокой средней оценкой книг J.K. Rowling."
   ]
  },
  {
   "cell_type": "markdown",
   "id": "ef13f522-1123-4aac-bee3-bf4ca6f816d5",
   "metadata": {},
   "source": [
    "### 3.5 Посчитайте среднее количество обзоров от пользователей, которые поставили больше 48 оценок."
   ]
  },
  {
   "cell_type": "code",
   "execution_count": 35,
   "id": "1a47c165-6704-4f16-a864-fa156fcc9ea0",
   "metadata": {},
   "outputs": [],
   "source": [
    "avg_review = '''\n",
    "WITH \n",
    "  t1 AS (SELECT username,\n",
    "               COUNT(rating_id)\n",
    "        FROM ratings\n",
    "        GROUP BY username\n",
    "        HAVING  COUNT(rating) > 48\n",
    "        ORDER BY COUNT(rating) DESC),\n",
    "  \n",
    "  t2 AS (SELECT username,\n",
    "               COUNT(review_id) AS cnt_rev\n",
    "        FROM reviews\n",
    "        GROUP BY username\n",
    "        ORDER BY AVG(review_id) DESC )\n",
    "   \n",
    "   SELECT AVG(cnt_rev) AS \"Cреднее количество обзоров\"\n",
    "   FROM t1\n",
    "   JOIN t2 ON t1.username = t2.username\n",
    "   \n",
    "       \n",
    "           '''     \n",
    "     \n",
    "avg_review = show(avg_review)"
   ]
  },
  {
   "cell_type": "code",
   "execution_count": 36,
   "id": "79900b8d-fd29-4bde-8a32-588d7e235ba5",
   "metadata": {},
   "outputs": [
    {
     "data": {
      "text/html": [
       "<div>\n",
       "<style scoped>\n",
       "    .dataframe tbody tr th:only-of-type {\n",
       "        vertical-align: middle;\n",
       "    }\n",
       "\n",
       "    .dataframe tbody tr th {\n",
       "        vertical-align: top;\n",
       "    }\n",
       "\n",
       "    .dataframe thead th {\n",
       "        text-align: right;\n",
       "    }\n",
       "</style>\n",
       "<table border=\"1\" class=\"dataframe\">\n",
       "  <thead>\n",
       "    <tr style=\"text-align: right;\">\n",
       "      <th></th>\n",
       "      <th>Cреднее количество обзоров</th>\n",
       "    </tr>\n",
       "  </thead>\n",
       "  <tbody>\n",
       "    <tr>\n",
       "      <th>0</th>\n",
       "      <td>24.0</td>\n",
       "    </tr>\n",
       "  </tbody>\n",
       "</table>\n",
       "</div>"
      ],
      "text/plain": [
       "   Cреднее количество обзоров\n",
       "0                        24.0"
      ]
     },
     "execution_count": 36,
     "metadata": {},
     "output_type": "execute_result"
    }
   ],
   "source": [
    "avg_review"
   ]
  },
  {
   "cell_type": "markdown",
   "id": "b0dd5f32-491f-4a65-b8b8-d6b170d753f3",
   "metadata": {},
   "source": [
    "Cреднее количество обзоров от пользователей, которые поставили больше 48 оценок 24."
   ]
  },
  {
   "cell_type": "markdown",
   "id": "a764e594-c534-459a-986c-ef63faf88ab1",
   "metadata": {},
   "source": [
    "## Вывод\n",
    "Была проанализирована БД крупного сервиса для чтения книг по подписке.\n",
    "Выявили, что \n",
    " - После 1 января 2000 года вышло 819 книг.\n",
    " - Больше всего обзоров у книги \"Twilight\" - 7, а ее рейтинг 3,66. Также Среди лидеров \"Harry Potter and the Prisoner of Azkaban\" и \"Harry Potter and the Chamber of Secrets\" с кол-вом обзоров - 6 и со средними оценками 4.41 и 4.29 соответственно. \"The Book Thief\"- 6 и рейтинг 4.26, \"The Glass Castle\" - 6 и рейтинг 4.21.\n",
    " - Больше всего книг выпустило издательство Penguin Books 42 книги.\n",
    " - Автор с самой высокой средней оценкой книг J.K. Rowling.\n",
    " - Cреднее количество обзоров от пользователей, которые поставили больше 48 оценок 24.\n",
    "\n",
    "\n",
    "На основе полученных данных сформулируем ценностное предложение для нового продукта:\n",
    "\n",
    "1. Выводить в топ свежие книги (вышедшие с 2000 года и позднее);\n",
    "\n",
    "2. Предлагать подписчикам книги, пользующиеся сейчас наибольшей популярностью.\n",
    "\n",
    "3. Предлагать книги издательств Penguin Books, как лидера среди издательств. \n",
    "\n",
    "4. Привлекать внимание пользователей к книгам популярных авторов J.K. Rowling/Mary GrandPré, Markus Zusak,J.R.R. Tolkien,Louisa May Alcott и т.д.\n"
   ]
  },
  {
   "cell_type": "code",
   "execution_count": null,
   "id": "c54d91be",
   "metadata": {},
   "outputs": [],
   "source": []
  }
 ],
 "metadata": {
  "ExecuteTimeLog": [
   {
    "duration": 493,
    "start_time": "2024-01-14T09:26:55.417Z"
   },
   {
    "duration": 4,
    "start_time": "2024-01-14T09:26:55.913Z"
   },
   {
    "duration": 8050,
    "start_time": "2024-01-14T09:26:55.919Z"
   },
   {
    "duration": 2,
    "start_time": "2024-01-14T09:27:03.971Z"
   },
   {
    "duration": 36,
    "start_time": "2024-01-14T09:27:03.974Z"
   },
   {
    "duration": 266,
    "start_time": "2024-01-14T09:27:04.012Z"
   },
   {
    "duration": 14,
    "start_time": "2024-01-14T09:27:04.279Z"
   },
   {
    "duration": 87,
    "start_time": "2024-01-14T09:27:04.295Z"
   },
   {
    "duration": 5,
    "start_time": "2024-01-14T09:27:04.383Z"
   },
   {
    "duration": 76,
    "start_time": "2024-01-14T09:27:04.391Z"
   },
   {
    "duration": 6,
    "start_time": "2024-01-14T09:27:04.468Z"
   },
   {
    "duration": 101,
    "start_time": "2024-01-14T09:27:04.475Z"
   },
   {
    "duration": 5,
    "start_time": "2024-01-14T09:27:04.577Z"
   },
   {
    "duration": 76,
    "start_time": "2024-01-14T09:27:04.583Z"
   },
   {
    "duration": 6,
    "start_time": "2024-01-14T09:27:04.661Z"
   },
   {
    "duration": 93,
    "start_time": "2024-01-14T09:27:04.669Z"
   },
   {
    "duration": 6,
    "start_time": "2024-01-14T09:27:04.763Z"
   },
   {
    "duration": 81,
    "start_time": "2024-01-14T09:27:04.771Z"
   },
   {
    "duration": 8,
    "start_time": "2024-01-14T09:27:04.853Z"
   },
   {
    "duration": 78,
    "start_time": "2024-01-14T09:27:04.862Z"
   },
   {
    "duration": 5,
    "start_time": "2024-01-14T09:27:04.942Z"
   },
   {
    "duration": 77,
    "start_time": "2024-01-14T09:27:04.949Z"
   },
   {
    "duration": 9,
    "start_time": "2024-01-14T09:27:05.028Z"
   },
   {
    "duration": 74,
    "start_time": "2024-01-14T09:27:05.039Z"
   },
   {
    "duration": 7,
    "start_time": "2024-01-14T09:27:05.115Z"
   },
   {
    "duration": 78,
    "start_time": "2024-01-14T09:27:05.124Z"
   },
   {
    "duration": 5,
    "start_time": "2024-01-14T09:27:05.203Z"
   },
   {
    "duration": 114,
    "start_time": "2024-01-14T09:27:05.211Z"
   },
   {
    "duration": 2,
    "start_time": "2024-01-14T09:27:05.327Z"
   },
   {
    "duration": 19,
    "start_time": "2024-01-14T09:27:05.330Z"
   },
   {
    "duration": 76,
    "start_time": "2024-01-14T09:27:05.350Z"
   },
   {
    "duration": 5,
    "start_time": "2024-01-14T09:27:05.428Z"
   },
   {
    "duration": 88,
    "start_time": "2024-01-14T09:27:05.435Z"
   },
   {
    "duration": 7,
    "start_time": "2024-01-14T09:27:05.524Z"
   },
   {
    "duration": 82,
    "start_time": "2024-01-14T09:27:05.533Z"
   },
   {
    "duration": 5,
    "start_time": "2024-01-14T09:27:05.617Z"
   },
   {
    "duration": 11,
    "start_time": "2024-01-14T09:52:59.671Z"
   },
   {
    "duration": 75,
    "start_time": "2024-01-14T09:54:00.741Z"
   },
   {
    "duration": 7,
    "start_time": "2024-01-14T09:54:01.623Z"
   }
  ],
  "kernelspec": {
   "display_name": "Python 3 (ipykernel)",
   "language": "python",
   "name": "python3"
  },
  "language_info": {
   "codemirror_mode": {
    "name": "ipython",
    "version": 3
   },
   "file_extension": ".py",
   "mimetype": "text/x-python",
   "name": "python",
   "nbconvert_exporter": "python",
   "pygments_lexer": "ipython3",
   "version": "3.9.5"
  },
  "toc": {
   "base_numbering": 1,
   "nav_menu": {},
   "number_sections": true,
   "sideBar": true,
   "skip_h1_title": true,
   "title_cell": "Table of Contents",
   "title_sidebar": "Contents",
   "toc_cell": false,
   "toc_position": {},
   "toc_section_display": true,
   "toc_window_display": false
  }
 },
 "nbformat": 4,
 "nbformat_minor": 5
}
