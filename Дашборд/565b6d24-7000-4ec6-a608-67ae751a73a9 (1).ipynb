{
 "cells": [
  {
   "cell_type": "markdown",
   "id": "1761e32b",
   "metadata": {},
   "source": [
    "<div  style=\"border-radius: 10px; box-shadow: 2px 2px 2px; border: 1px solid; padding: 10px \">\n",
    "\n",
    "**Ольга, привет!**\n",
    "\n",
    "Меня зовут Василий Митров и я буду проверять твой проект. Предлагаю общаться на «ты». Если это неприемлемо, то дай мне знать и мы перейдем на «вы». \n",
    "\n",
    "Для удобства я оставлю комментарии в отдельных ячейках Markdown с заголовком «Комментарий ревьюера». Пожалуйста, не перемещай, не изменяй и не удаляй их - так наше общение будет более продуктивным. Я буду использовать цветовую разметку:\n",
    "\n",
    "<div class=\"alert alert-danger\" style=\"border-radius: 10px; box-shadow: 2px 2px 2px; border: 1px solid; padding: 10px \">\n",
    "<b>Комментарий ревьюера</b> \n",
    "    \n",
    "✍ Так выделены самые важные замечания. Без их отработки проект не будет принят. При проверке я обращаю внимание не только на код, но и на интерпретацию и анализ результатов, а также соответствие данных техническому заданию.\n",
    "</div>\n",
    "\n",
    "<div class=\"alert alert-warning\" style=\"border-radius: 10px; box-shadow: 2px 2px 2px; border: 1px solid; padding: 10px \">\n",
    "<b>Комментарий ревьюера</b> \n",
    "    \n",
    "📝 Так выделены небольшие замечания или рекомендации. Постарайся, пожалуйста, учесть эти комментарии в этом проекте или в будущих проектах.\n",
    "</div>\n",
    "\n",
    "<div class=\"alert alert-success\" style=\"border-radius: 10px; box-shadow: 2px 2px 2px; border: 1px solid; padding: 10px \">\n",
    "<b>Комментарий ревьюера</b> \n",
    "    \n",
    "👍 Так выделены все остальные комментарии, включая рекомендации, позитивные моменты или какие-то рассуждения и пояснения.\n",
    "</div>\n",
    "\n",
    "\n",
    "    \n",
    "Давай работать над проектом в диалоге: если ты что-то меняешь в проекте или отвечаешь на мои комментарии — пиши об этом. Мне будет легче отследить изменения, если ты выделишь свои комментарии:\n",
    "\n",
    "<div class=\"alert alert-info\" style=\"border-radius: 10px; box-shadow: 2px 2px 2px; border: 1px solid; padding: 10px \"> \n",
    "<b>Комментарий студента</b> \n",
    "    \n",
    "Например, вот так. Также, если есть какие-то вопросы, или что-то осталось непонятным по ревью - спрашивай в таких блоках и я постараюсь дать ответ.\n",
    "</div>\n",
    "\n",
    "---"
   ]
  },
  {
   "cell_type": "markdown",
   "id": "9e98d6d5",
   "metadata": {},
   "source": [
    "<div class=\"alert alert-info\"; style=\"border-left: 7px solid SteelBlue\">\n",
    " Привет, Василий!\n",
    "    \n",
    " Приятно познакомиться!\n",
    "    \n",
    " Благодарю за ревью и рекомендации.\n",
    "    \n",
    " С наступающими праздниками, успехов и новых свершений!\n",
    "</div>"
   ]
  },
  {
   "cell_type": "markdown",
   "id": "a73194d7",
   "metadata": {},
   "source": [
    "<div class=\"alert alert-success\" style=\"border-radius: 10px; box-shadow: 2px 2px 2px; border: 1px solid; padding: 10px \">\n",
    "<b>Комментарий ревьюера v.2</b> \n",
    "    \n",
    "👍 \n",
    "Ольга, взаимно! :)\n",
    "</div>"
   ]
  },
  {
   "cell_type": "markdown",
   "id": "9b9f34e6",
   "metadata": {},
   "source": [
    "# Проект \"Исследование TED-конференций \""
   ]
  },
  {
   "cell_type": "markdown",
   "id": "404eb793",
   "metadata": {},
   "source": [
    "## Описание проекта:\n",
    "Некоммерческий фонд TED, проводит популярные конференции. На них выступают специалисты из разных областей и читают лекции на актуальные социальные, культурные и научные темы. \n",
    "Требуется исследовать историю TED-конференций с помощью Tableau и создать презентации из четырёх слайдов, содержащих:\n",
    " - дашборд «История выступлений»,\n",
    " - дашборд «Тематики выступлений»,\n",
    " - дашборд «Авторы выступлений»,\n",
    " - дашборд на свободную тему."
   ]
  },
  {
   "cell_type": "markdown",
   "id": "97ab3f4c",
   "metadata": {},
   "source": [
    "## Описание данных"
   ]
  },
  {
   "cell_type": "markdown",
   "id": "059f0a28",
   "metadata": {},
   "source": [
    "Файлы  - **tableau_project_data_1.csv, \n",
    "       - tableau_project_data_2.csv, \n",
    "       - tableau_project_data_3.csv**\n",
    "хранят данные выступлений. У них одинаковая структура:\n",
    "\n",
    " - **talk_id** — идентификатор выступления;\n",
    " - **url** — ссылка на запись выступления;\n",
    " - **title** — название выступления;\n",
    " - **description** — краткое описание;\n",
    " - **film_date** — дата записи выступления;\n",
    " - **duration** — длительность в секундах;\n",
    " - **views** — количество просмотров;\n",
    " - **main_tag** — основная категория, к которой относится выступление;\n",
    " - **speaker_id** — уникальный идентификатор автора выступления;\n",
    " - **laughter_count** — количество раз, когда аудитория смеялась в ходе выступления;\n",
    " - **applause_count** — количество раз, когда аудитория аплодировала в ходе выступления;\n",
    " - **language** — язык, на котором велось выступление;\n",
    " - **event_id** — уникальный идентификатор конференции.\n",
    "\n",
    "Файл **tableau_project_event_dict.csv** — справочник конференций.\n",
    "\n",
    " - **conf_id** — уникальный идентификатор конференции;\n",
    " - **event** — название конференции;\n",
    " - **country** — страна проведения конференции.\n",
    "\n",
    "Файл **tableau_project_speakers_dict.csv** — справочник авторов выступления. \n",
    "\n",
    " - **author_id** — уникальный идентификатор автора выступления;\n",
    " - **speaker_name** — имя автора;\n",
    " - **speaker_occupation** — профессиональная область автора;\n",
    " - **speaker_description** — описание профессиональной деятельности автора."
   ]
  },
  {
   "cell_type": "markdown",
   "id": "3d6ac290",
   "metadata": {},
   "source": [
    "<div class=\"alert alert-success\" style=\"border-radius: 10px; box-shadow: 2px 2px 2px; border: 1px solid; padding: 10px \">\n",
    "<b>Комментарий ревьюера v.1</b> \n",
    "    \n",
    "👍 \n",
    "Здорово, что есть описание задачи. Это поможет быстро вспомнить, о чем проект, если ты к нему вернешься спустя какое-то время.\n",
    "\n",
    "\n",
    "    \n",
    "\n",
    "</div>"
   ]
  },
  {
   "cell_type": "markdown",
   "id": "359d79fb",
   "metadata": {},
   "source": [
    "## Ссылка на презентацию\n",
    "\n"
   ]
  },
  {
   "cell_type": "markdown",
   "id": "282fb865",
   "metadata": {},
   "source": [
    "https://public.tableau.com/shared/MDY64N73R?:display_count=n&:origin=viz_share_link"
   ]
  },
  {
   "cell_type": "markdown",
   "id": "99171cc3",
   "metadata": {},
   "source": [
    "# История выступлений"
   ]
  },
  {
   "cell_type": "markdown",
   "id": "5152fcd4",
   "metadata": {},
   "source": [
    "<div class=\"alert alert-success\" style=\"border-radius: 10px; box-shadow: 2px 2px 2px; border: 1px solid; padding: 10px \">\n",
    "<b>Комментарий ревьюера v.1</b> \n",
    "    \n",
    "👍 \n",
    "Сделано хорошо:\n",
    "\n",
    "- дашборд соответствует макету;\n",
    "- правильно настроен Action на фильтрацию\n",
    "- выводы понятны и логичны.\n",
    "\n",
    "\n",
    "</div>"
   ]
  },
  {
   "cell_type": "markdown",
   "id": "d5f70bd6",
   "metadata": {},
   "source": [
    "# Тематика выступлений"
   ]
  },
  {
   "cell_type": "markdown",
   "id": "cfd0c3d7",
   "metadata": {},
   "source": [
    "<div class=\"alert alert-success\" style=\"border-radius: 10px; box-shadow: 2px 2px 2px; border: 1px solid; padding: 10px \">\n",
    "<b>Комментарий ревьюера v.1</b> \n",
    "    \n",
    "👍 \n",
    "    \n",
    "\n",
    "- дашборд соответствует макету;\n",
    "- правильно настроен Action на фильтрацию;\n",
    "- корректность вычисляемых полей;\n",
    "- всплывающие подсказки содержат нужные гистограммы\n",
    "- есть ответы на поставленные вопросы.\n",
    "</div>"
   ]
  },
  {
   "cell_type": "markdown",
   "id": "9806c891",
   "metadata": {},
   "source": [
    "# Авторы выступлений"
   ]
  },
  {
   "cell_type": "markdown",
   "id": "97fcc64d",
   "metadata": {},
   "source": [
    "<div class=\"alert alert-success\" style=\"border-radius: 10px; box-shadow: 2px 2px 2px; border: 1px solid; padding: 10px \">\n",
    "<b>Комментарий ревьюера v.1</b> \n",
    "    \n",
    "👍 \n",
    "- параметр Top-N  работает корректно,\n",
    "- на дашборде настроен Action, фильтрующий таблицы, также здорово, что таблицы отсортированы;\n",
    "- есть ответы на поставленные вопросы.\n",
    "</div>"
   ]
  },
  {
   "cell_type": "markdown",
   "id": "4aee0215",
   "metadata": {},
   "source": [
    "# Дашборд на свободную тему"
   ]
  },
  {
   "cell_type": "markdown",
   "id": "5573b6db",
   "metadata": {},
   "source": [
    "<div class=\"alert alert-success\" style=\"border-radius: 10px; box-shadow: 2px 2px 2px; border: 1px solid; padding: 10px \">\n",
    "<b>Комментарий ревьюера v.1</b> \n",
    "    \n",
    "👍 \n",
    "- здорово, что выполнен дашборд на свободную тему,\n",
    "- отлично подобраны типы визуализаций;\n",
    "- на дашборде есть выводы и наблюдения;\n",
    "\n",
    "</div>"
   ]
  },
  {
   "cell_type": "markdown",
   "id": "217797e8",
   "metadata": {},
   "source": [
    "<div style=\"border:solid blue 3px; padding: 20px\" >\n",
    "<div class=\"alert alert-success\">\n",
    "<b>Обратная связь v.1</b> \n",
    "    \n",
    "👋Ольга, у тебя получилась очень сильная и хорошая работа. Я готов принять твой проект и если у тебя не осталось каких-либо вопросов, то пришли свой проект на повторное ревью и он будет принят 😊\n",
    "\n",
    "* Если тебе интересна тема визуализации, то можешь пройти вот этот крутой и бесплатный курс по табло — https://tableau.pro/m01 (переходить по дням можно, если менять цифру в ссылке).\n",
    "\n",
    "* Потом советую посмотреть на такой инструмент, как Redash — https://redash.io/help/user-guide/getting-started. Это надстройка над SQL-запросами, которая позволяет строить красивые таблички и графики в веб-интерфейсе, а потом собирать из них дашборды. \n",
    "\n",
    "* А вот сайт Ромы Бунина — https://revealthedata.com/ По-моему мнению, он один из самых крутых специалистов по визуализации в России. У него есть телеграм канал, блог и много всего интересного, что поможет расширить знания по визуализации.\n",
    "\n",
    "* Знание BI-инструментов — это крайне полезно в работе аналитика, во многих вакансиях встречаются требования по инструментам для построения дашбордов.\n"
   ]
  },
  {
   "cell_type": "markdown",
   "id": "c231cfa7",
   "metadata": {},
   "source": [
    "<div style=\"border:solid indigo 3px; padding: 20px\">\n",
    "<div class=\"alert alert-success\">\n",
    "<b>Обратная связь v.2</b> \n",
    "    \n",
    "👋 \n",
    "      \n",
    "Ольга, спасибо тебе за  хорошую работу.\n",
    "    \n",
    "Поздравляю с успешным завершением проекта 🥳 🎉\n",
    "    \n",
    "И желаю успехов в новых работах 😊"
   ]
  },
  {
   "cell_type": "markdown",
   "id": "1c72e184",
   "metadata": {},
   "source": []
  }
 ],
 "metadata": {
  "kernelspec": {
   "display_name": "Python 3 (ipykernel)",
   "language": "python",
   "name": "python3"
  },
  "language_info": {
   "codemirror_mode": {
    "name": "ipython",
    "version": 3
   },
   "file_extension": ".py",
   "mimetype": "text/x-python",
   "name": "python",
   "nbconvert_exporter": "python",
   "pygments_lexer": "ipython3",
   "version": "3.9.5"
  },
  "toc": {
   "base_numbering": 1,
   "nav_menu": {},
   "number_sections": true,
   "sideBar": true,
   "skip_h1_title": true,
   "title_cell": "Table of Contents",
   "title_sidebar": "Contents",
   "toc_cell": false,
   "toc_position": {},
   "toc_section_display": true,
   "toc_window_display": false
  }
 },
 "nbformat": 4,
 "nbformat_minor": 5
}
